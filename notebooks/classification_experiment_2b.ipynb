{
 "cells": [
  {
   "cell_type": "code",
   "execution_count": 1,
   "metadata": {
    "collapsed": true,
    "pycharm": {
     "is_executing": false
    }
   },
   "outputs": [],
   "source": [
    "import numpy as np\n",
    "from scipy.stats import pearsonr\n",
    "import spacy\n",
    "from sklearn.ensemble import RandomForestClassifier, RandomForestRegressor\n",
    "from sklearn.model_selection import cross_val_score, KFold\n",
    "from tqdm import tqdm\n",
    "from essay_evaluation.corpus import read_flip_texts\n",
    "from essay_evaluation.lexical_variation_taaled import TaaledTokenClassifier, LexicalAccuracyTaaled\n",
    "import pandas as pd"
   ]
  },
  {
   "cell_type": "markdown",
   "source": [
    "## Experiment 2b)\n",
    "Remove A1 & A2 from the dataset and add the level as a features (e.g. B1 = 1, B2 = 2, C1 = 3)"
   ],
   "metadata": {
    "collapsed": false,
    "pycharm": {
     "name": "#%% md\n"
    }
   }
  },
  {
   "cell_type": "code",
   "execution_count": 2,
   "outputs": [],
   "source": [
    "flip_path = '/home/simon/Downloads/flip.csv'\n",
    "levels = ['B1.1', 'B1.2', 'B2.1', 'B2.2', 'C1.1']\n"
   ],
   "metadata": {
    "collapsed": false,
    "pycharm": {
     "name": "#%%\n",
     "is_executing": false
    }
   }
  },
  {
   "cell_type": "code",
   "execution_count": 3,
   "outputs": [],
   "source": [
    "nlp = spacy.load(\"en_core_web_sm\")\n",
    "nlp.add_pipe(TaaledTokenClassifier(), name=TaaledTokenClassifier.name, last=True)\n",
    "nlp.add_pipe(LexicalAccuracyTaaled(), name=LexicalAccuracyTaaled.name, last=True)\n",
    "nlp.remove_pipe('ner')\n",
    "texts, grades, text_levels = read_flip_texts(flip_path, levels=levels)"
   ],
   "metadata": {
    "collapsed": false,
    "pycharm": {
     "name": "#%%\n",
     "is_executing": false
    }
   }
  },
  {
   "cell_type": "markdown",
   "source": [
    "## 1. Preproccessing"
   ],
   "metadata": {
    "collapsed": false,
    "pycharm": {
     "name": "#%% md\n"
    }
   }
  },
  {
   "cell_type": "code",
   "execution_count": 4,
   "outputs": [
    {
     "name": "stderr",
     "text": [
      "100%|██████████| 308/308 [01:30<00:00,  3.42it/s]\n"
     ],
     "output_type": "stream"
    }
   ],
   "source": [
    "level_mapping = {\n",
    "    'B1.1': 1,\n",
    "    'B1.2': 1,\n",
    "    'B2.1': 2,\n",
    "    'B2.2': 2,\n",
    "    'C1.1': 3\n",
    "}\n",
    "    \n",
    "X = []\n",
    "feature_names = None\n",
    "for index, doc in tqdm(enumerate(nlp.pipe(texts)), total=len(texts)):\n",
    "    if feature_names is None:\n",
    "        feature_names = list(doc._.features.keys()) + ['LEVEL']\n",
    "    level = level_mapping[text_levels[index]]\n",
    "    X.append(list(doc._.features.values()) + [level])"
   ],
   "metadata": {
    "collapsed": false,
    "pycharm": {
     "name": "#%%\n",
     "is_executing": false
    }
   }
  },
  {
   "cell_type": "code",
   "execution_count": 5,
   "outputs": [],
   "source": [
    "X = np.array(X)\n",
    "y = np.array(grades)\n",
    "\n",
    "df = pd.DataFrame(X, columns=feature_names)\n",
    "df.insert(len(feature_names),'AVG_VOCAB_GRADE', y)\n",
    "\n",
    "# Cross validation split\n",
    "cv = KFold(10, True)\n",
    "\n",
    "def pearsonr_scorer(estimator, X, y):\n",
    "    pred = estimator.predict(X)\n",
    "    r, pval = pearsonr(y, pred)\n",
    "    return r"
   ],
   "metadata": {
    "collapsed": false,
    "pycharm": {
     "name": "#%%\n",
     "is_executing": false
    }
   }
  },
  {
   "cell_type": "markdown",
   "source": [
    "## 2. Regression"
   ],
   "metadata": {
    "collapsed": false,
    "pycharm": {
     "name": "#%% md\n"
    }
   }
  },
  {
   "cell_type": "code",
   "execution_count": 6,
   "outputs": [
    {
     "name": "stdout",
     "text": [
      "Pearson r: 0.42 (+/- 0.25)\n",
      "[0.41478631 0.580842   0.37581343 0.12146043 0.5073765  0.55783741\n",
      " 0.48344183 0.45410671 0.30289985 0.4279086 ]\n"
     ],
     "output_type": "stream"
    }
   ],
   "source": [
    "clf = RandomForestRegressor(n_estimators=100)\n",
    "reg_pearson = cross_val_score(clf, X, y, cv=cv, scoring=pearsonr_scorer)\n",
    "print(\"Pearson r: %0.2f (+/- %0.2f)\" % (reg_pearson.mean(), reg_pearson.std() * 2))\n",
    "print(reg_pearson)"
   ],
   "metadata": {
    "collapsed": false,
    "pycharm": {
     "name": "#%%\n",
     "is_executing": false
    }
   }
  },
  {
   "cell_type": "markdown",
   "source": [
    "## 3. Classification"
   ],
   "metadata": {
    "collapsed": false
   }
  },
  {
   "cell_type": "code",
   "execution_count": 7,
   "outputs": [
    {
     "name": "stdout",
     "text": [
      "Pearson r: 0.20 (+/- 0.38)\n",
      "[ 0.1738854   0.44263638  0.33495786  0.20262471  0.08783671  0.01575047\n",
      "  0.38953985 -0.01309794 -0.08908708  0.45331954]\n"
     ],
     "output_type": "stream"
    }
   ],
   "source": [
    "clf = RandomForestClassifier(n_estimators=100)\n",
    "y_int = y.astype(int)\n",
    "clf_pearson = cross_val_score(clf, X, y_int, cv=cv, scoring=pearsonr_scorer)\n",
    "print(\"Pearson r: %0.2f (+/- %0.2f)\" % (clf_pearson.mean(), clf_pearson.std() * 2))\n",
    "print(clf_pearson)"
   ],
   "metadata": {
    "collapsed": false,
    "pycharm": {
     "name": "#%%\n",
     "is_executing": false
    }
   }
  },
  {
   "cell_type": "code",
   "execution_count": 8,
   "outputs": [
    {
     "data": {
      "text/plain": "     TAALED_TTR_AW  TAALED_MAAS_TTR_AW  TAALED_MTLD_MA_WRAP_AW  \\\n0         5.659453            0.068980               28.911765   \n1         6.310373            0.063681               49.346821   \n2         6.851458            0.061581               44.561947   \n3         6.634387            0.066385               40.698113   \n4         6.794507            0.063674               53.036290   \n..             ...                 ...                     ...   \n303       7.435027            0.053840               67.199052   \n304       8.277330            0.051174               64.425532   \n305       6.949586            0.061839               50.764228   \n306       6.709937            0.058237               53.441860   \n307       9.233851            0.040623               91.688000   \n\n     TAALED_MTLD_MA_WRAP_CW  TAALED_MAAS_TTR_CW  TAALED_BASIC_NCONTENT_TOKENS  \\\n0                 25.467742            0.059244                          62.0   \n1                 54.632911            0.048140                          79.0   \n2                 80.941176            0.038706                          85.0   \n3                 50.840000            0.061031                         100.0   \n4                 51.575472            0.051780                         106.0   \n..                      ...                 ...                           ...   \n303               75.033708            0.041314                          89.0   \n304               58.528169            0.042753                         142.0   \n305               36.646465            0.058306                          99.0   \n306               39.073529            0.053392                          68.0   \n307              124.345133            0.028159                         119.0   \n\n     TAALED_BASIC_NFUNCTION_TYPES  LEVEL  AVG_VOCAB_GRADE  \n0                            26.0    1.0              3.0  \n1                            30.0    2.0              2.0  \n2                            42.0    2.0              3.0  \n3                            51.0    1.0              3.0  \n4                            42.0    2.0              2.5  \n..                            ...    ...              ...  \n303                          46.0    3.0              3.0  \n304                          49.0    3.0              3.5  \n305                          51.0    2.0              3.0  \n306                          43.0    1.0              2.0  \n307                          56.0    2.0              3.0  \n\n[308 rows x 9 columns]",
      "text/html": "<div>\n<style scoped>\n    .dataframe tbody tr th:only-of-type {\n        vertical-align: middle;\n    }\n\n    .dataframe tbody tr th {\n        vertical-align: top;\n    }\n\n    .dataframe thead th {\n        text-align: right;\n    }\n</style>\n<table border=\"1\" class=\"dataframe\">\n  <thead>\n    <tr style=\"text-align: right;\">\n      <th></th>\n      <th>TAALED_TTR_AW</th>\n      <th>TAALED_MAAS_TTR_AW</th>\n      <th>TAALED_MTLD_MA_WRAP_AW</th>\n      <th>TAALED_MTLD_MA_WRAP_CW</th>\n      <th>TAALED_MAAS_TTR_CW</th>\n      <th>TAALED_BASIC_NCONTENT_TOKENS</th>\n      <th>TAALED_BASIC_NFUNCTION_TYPES</th>\n      <th>LEVEL</th>\n      <th>AVG_VOCAB_GRADE</th>\n    </tr>\n  </thead>\n  <tbody>\n    <tr>\n      <th>0</th>\n      <td>5.659453</td>\n      <td>0.068980</td>\n      <td>28.911765</td>\n      <td>25.467742</td>\n      <td>0.059244</td>\n      <td>62.0</td>\n      <td>26.0</td>\n      <td>1.0</td>\n      <td>3.0</td>\n    </tr>\n    <tr>\n      <th>1</th>\n      <td>6.310373</td>\n      <td>0.063681</td>\n      <td>49.346821</td>\n      <td>54.632911</td>\n      <td>0.048140</td>\n      <td>79.0</td>\n      <td>30.0</td>\n      <td>2.0</td>\n      <td>2.0</td>\n    </tr>\n    <tr>\n      <th>2</th>\n      <td>6.851458</td>\n      <td>0.061581</td>\n      <td>44.561947</td>\n      <td>80.941176</td>\n      <td>0.038706</td>\n      <td>85.0</td>\n      <td>42.0</td>\n      <td>2.0</td>\n      <td>3.0</td>\n    </tr>\n    <tr>\n      <th>3</th>\n      <td>6.634387</td>\n      <td>0.066385</td>\n      <td>40.698113</td>\n      <td>50.840000</td>\n      <td>0.061031</td>\n      <td>100.0</td>\n      <td>51.0</td>\n      <td>1.0</td>\n      <td>3.0</td>\n    </tr>\n    <tr>\n      <th>4</th>\n      <td>6.794507</td>\n      <td>0.063674</td>\n      <td>53.036290</td>\n      <td>51.575472</td>\n      <td>0.051780</td>\n      <td>106.0</td>\n      <td>42.0</td>\n      <td>2.0</td>\n      <td>2.5</td>\n    </tr>\n    <tr>\n      <th>...</th>\n      <td>...</td>\n      <td>...</td>\n      <td>...</td>\n      <td>...</td>\n      <td>...</td>\n      <td>...</td>\n      <td>...</td>\n      <td>...</td>\n      <td>...</td>\n    </tr>\n    <tr>\n      <th>303</th>\n      <td>7.435027</td>\n      <td>0.053840</td>\n      <td>67.199052</td>\n      <td>75.033708</td>\n      <td>0.041314</td>\n      <td>89.0</td>\n      <td>46.0</td>\n      <td>3.0</td>\n      <td>3.0</td>\n    </tr>\n    <tr>\n      <th>304</th>\n      <td>8.277330</td>\n      <td>0.051174</td>\n      <td>64.425532</td>\n      <td>58.528169</td>\n      <td>0.042753</td>\n      <td>142.0</td>\n      <td>49.0</td>\n      <td>3.0</td>\n      <td>3.5</td>\n    </tr>\n    <tr>\n      <th>305</th>\n      <td>6.949586</td>\n      <td>0.061839</td>\n      <td>50.764228</td>\n      <td>36.646465</td>\n      <td>0.058306</td>\n      <td>99.0</td>\n      <td>51.0</td>\n      <td>2.0</td>\n      <td>3.0</td>\n    </tr>\n    <tr>\n      <th>306</th>\n      <td>6.709937</td>\n      <td>0.058237</td>\n      <td>53.441860</td>\n      <td>39.073529</td>\n      <td>0.053392</td>\n      <td>68.0</td>\n      <td>43.0</td>\n      <td>1.0</td>\n      <td>2.0</td>\n    </tr>\n    <tr>\n      <th>307</th>\n      <td>9.233851</td>\n      <td>0.040623</td>\n      <td>91.688000</td>\n      <td>124.345133</td>\n      <td>0.028159</td>\n      <td>119.0</td>\n      <td>56.0</td>\n      <td>2.0</td>\n      <td>3.0</td>\n    </tr>\n  </tbody>\n</table>\n<p>308 rows × 9 columns</p>\n</div>"
     },
     "metadata": {},
     "output_type": "execute_result",
     "execution_count": 8
    }
   ],
   "source": [
    "df"
   ],
   "metadata": {
    "collapsed": false,
    "pycharm": {
     "name": "#%%\n",
     "is_executing": false
    }
   }
  },
  {
   "cell_type": "code",
   "execution_count": null,
   "outputs": [],
   "source": [
    "\n"
   ],
   "metadata": {
    "collapsed": false,
    "pycharm": {
     "name": "#%%\n"
    }
   }
  }
 ],
 "metadata": {
  "kernelspec": {
   "display_name": "Python 3",
   "language": "python",
   "name": "python3"
  },
  "language_info": {
   "codemirror_mode": {
    "name": "ipython",
    "version": 2
   },
   "file_extension": ".py",
   "mimetype": "text/x-python",
   "name": "python",
   "nbconvert_exporter": "python",
   "pygments_lexer": "ipython2",
   "version": "2.7.6"
  },
  "pycharm": {
   "stem_cell": {
    "cell_type": "raw",
    "source": [],
    "metadata": {
     "collapsed": false
    }
   }
  }
 },
 "nbformat": 4,
 "nbformat_minor": 0
}