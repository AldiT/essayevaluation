{
 "cells": [
  {
   "cell_type": "code",
   "execution_count": 1,
   "metadata": {},
   "outputs": [],
   "source": [
    "from essay_evaluation.pipeline import Pipeline\n",
    "import spacy\n",
    "import numpy as np\n",
    "import csv\n",
    "import os\n",
    "import sys\n",
    "from tqdm.notebook import tqdm"
   ]
  },
  {
   "cell_type": "code",
   "execution_count": 2,
   "metadata": {},
   "outputs": [],
   "source": [
    "##Get the dataset\n",
    "ds_path = \"/usr/local/datasets/flip_new.csv\"\n",
    "\n",
    "texts = []\n",
    "levels = []\n",
    "\n",
    "f = open(ds_path)\n",
    "csvreader = csv.DictReader(f)\n",
    "\n",
    "for row in csvreader:\n",
    "    texts.append(row['Essay'])\n",
    "    levels.append(row['Level'])\n",
    "f.close()"
   ]
  },
  {
   "cell_type": "code",
   "execution_count": 3,
   "metadata": {},
   "outputs": [],
   "source": [
    "pipeline = Pipeline().repetition_detector()"
   ]
  },
  {
   "cell_type": "code",
   "execution_count": 4,
   "metadata": {},
   "outputs": [
    {
     "data": {
      "application/vnd.jupyter.widget-view+json": {
       "model_id": "b55d0ade12ed41979aa22ce388201892",
       "version_major": 2,
       "version_minor": 0
      },
      "text/plain": [
       "HBox(children=(FloatProgress(value=0.0, max=489.0), HTML(value='')))"
      ]
     },
     "metadata": {},
     "output_type": "display_data"
    },
    {
     "name": "stdout",
     "output_type": "stream",
     "text": [
      "\n"
     ]
    }
   ],
   "source": [
    "docs = []\n",
    "for text in tqdm(texts):\n",
    "    docs.append(pipeline(text))"
   ]
  },
  {
   "cell_type": "code",
   "execution_count": 5,
   "metadata": {},
   "outputs": [],
   "source": [
    "\n",
    "font = {'family': 'serif',\n",
    "        'color':  'darkred',\n",
    "        'weight': 'normal',\n",
    "        'size': 16,\n",
    "        }"
   ]
  },
  {
   "cell_type": "code",
   "execution_count": null,
   "metadata": {},
   "outputs": [],
   "source": []
  },
  {
   "cell_type": "markdown",
   "metadata": {},
   "source": [
    "## #repetitions per essay"
   ]
  },
  {
   "cell_type": "code",
   "execution_count": 7,
   "metadata": {},
   "outputs": [
    {
     "data": {
      "application/vnd.jupyter.widget-view+json": {
       "model_id": "503ed1b52d2a4f2ea5b637a943859e13",
       "version_major": 2,
       "version_minor": 0
      },
      "text/plain": [
       "HBox(children=(FloatProgress(value=1.0, bar_style='info', max=1.0), HTML(value='')))"
      ]
     },
     "metadata": {},
     "output_type": "display_data"
    },
    {
     "name": "stdout",
     "output_type": "stream",
     "text": [
      "\n",
      "4\n"
     ]
    }
   ],
   "source": [
    "repetitions_per_essay = [0 for doc in docs]\n",
    "\n",
    "\n",
    "for idx, doc in tqdm(enumerate(docs)):\n",
    "    if idx == 478:\n",
    "        continue\n",
    "        \n",
    "    for token in doc:\n",
    "        if token._.is_repetition == True:\n",
    "            repetitions_per_essay[idx] += 1\n",
    "zeros = len([elem for elem in repetitions_per_essay if elem == 0])\n",
    "print(zeros)"
   ]
  },
  {
   "cell_type": "code",
   "execution_count": 8,
   "metadata": {},
   "outputs": [
    {
     "name": "stdout",
     "output_type": "stream",
     "text": [
      "105\n",
      "140\n",
      "412\n",
      "478\n"
     ]
    }
   ],
   "source": [
    "for idx, elem in enumerate(repetitions_per_essay):\n",
    "    if elem == 0:\n",
    "        print(idx)"
   ]
  },
  {
   "cell_type": "code",
   "execution_count": null,
   "metadata": {},
   "outputs": [],
   "source": []
  },
  {
   "cell_type": "code",
   "execution_count": 9,
   "metadata": {},
   "outputs": [
    {
     "name": "stdout",
     "output_type": "stream",
     "text": [
      "#Repetitions per essay\n",
      "Mean:  149.48261758691206\n",
      "Min:  0\n",
      "Max:  2018\n",
      "Median:  45.0\n",
      "Zeros:  4  Percentage: 0.81799591002045% ----- These two essays are outliers.\n"
     ]
    }
   ],
   "source": [
    "#mean, min, max, 0-values\n",
    "arr = np.array(repetitions_per_essay)\n",
    "print(\"#Repetitions per essay\")\n",
    "print(\"Mean: \", np.mean(arr))\n",
    "print(\"Min: \", np.min(arr))\n",
    "print(\"Max: \", np.max(arr))\n",
    "print(\"Median: \", np.median(arr))\n",
    "print(\"Zeros: \", zeros, f\" Percentage: {zeros/len(docs) * 100}% ----- These two essays are outliers.\")"
   ]
  },
  {
   "cell_type": "code",
   "execution_count": null,
   "metadata": {},
   "outputs": [],
   "source": []
  },
  {
   "cell_type": "markdown",
   "metadata": {},
   "source": [
    "## #repeated words per essay"
   ]
  },
  {
   "cell_type": "code",
   "execution_count": 11,
   "metadata": {},
   "outputs": [
    {
     "data": {
      "application/vnd.jupyter.widget-view+json": {
       "model_id": "e2933c6e567141158316e64128164e2d",
       "version_major": 2,
       "version_minor": 0
      },
      "text/plain": [
       "HBox(children=(FloatProgress(value=1.0, bar_style='info', max=1.0), HTML(value='')))"
      ]
     },
     "metadata": {},
     "output_type": "display_data"
    },
    {
     "name": "stdout",
     "output_type": "stream",
     "text": [
      "\n"
     ]
    }
   ],
   "source": [
    "from collections import defaultdict\n",
    "repeated_words = defaultdict(lambda : 1)\n",
    "num_words_per_essay = []\n",
    "\n",
    "for idx, doc in tqdm(enumerate(docs)):\n",
    "    if idx == 478:\n",
    "        continue\n",
    "    for token in doc:\n",
    "        if token._.is_repetition:\n",
    "            repeated_words[token.lemma_] = 1\n",
    "    num_words_per_essay.append(len(repeated_words))\n",
    "    repeated_words = defaultdict(lambda : 1)\n",
    "zeros = len([elem for elem in num_words_per_essay if elem == 0])"
   ]
  },
  {
   "cell_type": "code",
   "execution_count": 12,
   "metadata": {},
   "outputs": [
    {
     "name": "stdout",
     "output_type": "stream",
     "text": [
      "#unique words repeated per essay\n",
      "Mean:  44.18032786885246\n",
      "Min:  0\n",
      "Max:  398\n",
      "Median:  17.0\n",
      "Zeros:  3  Percentage: 0.6134969325153374% ----- These two essays are outliers.\n"
     ]
    }
   ],
   "source": [
    "arr = np.array(num_words_per_essay)\n",
    "print(\"#unique words repeated per essay\")\n",
    "print(\"Mean: \", np.mean(arr))\n",
    "print(\"Min: \", np.min(arr))\n",
    "print(\"Max: \", np.max(arr))\n",
    "print(\"Median: \", np.median(arr))\n",
    "print(\"Zeros: \", zeros, f\" Percentage: {zeros/len(docs) * 100}% ----- These two essays are outliers.\")"
   ]
  },
  {
   "cell_type": "markdown",
   "metadata": {},
   "source": [
    "## #repetitions per sentence"
   ]
  },
  {
   "cell_type": "code",
   "execution_count": 14,
   "metadata": {},
   "outputs": [
    {
     "data": {
      "text/plain": [
       "9"
      ]
     },
     "execution_count": 14,
     "metadata": {},
     "output_type": "execute_result"
    }
   ],
   "source": [
    "repetition_per_sentence = []\n",
    "repetitions = defaultdict(lambda:0)\n",
    "\n",
    "for idx, doc in enumerate(docs):\n",
    "    if idx == 478:\n",
    "        continue\n",
    "    repetitions = defaultdict(lambda:0)\n",
    "    for idx, sent in enumerate(doc.sents):\n",
    "        for token in sent:\n",
    "            if token._.is_repetition == True:\n",
    "                repetitions[idx] += 1\n",
    "    repetition_per_sentence.append(list(repetitions.values()))\n",
    "len(repetition_per_sentence[0])"
   ]
  },
  {
   "cell_type": "code",
   "execution_count": 15,
   "metadata": {},
   "outputs": [
    {
     "data": {
      "text/plain": [
       "defaultdict(<function __main__.<lambda>()>,\n",
       "            {0: 6,\n",
       "             1: 13,\n",
       "             2: 18,\n",
       "             3: 9,\n",
       "             4: 12,\n",
       "             5: 13,\n",
       "             6: 8,\n",
       "             7: 5,\n",
       "             8: 3,\n",
       "             9: 15,\n",
       "             10: 10,\n",
       "             11: 14,\n",
       "             12: 11,\n",
       "             13: 12,\n",
       "             14: 16,\n",
       "             15: 9,\n",
       "             16: 6,\n",
       "             17: 4,\n",
       "             18: 9,\n",
       "             19: 25,\n",
       "             20: 7,\n",
       "             21: 6,\n",
       "             22: 12,\n",
       "             23: 4,\n",
       "             24: 2,\n",
       "             25: 17,\n",
       "             26: 27,\n",
       "             27: 15,\n",
       "             28: 9,\n",
       "             29: 18,\n",
       "             30: 4,\n",
       "             31: 18,\n",
       "             32: 7})"
      ]
     },
     "execution_count": 15,
     "metadata": {},
     "output_type": "execute_result"
    }
   ],
   "source": [
    "repetitions"
   ]
  },
  {
   "cell_type": "code",
   "execution_count": 16,
   "metadata": {},
   "outputs": [
    {
     "name": "stdout",
     "output_type": "stream",
     "text": [
      "#Repetitions per sentence\n",
      "Mean:  5.372804116133774\n",
      "Min:  1\n",
      "Max:  54\n",
      "Median:  4.0\n",
      "Zeros:  2011  Percentage: 12.283166381627169%\n"
     ]
    }
   ],
   "source": [
    "final_reps_per_sent = []\n",
    "for row in repetition_per_sentence:\n",
    "    final_reps_per_sent += row\n",
    "    \n",
    "zeros = len([elem for elem in final_reps_per_sent if elem == 0])\n",
    "\n",
    "arr = np.array(final_reps_per_sent)\n",
    "print(\"#Repetitions per sentence\")\n",
    "print(\"Mean: \", np.mean(arr))\n",
    "print(\"Min: \", np.min(arr))\n",
    "print(\"Max: \", np.max(arr))\n",
    "print(\"Median: \", np.median(arr))\n",
    "print(\"Zeros: \", 2011, f\" Percentage: {2011/16372 * 100}%\")"
   ]
  },
  {
   "cell_type": "markdown",
   "metadata": {},
   "source": [
    "## # repeated words per sentence"
   ]
  },
  {
   "cell_type": "code",
   "execution_count": 17,
   "metadata": {},
   "outputs": [
    {
     "data": {
      "text/plain": [
       "15511"
      ]
     },
     "execution_count": 17,
     "metadata": {},
     "output_type": "execute_result"
    }
   ],
   "source": [
    "words_per_sentence = []\n",
    "repetitions = defaultdict(lambda:0)\n",
    "\n",
    "for idx, doc in enumerate(docs):\n",
    "    if idx == 478:\n",
    "        continue\n",
    "    for idx, sent in enumerate(doc.sents):\n",
    "        repetitions = defaultdict(lambda:0)\n",
    "        for token in sent:\n",
    "            if token._.is_repetition:\n",
    "                repetitions[token.lemma_] = 1\n",
    "        words_per_sentence.append(len(repetitions))\n",
    "len(words_per_sentence)"
   ]
  },
  {
   "cell_type": "code",
   "execution_count": 18,
   "metadata": {},
   "outputs": [
    {
     "name": "stdout",
     "output_type": "stream",
     "text": [
      "#unique words repeated per sentence\n",
      "Mean:  4.418799561601444\n",
      "Min:  0\n",
      "Max:  46\n",
      "Median:  3.0\n",
      "Zeros:  1906  Percentage: 12.288053639352716%\n"
     ]
    }
   ],
   "source": [
    "zeros = len([elem for elem in words_per_sentence if elem == 0])\n",
    "\n",
    "arr = np.array(words_per_sentence)\n",
    "print(\"#unique words repeated per sentence\")\n",
    "print(\"Mean: \", np.mean(arr))\n",
    "print(\"Min: \", np.min(arr))\n",
    "print(\"Max: \", np.max(arr))\n",
    "print(\"Median: \", np.median(arr))\n",
    "print(\"Zeros: \", zeros, f\" Percentage: {zeros/len(words_per_sentence) * 100}%\")"
   ]
  },
  {
   "cell_type": "code",
   "execution_count": null,
   "metadata": {},
   "outputs": [],
   "source": []
  },
  {
   "cell_type": "code",
   "execution_count": null,
   "metadata": {},
   "outputs": [],
   "source": []
  }
 ],
 "metadata": {
  "kernelspec": {
   "display_name": "Python 3.7.5 64-bit",
   "language": "python",
   "name": "python37564bit35994581247b4ffea65b59a4135c482f"
  },
  "language_info": {
   "codemirror_mode": {
    "name": "ipython",
    "version": 3
   },
   "file_extension": ".py",
   "mimetype": "text/x-python",
   "name": "python",
   "nbconvert_exporter": "python",
   "pygments_lexer": "ipython3",
   "version": "3.7.6"
  }
 },
 "nbformat": 4,
 "nbformat_minor": 2
}
