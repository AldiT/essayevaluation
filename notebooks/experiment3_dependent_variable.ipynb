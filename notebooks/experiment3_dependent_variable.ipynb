{
 "cells": [
  {
   "cell_type": "code",
   "execution_count": 1,
   "metadata": {
    "collapsed": true,
    "pycharm": {
     "is_executing": false
    }
   },
   "outputs": [],
   "source": [
    "import csv\n",
    "import pandas as pd\n",
    "import itertools"
   ]
  },
  {
   "cell_type": "markdown",
   "source": [
    "## Setup"
   ],
   "metadata": {
    "collapsed": false,
    "pycharm": {
     "name": "#%% md\n"
    }
   }
  },
  {
   "cell_type": "code",
   "execution_count": 2,
   "outputs": [],
   "source": [
    "path_bawe_csv = '/home/simon/Downloads/BAWE_data.csv'\n",
    "path_flip_csv = '/home/simon/Downloads/flip_data.csv'\n",
    "path_result_dir = '/home/simon/Downloads/flipcorrelation/' # All results will be saved here. Has to be a directory. \n",
    "                                                           # Don't forget the trailing slash (/)!"
   ],
   "metadata": {
    "collapsed": false,
    "pycharm": {
     "name": "#%% \n",
     "is_executing": false
    }
   }
  },
  {
   "cell_type": "markdown",
   "source": [
    "## Dataset\n",
    "Prepare the dataset. The source files are `BAWE_data.csv` and `flip_data.csv`. The preprocessed combined result can be \n",
    "found in the summary Google sheet. "
   ],
   "metadata": {
    "collapsed": false
   }
  },
  {
   "cell_type": "code",
   "execution_count": 3,
   "outputs": [
    {
     "data": {
      "text/plain": "                                         Observation   ID  \\\n0         001__Janina_Christina_Andreß__Pre-Test.txt    1   \n1    002__Abdelrahman_Munir_Awad_Assaf__Pre-Test.txt    2   \n2                     004__Annika_Bäum__Pre-Test.txt    4   \n3              005__Lena_Marie_Baumann__Pre-Test.txt    5   \n4                007__Tekle_Berishvili__Pre-Test.txt    7   \n..                                               ...  ...   \n484                                               96   96   \n485                                               97   97   \n486                                               98   98   \n487                                               99   99   \n488                                              100  100   \n\n                            Student   Session Level_Specific Level Level_Num  \\\n0             Janina.Andress@lmu.de  Pre-Test           B1.1    B1         3   \n1             A.Assaf@campus.lmu.de  Pre-Test           B2.1    B2         4   \n2             A.Baeum@campus.lmu.de  Pre-Test           B2.1    B2         4   \n3           L.Baumann@campus.lmu.de  Pre-Test           B1.1    B1         3   \n4    Tekle.Berishvili@campus.lmu.de  Pre-Test           A2.1    A2         2   \n..                              ...       ...            ...   ...       ...   \n484                          BAWE96                       21    C2         6   \n485                          BAWE97                       21    C2         6   \n486                          BAWE98                       21    C2         6   \n487                          BAWE99                       21    C2         6   \n488                         BAWE100                       21    C2         6   \n\n    Level_Grade_Num Content_Grade_AVG Organiz_Grade_AVG  ...  \\\n0                11                 2                 2  ...   \n1                14                 3                 2  ...   \n2                15               3.5               2.5  ...   \n3                12                 4                 4  ...   \n4                 8               3.5                 3  ...   \n..              ...               ...               ...  ...   \n484              21                 1                 1  ...   \n485              21                 1                 1  ...   \n486              21                 1                 1  ...   \n487              21                 1                 1  ...   \n488              21                 1                 1  ...   \n\n    M_LEVEL_ORGANIZATION_VOCAB_GRAMMAR M_LEVEL_ORGANIZATION_VOCAB_MECHANICS  \\\n0                                 31.5                                 32.0   \n1                                 41.5                                 42.0   \n2                                 44.0                                 44.0   \n3                                 34.0                                 35.0   \n4                                 22.0                                 20.5   \n..                                 ...                                  ...   \n484                               63.0                                 63.0   \n485                               63.0                                 63.0   \n486                               63.0                                 63.0   \n487                               63.0                                 63.0   \n488                               63.0                                 63.0   \n\n    M_LEVEL_ORGANIZATION_GRAMMAR_MECHANICS M_LEVEL_VOCAB_GRAMMAR_MECHANICS  \\\n0                                     31.5                            32.5   \n1                                     41.5                            41.5   \n2                                     43.5                            44.0   \n3                                     35.0                            34.0   \n4                                     21.5                            21.5   \n..                                     ...                             ...   \n484                                   63.0                            63.0   \n485                                   63.0                            63.0   \n486                                   63.0                            63.0   \n487                                   63.0                            63.0   \n488                                   63.0                            63.0   \n\n    M_LEVEL_CONTENT_ORGANIZATION_VOCAB_GRAMMAR  \\\n0                                         41.5   \n1                                         56.5   \n2                                         59.5   \n3                                         46.0   \n4                                         29.5   \n..                                         ...   \n484                                       84.0   \n485                                       84.0   \n486                                       84.0   \n487                                       84.0   \n488                                       84.0   \n\n    M_LEVEL_CONTENT_ORGANIZATION_VOCAB_MECHANICS  \\\n0                                           42.0   \n1                                           57.0   \n2                                           59.5   \n3                                           47.0   \n4                                           28.0   \n..                                           ...   \n484                                         84.0   \n485                                         84.0   \n486                                         84.0   \n487                                         84.0   \n488                                         84.0   \n\n    M_LEVEL_CONTENT_ORGANIZATION_GRAMMAR_MECHANICS  \\\n0                                             41.5   \n1                                             56.5   \n2                                             59.0   \n3                                             47.0   \n4                                             29.0   \n..                                             ...   \n484                                           84.0   \n485                                           84.0   \n486                                           84.0   \n487                                           84.0   \n488                                           84.0   \n\n    M_LEVEL_CONTENT_VOCAB_GRAMMAR_MECHANICS  \\\n0                                      42.5   \n1                                      56.5   \n2                                      59.5   \n3                                      46.0   \n4                                      29.0   \n..                                      ...   \n484                                    84.0   \n485                                    84.0   \n486                                    84.0   \n487                                    84.0   \n488                                    84.0   \n\n    M_LEVEL_ORGANIZATION_VOCAB_GRAMMAR_MECHANICS  \\\n0                                           42.5   \n1                                           55.5   \n2                                           58.5   \n3                                           46.0   \n4                                           28.5   \n..                                           ...   \n484                                         84.0   \n485                                         84.0   \n486                                         84.0   \n487                                         84.0   \n488                                         84.0   \n\n    M_LEVEL_CONTENT_ORGANIZATION_VOCAB_GRAMMAR_MECHANICS  \n0                                                 52.5    \n1                                                 70.5    \n2                                                 74.0    \n3                                                 58.0    \n4                                                 36.0    \n..                                                 ...    \n484                                              105.0    \n485                                              105.0    \n486                                              105.0    \n487                                              105.0    \n488                                              105.0    \n\n[489 rows x 1076 columns]",
      "text/html": "<div>\n<style scoped>\n    .dataframe tbody tr th:only-of-type {\n        vertical-align: middle;\n    }\n\n    .dataframe tbody tr th {\n        vertical-align: top;\n    }\n\n    .dataframe thead th {\n        text-align: right;\n    }\n</style>\n<table border=\"1\" class=\"dataframe\">\n  <thead>\n    <tr style=\"text-align: right;\">\n      <th></th>\n      <th>Observation</th>\n      <th>ID</th>\n      <th>Student</th>\n      <th>Session</th>\n      <th>Level_Specific</th>\n      <th>Level</th>\n      <th>Level_Num</th>\n      <th>Level_Grade_Num</th>\n      <th>Content_Grade_AVG</th>\n      <th>Organiz_Grade_AVG</th>\n      <th>...</th>\n      <th>M_LEVEL_ORGANIZATION_VOCAB_GRAMMAR</th>\n      <th>M_LEVEL_ORGANIZATION_VOCAB_MECHANICS</th>\n      <th>M_LEVEL_ORGANIZATION_GRAMMAR_MECHANICS</th>\n      <th>M_LEVEL_VOCAB_GRAMMAR_MECHANICS</th>\n      <th>M_LEVEL_CONTENT_ORGANIZATION_VOCAB_GRAMMAR</th>\n      <th>M_LEVEL_CONTENT_ORGANIZATION_VOCAB_MECHANICS</th>\n      <th>M_LEVEL_CONTENT_ORGANIZATION_GRAMMAR_MECHANICS</th>\n      <th>M_LEVEL_CONTENT_VOCAB_GRAMMAR_MECHANICS</th>\n      <th>M_LEVEL_ORGANIZATION_VOCAB_GRAMMAR_MECHANICS</th>\n      <th>M_LEVEL_CONTENT_ORGANIZATION_VOCAB_GRAMMAR_MECHANICS</th>\n    </tr>\n  </thead>\n  <tbody>\n    <tr>\n      <th>0</th>\n      <td>001__Janina_Christina_Andreß__Pre-Test.txt</td>\n      <td>1</td>\n      <td>Janina.Andress@lmu.de</td>\n      <td>Pre-Test</td>\n      <td>B1.1</td>\n      <td>B1</td>\n      <td>3</td>\n      <td>11</td>\n      <td>2</td>\n      <td>2</td>\n      <td>...</td>\n      <td>31.5</td>\n      <td>32.0</td>\n      <td>31.5</td>\n      <td>32.5</td>\n      <td>41.5</td>\n      <td>42.0</td>\n      <td>41.5</td>\n      <td>42.5</td>\n      <td>42.5</td>\n      <td>52.5</td>\n    </tr>\n    <tr>\n      <th>1</th>\n      <td>002__Abdelrahman_Munir_Awad_Assaf__Pre-Test.txt</td>\n      <td>2</td>\n      <td>A.Assaf@campus.lmu.de</td>\n      <td>Pre-Test</td>\n      <td>B2.1</td>\n      <td>B2</td>\n      <td>4</td>\n      <td>14</td>\n      <td>3</td>\n      <td>2</td>\n      <td>...</td>\n      <td>41.5</td>\n      <td>42.0</td>\n      <td>41.5</td>\n      <td>41.5</td>\n      <td>56.5</td>\n      <td>57.0</td>\n      <td>56.5</td>\n      <td>56.5</td>\n      <td>55.5</td>\n      <td>70.5</td>\n    </tr>\n    <tr>\n      <th>2</th>\n      <td>004__Annika_Bäum__Pre-Test.txt</td>\n      <td>4</td>\n      <td>A.Baeum@campus.lmu.de</td>\n      <td>Pre-Test</td>\n      <td>B2.1</td>\n      <td>B2</td>\n      <td>4</td>\n      <td>15</td>\n      <td>3.5</td>\n      <td>2.5</td>\n      <td>...</td>\n      <td>44.0</td>\n      <td>44.0</td>\n      <td>43.5</td>\n      <td>44.0</td>\n      <td>59.5</td>\n      <td>59.5</td>\n      <td>59.0</td>\n      <td>59.5</td>\n      <td>58.5</td>\n      <td>74.0</td>\n    </tr>\n    <tr>\n      <th>3</th>\n      <td>005__Lena_Marie_Baumann__Pre-Test.txt</td>\n      <td>5</td>\n      <td>L.Baumann@campus.lmu.de</td>\n      <td>Pre-Test</td>\n      <td>B1.1</td>\n      <td>B1</td>\n      <td>3</td>\n      <td>12</td>\n      <td>4</td>\n      <td>4</td>\n      <td>...</td>\n      <td>34.0</td>\n      <td>35.0</td>\n      <td>35.0</td>\n      <td>34.0</td>\n      <td>46.0</td>\n      <td>47.0</td>\n      <td>47.0</td>\n      <td>46.0</td>\n      <td>46.0</td>\n      <td>58.0</td>\n    </tr>\n    <tr>\n      <th>4</th>\n      <td>007__Tekle_Berishvili__Pre-Test.txt</td>\n      <td>7</td>\n      <td>Tekle.Berishvili@campus.lmu.de</td>\n      <td>Pre-Test</td>\n      <td>A2.1</td>\n      <td>A2</td>\n      <td>2</td>\n      <td>8</td>\n      <td>3.5</td>\n      <td>3</td>\n      <td>...</td>\n      <td>22.0</td>\n      <td>20.5</td>\n      <td>21.5</td>\n      <td>21.5</td>\n      <td>29.5</td>\n      <td>28.0</td>\n      <td>29.0</td>\n      <td>29.0</td>\n      <td>28.5</td>\n      <td>36.0</td>\n    </tr>\n    <tr>\n      <th>...</th>\n      <td>...</td>\n      <td>...</td>\n      <td>...</td>\n      <td>...</td>\n      <td>...</td>\n      <td>...</td>\n      <td>...</td>\n      <td>...</td>\n      <td>...</td>\n      <td>...</td>\n      <td>...</td>\n      <td>...</td>\n      <td>...</td>\n      <td>...</td>\n      <td>...</td>\n      <td>...</td>\n      <td>...</td>\n      <td>...</td>\n      <td>...</td>\n      <td>...</td>\n      <td>...</td>\n    </tr>\n    <tr>\n      <th>484</th>\n      <td>96</td>\n      <td>96</td>\n      <td>BAWE96</td>\n      <td></td>\n      <td>21</td>\n      <td>C2</td>\n      <td>6</td>\n      <td>21</td>\n      <td>1</td>\n      <td>1</td>\n      <td>...</td>\n      <td>63.0</td>\n      <td>63.0</td>\n      <td>63.0</td>\n      <td>63.0</td>\n      <td>84.0</td>\n      <td>84.0</td>\n      <td>84.0</td>\n      <td>84.0</td>\n      <td>84.0</td>\n      <td>105.0</td>\n    </tr>\n    <tr>\n      <th>485</th>\n      <td>97</td>\n      <td>97</td>\n      <td>BAWE97</td>\n      <td></td>\n      <td>21</td>\n      <td>C2</td>\n      <td>6</td>\n      <td>21</td>\n      <td>1</td>\n      <td>1</td>\n      <td>...</td>\n      <td>63.0</td>\n      <td>63.0</td>\n      <td>63.0</td>\n      <td>63.0</td>\n      <td>84.0</td>\n      <td>84.0</td>\n      <td>84.0</td>\n      <td>84.0</td>\n      <td>84.0</td>\n      <td>105.0</td>\n    </tr>\n    <tr>\n      <th>486</th>\n      <td>98</td>\n      <td>98</td>\n      <td>BAWE98</td>\n      <td></td>\n      <td>21</td>\n      <td>C2</td>\n      <td>6</td>\n      <td>21</td>\n      <td>1</td>\n      <td>1</td>\n      <td>...</td>\n      <td>63.0</td>\n      <td>63.0</td>\n      <td>63.0</td>\n      <td>63.0</td>\n      <td>84.0</td>\n      <td>84.0</td>\n      <td>84.0</td>\n      <td>84.0</td>\n      <td>84.0</td>\n      <td>105.0</td>\n    </tr>\n    <tr>\n      <th>487</th>\n      <td>99</td>\n      <td>99</td>\n      <td>BAWE99</td>\n      <td></td>\n      <td>21</td>\n      <td>C2</td>\n      <td>6</td>\n      <td>21</td>\n      <td>1</td>\n      <td>1</td>\n      <td>...</td>\n      <td>63.0</td>\n      <td>63.0</td>\n      <td>63.0</td>\n      <td>63.0</td>\n      <td>84.0</td>\n      <td>84.0</td>\n      <td>84.0</td>\n      <td>84.0</td>\n      <td>84.0</td>\n      <td>105.0</td>\n    </tr>\n    <tr>\n      <th>488</th>\n      <td>100</td>\n      <td>100</td>\n      <td>BAWE100</td>\n      <td></td>\n      <td>21</td>\n      <td>C2</td>\n      <td>6</td>\n      <td>21</td>\n      <td>1</td>\n      <td>1</td>\n      <td>...</td>\n      <td>63.0</td>\n      <td>63.0</td>\n      <td>63.0</td>\n      <td>63.0</td>\n      <td>84.0</td>\n      <td>84.0</td>\n      <td>84.0</td>\n      <td>84.0</td>\n      <td>84.0</td>\n      <td>105.0</td>\n    </tr>\n  </tbody>\n</table>\n<p>489 rows × 1076 columns</p>\n</div>"
     },
     "metadata": {},
     "output_type": "execute_result",
     "execution_count": 3
    }
   ],
   "source": [
    "level_to_int = {\n",
    "    'A1': 1,\n",
    "    'A2': 2,\n",
    "    'B1': 3,\n",
    "    'B2': 4,\n",
    "    'C1': 5,\n",
    "    'C2': 6\n",
    "}\n",
    "\n",
    "grade_variables = {\n",
    "    'Content_Grade_AVG': 'CONTENT',\n",
    "    'Organiz_Grade_AVG': 'ORGANIZATION',\n",
    "    'Vocab_Grade_AVG': 'VOCAB',\n",
    "    'Grammar_Grade_AVG': 'GRAMMAR',\n",
    "    'Mechanics_Grade_AVG': 'MECHANICS'\n",
    "}\n",
    "\n",
    "def combined_grade_column_names():\n",
    "    for l in range(1, len(grade_variables)+1):\n",
    "        for c in itertools.combinations(grade_variables.keys(), l):\n",
    "            yield 'M_LEVEL_' + '_'.join([grade_variables[n] for n in c])\n",
    "             \n",
    "def generate_combined_grade_columns(row):\n",
    "    level_numerical = level_to_int[row['Level']]\n",
    "    \n",
    "    for l in range(1, len(grade_variables)+1):\n",
    "        for c in itertools.combinations(grade_variables.keys(), l):\n",
    "            name = 'M_LEVEL_' + '_'.join([grade_variables[n] for n in c])\n",
    "            grade_sum = sum([float(row[v]) for v in c])\n",
    "            row[name] = ((level_numerical-1)*(4*l)) + grade_sum\n",
    "            \n",
    "    return row\n",
    "\n",
    "def add_flip_columns(bawe_column, i):\n",
    "    \"\"\"\n",
    "    Add columns which appear only in the flip dataset to the bawe dataset. At the end we'll remove any column which \n",
    "    does not appear in BOTH datasets. \n",
    "    :param bawe_column: \n",
    "    :param i: \n",
    "    :return: \n",
    "    \"\"\"\n",
    "    bawe_column['Observation'] = i+1\n",
    "    bawe_column['ID'] = i+1\n",
    "    bawe_column['Student'] = 'BAWE' + str(i+1)\n",
    "    bawe_column['Session'] = ''\n",
    "    bawe_column['Level_Specific'] = 21\n",
    "    bawe_column['Level'] = 'C2'\n",
    "    bawe_column['Level_Num'] = 6\n",
    "    bawe_column['Level_Grade_Num'] = 21\n",
    "    bawe_column['Content_Grade_AVG'] = 1\n",
    "    bawe_column['Organiz_Grade_AVG'] = 1\n",
    "    bawe_column['Vocab_Grade_AVG'] = 1\n",
    "    bawe_column['Grammar_Grade_AVG'] = 1\n",
    "    bawe_column['Mechanics_Grade_AVG'] = 1\n",
    "    bawe_column['Overall_Grade_AVG'] = 1\n",
    "    del bawe_column['']\n",
    "    return bawe_column\n",
    "\n",
    "bawe_headers = set()\n",
    "with open(path_bawe_csv) as csvfile:\n",
    "    csvreader = csv.DictReader(csvfile)\n",
    "    bawe = [add_flip_columns(r, i) for i, r in enumerate(csvreader)]\n",
    "    for h in bawe[0].keys():\n",
    "        \n",
    "        bawe_headers.add(h)\n",
    "flip_headers = set()\n",
    "with open(path_flip_csv) as csvfile:\n",
    "    csvreader = csv.DictReader(csvfile)\n",
    "    flip = [r for r in csvreader if r['Vocab_Grade_AVG'] != 'NA']\n",
    "    for h in bawe[0].keys():\n",
    "        flip_headers.add(h)\n",
    "    \n",
    "# Remove header which only appear in one dataset \n",
    "headers = flip_headers.intersection(bawe_headers)\n",
    "data = [generate_combined_grade_columns({k: r[k] for k in r.keys() if k in headers}) for r in flip + bawe]\n",
    "\n",
    "rawdf = pd.DataFrame.from_dict(data)\n",
    "rawdf.to_csv(path_result_dir + 'raw_combined_data.csv')\n",
    "rawdf"
   ],
   "metadata": {
    "collapsed": false,
    "pycharm": {
     "name": "#%%\n",
     "is_executing": false
    }
   }
  },
  {
   "cell_type": "markdown",
   "source": [
    "## 2. Calculate the correlation matrix\n",
    "First we'll remove any columns which contain non numerical values. Then we'll calculate the correlation matrix and \n",
    "finally we'll save a sheet for each depended variable sorted by the variables which have the highest correlation with \n",
    "it."
   ],
   "metadata": {
    "collapsed": false,
    "pycharm": {
     "name": "#%% md\n"
    }
   }
  },
  {
   "cell_type": "code",
   "execution_count": 4,
   "outputs": [],
   "source": [
    "# prepare for pandas\n",
    "string_headers = {'Observation', 'Student', 'Session', 'Level_Specific', 'Level'}\n",
    "dataPandas = [{k: float(r[k]) for k in r.keys() if k not in string_headers} for r in data]\n",
    "df = pd.DataFrame.from_dict(dataPandas)"
   ],
   "metadata": {
    "collapsed": false,
    "pycharm": {
     "name": "#%%\n",
     "is_executing": false
    }
   }
  },
  {
   "cell_type": "code",
   "execution_count": 5,
   "outputs": [
    {
     "data": {
      "text/plain": "                                                          ID  Level_Num  \\\nID                                                  1.000000  -0.374721   \nLevel_Num                                          -0.374721   1.000000   \nLevel_Grade_Num                                    -0.295229   0.982546   \nContent_Grade_AVG                                   0.534965  -0.574300   \nOrganiz_Grade_AVG                                   0.570978  -0.519982   \n...                                                      ...        ...   \nM_LEVEL_CONTENT_ORGANIZATION_VOCAB_MECHANICS       -0.302240   0.985781   \nM_LEVEL_CONTENT_ORGANIZATION_GRAMMAR_MECHANICS     -0.303490   0.986232   \nM_LEVEL_CONTENT_VOCAB_GRAMMAR_MECHANICS            -0.309423   0.986713   \nM_LEVEL_ORGANIZATION_VOCAB_GRAMMAR_MECHANICS       -0.307557   0.986648   \nM_LEVEL_CONTENT_ORGANIZATION_VOCAB_GRAMMAR_MECH... -0.305344   0.986452   \n\n                                                    Level_Grade_Num  \\\nID                                                        -0.295229   \nLevel_Num                                                  0.982546   \nLevel_Grade_Num                                            1.000000   \nContent_Grade_AVG                                         -0.425386   \nOrganiz_Grade_AVG                                         -0.364553   \n...                                                             ...   \nM_LEVEL_CONTENT_ORGANIZATION_VOCAB_MECHANICS               0.998699   \nM_LEVEL_CONTENT_ORGANIZATION_GRAMMAR_MECHANICS             0.998713   \nM_LEVEL_CONTENT_VOCAB_GRAMMAR_MECHANICS                    0.998527   \nM_LEVEL_ORGANIZATION_VOCAB_GRAMMAR_MECHANICS               0.998360   \nM_LEVEL_CONTENT_ORGANIZATION_VOCAB_GRAMMAR_MECH...         0.998722   \n\n                                                    Content_Grade_AVG  \\\nID                                                           0.534965   \nLevel_Num                                                   -0.574300   \nLevel_Grade_Num                                             -0.425386   \nContent_Grade_AVG                                            1.000000   \nOrganiz_Grade_AVG                                            0.928746   \n...                                                               ...   \nM_LEVEL_CONTENT_ORGANIZATION_VOCAB_MECHANICS                -0.437069   \nM_LEVEL_CONTENT_ORGANIZATION_GRAMMAR_MECHANICS              -0.440041   \nM_LEVEL_CONTENT_VOCAB_GRAMMAR_MECHANICS                     -0.445503   \nM_LEVEL_ORGANIZATION_VOCAB_GRAMMAR_MECHANICS                -0.449869   \nM_LEVEL_CONTENT_ORGANIZATION_VOCAB_GRAMMAR_MECH...          -0.442654   \n\n                                                    Organiz_Grade_AVG  \\\nID                                                           0.570978   \nLevel_Num                                                   -0.519982   \nLevel_Grade_Num                                             -0.364553   \nContent_Grade_AVG                                            0.928746   \nOrganiz_Grade_AVG                                            1.000000   \n...                                                               ...   \nM_LEVEL_CONTENT_ORGANIZATION_VOCAB_MECHANICS                -0.375109   \nM_LEVEL_CONTENT_ORGANIZATION_GRAMMAR_MECHANICS              -0.378120   \nM_LEVEL_CONTENT_VOCAB_GRAMMAR_MECHANICS                     -0.386165   \nM_LEVEL_ORGANIZATION_VOCAB_GRAMMAR_MECHANICS                -0.383144   \nM_LEVEL_CONTENT_ORGANIZATION_VOCAB_GRAMMAR_MECH...          -0.380261   \n\n                                                    Vocab_Grade_AVG  \\\nID                                                         0.467692   \nLevel_Num                                                 -0.447845   \nLevel_Grade_Num                                           -0.290009   \nContent_Grade_AVG                                          0.854055   \nOrganiz_Grade_AVG                                          0.885354   \n...                                                             ...   \nM_LEVEL_CONTENT_ORGANIZATION_VOCAB_MECHANICS              -0.301081   \nM_LEVEL_CONTENT_ORGANIZATION_GRAMMAR_MECHANICS            -0.306831   \nM_LEVEL_CONTENT_VOCAB_GRAMMAR_MECHANICS                   -0.303726   \nM_LEVEL_ORGANIZATION_VOCAB_GRAMMAR_MECHANICS              -0.302970   \nM_LEVEL_CONTENT_ORGANIZATION_VOCAB_GRAMMAR_MECH...        -0.303321   \n\n                                                    Grammar_Grade_AVG  \\\nID                                                           0.448113   \nLevel_Num                                                   -0.404500   \nLevel_Grade_Num                                             -0.246829   \nContent_Grade_AVG                                            0.809963   \nOrganiz_Grade_AVG                                            0.845772   \n...                                                               ...   \nM_LEVEL_CONTENT_ORGANIZATION_VOCAB_MECHANICS                -0.263040   \nM_LEVEL_CONTENT_ORGANIZATION_GRAMMAR_MECHANICS              -0.260538   \nM_LEVEL_CONTENT_VOCAB_GRAMMAR_MECHANICS                     -0.259866   \nM_LEVEL_ORGANIZATION_VOCAB_GRAMMAR_MECHANICS                -0.258955   \nM_LEVEL_CONTENT_ORGANIZATION_VOCAB_GRAMMAR_MECH...          -0.260408   \n\n                                                    Mechanics_Grade_AVG  \\\nID                                                             0.460743   \nLevel_Num                                                     -0.420005   \nLevel_Grade_Num                                               -0.262509   \nContent_Grade_AVG                                              0.841226   \nOrganiz_Grade_AVG                                              0.873020   \n...                                                                 ...   \nM_LEVEL_CONTENT_ORGANIZATION_VOCAB_MECHANICS                  -0.272103   \nM_LEVEL_CONTENT_ORGANIZATION_GRAMMAR_MECHANICS                -0.273790   \nM_LEVEL_CONTENT_VOCAB_GRAMMAR_MECHANICS                       -0.276058   \nM_LEVEL_ORGANIZATION_VOCAB_GRAMMAR_MECHANICS                  -0.275367   \nM_LEVEL_CONTENT_ORGANIZATION_VOCAB_GRAMMAR_MECH...            -0.275609   \n\n                                                    Overall_Grade_AVG  \\\nID                                                           0.539475   \nLevel_Num                                                   -0.555242   \nLevel_Grade_Num                                             -0.395693   \nContent_Grade_AVG                                            0.953111   \nOrganiz_Grade_AVG                                            0.959225   \n...                                                               ...   \nM_LEVEL_CONTENT_ORGANIZATION_VOCAB_MECHANICS                -0.408731   \nM_LEVEL_CONTENT_ORGANIZATION_GRAMMAR_MECHANICS              -0.411312   \nM_LEVEL_CONTENT_VOCAB_GRAMMAR_MECHANICS                     -0.414117   \nM_LEVEL_ORGANIZATION_VOCAB_GRAMMAR_MECHANICS                -0.414447   \nM_LEVEL_CONTENT_ORGANIZATION_VOCAB_GRAMMAR_MECH...          -0.412050   \n\n                                                    Word.Count  ...  \\\nID                                                   -0.379718  ...   \nLevel_Num                                             0.499023  ...   \nLevel_Grade_Num                                       0.407213  ...   \nContent_Grade_AVG                                    -0.648201  ...   \nOrganiz_Grade_AVG                                    -0.622953  ...   \n...                                                        ...  ...   \nM_LEVEL_CONTENT_ORGANIZATION_VOCAB_MECHANICS          0.417045  ...   \nM_LEVEL_CONTENT_ORGANIZATION_GRAMMAR_MECHANICS        0.419099  ...   \nM_LEVEL_CONTENT_VOCAB_GRAMMAR_MECHANICS               0.420923  ...   \nM_LEVEL_ORGANIZATION_VOCAB_GRAMMAR_MECHANICS          0.422064  ...   \nM_LEVEL_CONTENT_ORGANIZATION_VOCAB_GRAMMAR_MECH...    0.419547  ...   \n\n                                                    M_LEVEL_ORGANIZATION_VOCAB_GRAMMAR  \\\nID                                                                           -0.306231   \nLevel_Num                                                                     0.986522   \nLevel_Grade_Num                                                               0.998251   \nContent_Grade_AVG                                                            -0.449346   \nOrganiz_Grade_AVG                                                            -0.381745   \n...                                                                                ...   \nM_LEVEL_CONTENT_ORGANIZATION_VOCAB_MECHANICS                                  0.999304   \nM_LEVEL_CONTENT_ORGANIZATION_GRAMMAR_MECHANICS                                0.999363   \nM_LEVEL_CONTENT_VOCAB_GRAMMAR_MECHANICS                                       0.999557   \nM_LEVEL_ORGANIZATION_VOCAB_GRAMMAR_MECHANICS                                  0.999802   \nM_LEVEL_CONTENT_ORGANIZATION_VOCAB_GRAMMAR_MECH...                            0.999682   \n\n                                                    M_LEVEL_ORGANIZATION_VOCAB_MECHANICS  \\\nID                                                                             -0.304250   \nLevel_Num                                                                       0.985980   \nLevel_Grade_Num                                                                 0.998361   \nContent_Grade_AVG                                                              -0.444999   \nOrganiz_Grade_AVG                                                              -0.377368   \n...                                                                                  ...   \nM_LEVEL_CONTENT_ORGANIZATION_VOCAB_MECHANICS                                    0.999779   \nM_LEVEL_CONTENT_ORGANIZATION_GRAMMAR_MECHANICS                                  0.999577   \nM_LEVEL_CONTENT_VOCAB_GRAMMAR_MECHANICS                                         0.999583   \nM_LEVEL_ORGANIZATION_VOCAB_GRAMMAR_MECHANICS                                    0.999819   \nM_LEVEL_CONTENT_ORGANIZATION_VOCAB_GRAMMAR_MECH...                              0.999772   \n\n                                                    M_LEVEL_ORGANIZATION_GRAMMAR_MECHANICS  \\\nID                                                                               -0.305871   \nLevel_Num                                                                         0.986501   \nLevel_Grade_Num                                                                   0.998308   \nContent_Grade_AVG                                                                -0.448864   \nOrganiz_Grade_AVG                                                                -0.381309   \n...                                                                                    ...   \nM_LEVEL_CONTENT_ORGANIZATION_VOCAB_MECHANICS                                      0.999446   \nM_LEVEL_CONTENT_ORGANIZATION_GRAMMAR_MECHANICS                                    0.999763   \nM_LEVEL_CONTENT_VOCAB_GRAMMAR_MECHANICS                                           0.999612   \nM_LEVEL_ORGANIZATION_VOCAB_GRAMMAR_MECHANICS                                      0.999853   \nM_LEVEL_CONTENT_ORGANIZATION_VOCAB_GRAMMAR_MECH...                                0.999741   \n\n                                                    M_LEVEL_VOCAB_GRAMMAR_MECHANICS  \\\nID                                                                        -0.313583   \nLevel_Num                                                                  0.986841   \nLevel_Grade_Num                                                            0.997769   \nContent_Grade_AVG                                                         -0.455865   \nOrganiz_Grade_AVG                                                         -0.391777   \n...                                                                             ...   \nM_LEVEL_CONTENT_ORGANIZATION_VOCAB_MECHANICS                               0.998930   \nM_LEVEL_CONTENT_ORGANIZATION_GRAMMAR_MECHANICS                             0.999089   \nM_LEVEL_CONTENT_VOCAB_GRAMMAR_MECHANICS                                    0.999694   \nM_LEVEL_ORGANIZATION_VOCAB_GRAMMAR_MECHANICS                               0.999772   \nM_LEVEL_CONTENT_ORGANIZATION_VOCAB_GRAMMAR_MECH...                         0.999438   \n\n                                                    M_LEVEL_CONTENT_ORGANIZATION_VOCAB_GRAMMAR  \\\nID                                                                                   -0.303765   \nLevel_Num                                                                             0.986263   \nLevel_Grade_Num                                                                       0.998687   \nContent_Grade_AVG                                                                    -0.440404   \nOrganiz_Grade_AVG                                                                    -0.378452   \n...                                                                                        ...   \nM_LEVEL_CONTENT_ORGANIZATION_VOCAB_MECHANICS                                          0.999712   \nM_LEVEL_CONTENT_ORGANIZATION_GRAMMAR_MECHANICS                                        0.999713   \nM_LEVEL_CONTENT_VOCAB_GRAMMAR_MECHANICS                                               0.999687   \nM_LEVEL_ORGANIZATION_VOCAB_GRAMMAR_MECHANICS                                          0.999612   \nM_LEVEL_CONTENT_ORGANIZATION_VOCAB_GRAMMAR_MECH...                                    0.999870   \n\n                                                    M_LEVEL_CONTENT_ORGANIZATION_VOCAB_MECHANICS  \\\nID                                                                                     -0.302240   \nLevel_Num                                                                               0.985781   \nLevel_Grade_Num                                                                         0.998699   \nContent_Grade_AVG                                                                      -0.437069   \nOrganiz_Grade_AVG                                                                      -0.375109   \n...                                                                                          ...   \nM_LEVEL_CONTENT_ORGANIZATION_VOCAB_MECHANICS                                            1.000000   \nM_LEVEL_CONTENT_ORGANIZATION_GRAMMAR_MECHANICS                                          0.999804   \nM_LEVEL_CONTENT_VOCAB_GRAMMAR_MECHANICS                                                 0.999635   \nM_LEVEL_ORGANIZATION_VOCAB_GRAMMAR_MECHANICS                                            0.999552   \nM_LEVEL_CONTENT_ORGANIZATION_VOCAB_GRAMMAR_MECH...                                      0.999866   \n\n                                                    M_LEVEL_CONTENT_ORGANIZATION_GRAMMAR_MECHANICS  \\\nID                                                                                       -0.303490   \nLevel_Num                                                                                 0.986232   \nLevel_Grade_Num                                                                           0.998713   \nContent_Grade_AVG                                                                        -0.440041   \nOrganiz_Grade_AVG                                                                        -0.378120   \n...                                                                                            ...   \nM_LEVEL_CONTENT_ORGANIZATION_VOCAB_MECHANICS                                              0.999804   \nM_LEVEL_CONTENT_ORGANIZATION_GRAMMAR_MECHANICS                                            1.000000   \nM_LEVEL_CONTENT_VOCAB_GRAMMAR_MECHANICS                                                   0.999713   \nM_LEVEL_ORGANIZATION_VOCAB_GRAMMAR_MECHANICS                                              0.999636   \nM_LEVEL_CONTENT_ORGANIZATION_VOCAB_GRAMMAR_MECH...                                        0.999898   \n\n                                                    M_LEVEL_CONTENT_VOCAB_GRAMMAR_MECHANICS  \\\nID                                                                                -0.309423   \nLevel_Num                                                                          0.986713   \nLevel_Grade_Num                                                                    0.998527   \nContent_Grade_AVG                                                                 -0.445503   \nOrganiz_Grade_AVG                                                                 -0.386165   \n...                                                                                     ...   \nM_LEVEL_CONTENT_ORGANIZATION_VOCAB_MECHANICS                                       0.999635   \nM_LEVEL_CONTENT_ORGANIZATION_GRAMMAR_MECHANICS                                     0.999713   \nM_LEVEL_CONTENT_VOCAB_GRAMMAR_MECHANICS                                            1.000000   \nM_LEVEL_ORGANIZATION_VOCAB_GRAMMAR_MECHANICS                                       0.999800   \nM_LEVEL_CONTENT_ORGANIZATION_VOCAB_GRAMMAR_MECH...                                 0.999893   \n\n                                                    M_LEVEL_ORGANIZATION_VOCAB_GRAMMAR_MECHANICS  \\\nID                                                                                     -0.307557   \nLevel_Num                                                                               0.986648   \nLevel_Grade_Num                                                                         0.998360   \nContent_Grade_AVG                                                                      -0.449869   \nOrganiz_Grade_AVG                                                                      -0.383144   \n...                                                                                          ...   \nM_LEVEL_CONTENT_ORGANIZATION_VOCAB_MECHANICS                                            0.999552   \nM_LEVEL_CONTENT_ORGANIZATION_GRAMMAR_MECHANICS                                          0.999636   \nM_LEVEL_CONTENT_VOCAB_GRAMMAR_MECHANICS                                                 0.999800   \nM_LEVEL_ORGANIZATION_VOCAB_GRAMMAR_MECHANICS                                            1.000000   \nM_LEVEL_CONTENT_ORGANIZATION_VOCAB_GRAMMAR_MECH...                                      0.999846   \n\n                                                    M_LEVEL_CONTENT_ORGANIZATION_VOCAB_GRAMMAR_MECHANICS  \nID                                                                                          -0.305344     \nLevel_Num                                                                                    0.986452     \nLevel_Grade_Num                                                                              0.998722     \nContent_Grade_AVG                                                                           -0.442654     \nOrganiz_Grade_AVG                                                                           -0.380261     \n...                                                                                               ...     \nM_LEVEL_CONTENT_ORGANIZATION_VOCAB_MECHANICS                                                 0.999866     \nM_LEVEL_CONTENT_ORGANIZATION_GRAMMAR_MECHANICS                                               0.999898     \nM_LEVEL_CONTENT_VOCAB_GRAMMAR_MECHANICS                                                      0.999893     \nM_LEVEL_ORGANIZATION_VOCAB_GRAMMAR_MECHANICS                                                 0.999846     \nM_LEVEL_CONTENT_ORGANIZATION_VOCAB_GRAMMAR_MECH...                                           1.000000     \n\n[1071 rows x 1071 columns]",
      "text/html": "<div>\n<style scoped>\n    .dataframe tbody tr th:only-of-type {\n        vertical-align: middle;\n    }\n\n    .dataframe tbody tr th {\n        vertical-align: top;\n    }\n\n    .dataframe thead th {\n        text-align: right;\n    }\n</style>\n<table border=\"1\" class=\"dataframe\">\n  <thead>\n    <tr style=\"text-align: right;\">\n      <th></th>\n      <th>ID</th>\n      <th>Level_Num</th>\n      <th>Level_Grade_Num</th>\n      <th>Content_Grade_AVG</th>\n      <th>Organiz_Grade_AVG</th>\n      <th>Vocab_Grade_AVG</th>\n      <th>Grammar_Grade_AVG</th>\n      <th>Mechanics_Grade_AVG</th>\n      <th>Overall_Grade_AVG</th>\n      <th>Word.Count</th>\n      <th>...</th>\n      <th>M_LEVEL_ORGANIZATION_VOCAB_GRAMMAR</th>\n      <th>M_LEVEL_ORGANIZATION_VOCAB_MECHANICS</th>\n      <th>M_LEVEL_ORGANIZATION_GRAMMAR_MECHANICS</th>\n      <th>M_LEVEL_VOCAB_GRAMMAR_MECHANICS</th>\n      <th>M_LEVEL_CONTENT_ORGANIZATION_VOCAB_GRAMMAR</th>\n      <th>M_LEVEL_CONTENT_ORGANIZATION_VOCAB_MECHANICS</th>\n      <th>M_LEVEL_CONTENT_ORGANIZATION_GRAMMAR_MECHANICS</th>\n      <th>M_LEVEL_CONTENT_VOCAB_GRAMMAR_MECHANICS</th>\n      <th>M_LEVEL_ORGANIZATION_VOCAB_GRAMMAR_MECHANICS</th>\n      <th>M_LEVEL_CONTENT_ORGANIZATION_VOCAB_GRAMMAR_MECHANICS</th>\n    </tr>\n  </thead>\n  <tbody>\n    <tr>\n      <th>ID</th>\n      <td>1.000000</td>\n      <td>-0.374721</td>\n      <td>-0.295229</td>\n      <td>0.534965</td>\n      <td>0.570978</td>\n      <td>0.467692</td>\n      <td>0.448113</td>\n      <td>0.460743</td>\n      <td>0.539475</td>\n      <td>-0.379718</td>\n      <td>...</td>\n      <td>-0.306231</td>\n      <td>-0.304250</td>\n      <td>-0.305871</td>\n      <td>-0.313583</td>\n      <td>-0.303765</td>\n      <td>-0.302240</td>\n      <td>-0.303490</td>\n      <td>-0.309423</td>\n      <td>-0.307557</td>\n      <td>-0.305344</td>\n    </tr>\n    <tr>\n      <th>Level_Num</th>\n      <td>-0.374721</td>\n      <td>1.000000</td>\n      <td>0.982546</td>\n      <td>-0.574300</td>\n      <td>-0.519982</td>\n      <td>-0.447845</td>\n      <td>-0.404500</td>\n      <td>-0.420005</td>\n      <td>-0.555242</td>\n      <td>0.499023</td>\n      <td>...</td>\n      <td>0.986522</td>\n      <td>0.985980</td>\n      <td>0.986501</td>\n      <td>0.986841</td>\n      <td>0.986263</td>\n      <td>0.985781</td>\n      <td>0.986232</td>\n      <td>0.986713</td>\n      <td>0.986648</td>\n      <td>0.986452</td>\n    </tr>\n    <tr>\n      <th>Level_Grade_Num</th>\n      <td>-0.295229</td>\n      <td>0.982546</td>\n      <td>1.000000</td>\n      <td>-0.425386</td>\n      <td>-0.364553</td>\n      <td>-0.290009</td>\n      <td>-0.246829</td>\n      <td>-0.262509</td>\n      <td>-0.395693</td>\n      <td>0.407213</td>\n      <td>...</td>\n      <td>0.998251</td>\n      <td>0.998361</td>\n      <td>0.998308</td>\n      <td>0.997769</td>\n      <td>0.998687</td>\n      <td>0.998699</td>\n      <td>0.998713</td>\n      <td>0.998527</td>\n      <td>0.998360</td>\n      <td>0.998722</td>\n    </tr>\n    <tr>\n      <th>Content_Grade_AVG</th>\n      <td>0.534965</td>\n      <td>-0.574300</td>\n      <td>-0.425386</td>\n      <td>1.000000</td>\n      <td>0.928746</td>\n      <td>0.854055</td>\n      <td>0.809963</td>\n      <td>0.841226</td>\n      <td>0.953111</td>\n      <td>-0.648201</td>\n      <td>...</td>\n      <td>-0.449346</td>\n      <td>-0.444999</td>\n      <td>-0.448864</td>\n      <td>-0.455865</td>\n      <td>-0.440404</td>\n      <td>-0.437069</td>\n      <td>-0.440041</td>\n      <td>-0.445503</td>\n      <td>-0.449869</td>\n      <td>-0.442654</td>\n    </tr>\n    <tr>\n      <th>Organiz_Grade_AVG</th>\n      <td>0.570978</td>\n      <td>-0.519982</td>\n      <td>-0.364553</td>\n      <td>0.928746</td>\n      <td>1.000000</td>\n      <td>0.885354</td>\n      <td>0.845772</td>\n      <td>0.873020</td>\n      <td>0.959225</td>\n      <td>-0.622953</td>\n      <td>...</td>\n      <td>-0.381745</td>\n      <td>-0.377368</td>\n      <td>-0.381309</td>\n      <td>-0.391777</td>\n      <td>-0.378452</td>\n      <td>-0.375109</td>\n      <td>-0.378120</td>\n      <td>-0.386165</td>\n      <td>-0.383144</td>\n      <td>-0.380261</td>\n    </tr>\n    <tr>\n      <th>...</th>\n      <td>...</td>\n      <td>...</td>\n      <td>...</td>\n      <td>...</td>\n      <td>...</td>\n      <td>...</td>\n      <td>...</td>\n      <td>...</td>\n      <td>...</td>\n      <td>...</td>\n      <td>...</td>\n      <td>...</td>\n      <td>...</td>\n      <td>...</td>\n      <td>...</td>\n      <td>...</td>\n      <td>...</td>\n      <td>...</td>\n      <td>...</td>\n      <td>...</td>\n      <td>...</td>\n    </tr>\n    <tr>\n      <th>M_LEVEL_CONTENT_ORGANIZATION_VOCAB_MECHANICS</th>\n      <td>-0.302240</td>\n      <td>0.985781</td>\n      <td>0.998699</td>\n      <td>-0.437069</td>\n      <td>-0.375109</td>\n      <td>-0.301081</td>\n      <td>-0.263040</td>\n      <td>-0.272103</td>\n      <td>-0.408731</td>\n      <td>0.417045</td>\n      <td>...</td>\n      <td>0.999304</td>\n      <td>0.999779</td>\n      <td>0.999446</td>\n      <td>0.998930</td>\n      <td>0.999712</td>\n      <td>1.000000</td>\n      <td>0.999804</td>\n      <td>0.999635</td>\n      <td>0.999552</td>\n      <td>0.999866</td>\n    </tr>\n    <tr>\n      <th>M_LEVEL_CONTENT_ORGANIZATION_GRAMMAR_MECHANICS</th>\n      <td>-0.303490</td>\n      <td>0.986232</td>\n      <td>0.998713</td>\n      <td>-0.440041</td>\n      <td>-0.378120</td>\n      <td>-0.306831</td>\n      <td>-0.260538</td>\n      <td>-0.273790</td>\n      <td>-0.411312</td>\n      <td>0.419099</td>\n      <td>...</td>\n      <td>0.999363</td>\n      <td>0.999577</td>\n      <td>0.999763</td>\n      <td>0.999089</td>\n      <td>0.999713</td>\n      <td>0.999804</td>\n      <td>1.000000</td>\n      <td>0.999713</td>\n      <td>0.999636</td>\n      <td>0.999898</td>\n    </tr>\n    <tr>\n      <th>M_LEVEL_CONTENT_VOCAB_GRAMMAR_MECHANICS</th>\n      <td>-0.309423</td>\n      <td>0.986713</td>\n      <td>0.998527</td>\n      <td>-0.445503</td>\n      <td>-0.386165</td>\n      <td>-0.303726</td>\n      <td>-0.259866</td>\n      <td>-0.276058</td>\n      <td>-0.414117</td>\n      <td>0.420923</td>\n      <td>...</td>\n      <td>0.999557</td>\n      <td>0.999583</td>\n      <td>0.999612</td>\n      <td>0.999694</td>\n      <td>0.999687</td>\n      <td>0.999635</td>\n      <td>0.999713</td>\n      <td>1.000000</td>\n      <td>0.999800</td>\n      <td>0.999893</td>\n    </tr>\n    <tr>\n      <th>M_LEVEL_ORGANIZATION_VOCAB_GRAMMAR_MECHANICS</th>\n      <td>-0.307557</td>\n      <td>0.986648</td>\n      <td>0.998360</td>\n      <td>-0.449869</td>\n      <td>-0.383144</td>\n      <td>-0.302970</td>\n      <td>-0.258955</td>\n      <td>-0.275367</td>\n      <td>-0.414447</td>\n      <td>0.422064</td>\n      <td>...</td>\n      <td>0.999802</td>\n      <td>0.999819</td>\n      <td>0.999853</td>\n      <td>0.999772</td>\n      <td>0.999612</td>\n      <td>0.999552</td>\n      <td>0.999636</td>\n      <td>0.999800</td>\n      <td>1.000000</td>\n      <td>0.999846</td>\n    </tr>\n    <tr>\n      <th>M_LEVEL_CONTENT_ORGANIZATION_VOCAB_GRAMMAR_MECHANICS</th>\n      <td>-0.305344</td>\n      <td>0.986452</td>\n      <td>0.998722</td>\n      <td>-0.442654</td>\n      <td>-0.380261</td>\n      <td>-0.303321</td>\n      <td>-0.260408</td>\n      <td>-0.275609</td>\n      <td>-0.412050</td>\n      <td>0.419547</td>\n      <td>...</td>\n      <td>0.999682</td>\n      <td>0.999772</td>\n      <td>0.999741</td>\n      <td>0.999438</td>\n      <td>0.999870</td>\n      <td>0.999866</td>\n      <td>0.999898</td>\n      <td>0.999893</td>\n      <td>0.999846</td>\n      <td>1.000000</td>\n    </tr>\n  </tbody>\n</table>\n<p>1071 rows × 1071 columns</p>\n</div>"
     },
     "metadata": {},
     "output_type": "execute_result",
     "execution_count": 5
    }
   ],
   "source": [
    "# Correlation\n",
    "df_corr = df.corr()\n",
    "df_corr.to_csv(path_result_dir + 'correlation_matrix.csv')\n",
    "df_corr"
   ],
   "metadata": {
    "collapsed": false,
    "pycharm": {
     "name": "#%%\n",
     "is_executing": false
    }
   }
  },
  {
   "cell_type": "code",
   "execution_count": 6,
   "outputs": [],
   "source": [
    "# Save results\n",
    "csv_data = []\n",
    "for combined_var in combined_grade_column_names():\n",
    "    csv_data.append(list(df_corr[[combined_var]].abs().sort_values(combined_var, ascending=False).itertuples()))"
   ],
   "metadata": {
    "collapsed": false,
    "pycharm": {
     "name": "#%%\n",
     "is_executing": false
    }
   }
  },
  {
   "cell_type": "code",
   "execution_count": 20,
   "outputs": [],
   "source": [
    "csv_text = ''\n",
    "\n",
    "#write headers\n",
    "line_text = []\n",
    "for name in combined_grade_column_names():\n",
    "    line_text.append('')\n",
    "    line_text.append(name)\n",
    "    line_text.append('')\n",
    "csv_text += ','.join(line_text) + '\\n'\n",
    "\n",
    "#write rows\n",
    "for i in range(len(csv_data[0])):\n",
    "    line_text = []\n",
    "    for var_data in csv_data:\n",
    "        line_text.append(str(var_data[i][0]))\n",
    "        line_text.append(str(var_data[i][1]))\n",
    "        line_text.append('')\n",
    "    csv_text += ','.join(line_text)\n",
    "    csv_text += '\\n'\n",
    "    "
   ],
   "metadata": {
    "collapsed": false,
    "pycharm": {
     "name": "#%%\n",
     "is_executing": false
    }
   }
  },
  {
   "cell_type": "code",
   "execution_count": 21,
   "outputs": [],
   "source": [
    "with open(path_result_dir + 'corr_sorted.csv', 'w') as fh:\n",
    "    fh.write(csv_text)\n",
    "\n",
    "\n",
    "\n",
    "\n"
   ],
   "metadata": {
    "collapsed": false,
    "pycharm": {
     "name": "#%%\n",
     "is_executing": false
    }
   }
  }
 ],
 "metadata": {
  "kernelspec": {
   "display_name": "Python 3",
   "language": "python",
   "name": "python3"
  },
  "language_info": {
   "codemirror_mode": {
    "name": "ipython",
    "version": 2
   },
   "file_extension": ".py",
   "mimetype": "text/x-python",
   "name": "python",
   "nbconvert_exporter": "python",
   "pygments_lexer": "ipython2",
   "version": "2.7.6"
  },
  "pycharm": {
   "stem_cell": {
    "cell_type": "raw",
    "source": [],
    "metadata": {
     "collapsed": false
    }
   }
  }
 },
 "nbformat": 4,
 "nbformat_minor": 0
}