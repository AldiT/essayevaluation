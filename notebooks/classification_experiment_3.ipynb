{
 "cells": [
  {
   "cell_type": "markdown",
   "metadata": {},
   "source": [
    "## Experiment 3\n",
    "<h3>Testing for modified labels Level+Grade+BAWE_VERSION_3</h3>\n",
    "\n",
    "<h3>Imports</h3>"
   ]
  },
  {
   "cell_type": "code",
   "execution_count": 1,
   "metadata": {},
   "outputs": [],
   "source": [
    "from __future__ import unicode_literals\n",
    "\n",
    "import numpy as np\n",
    "import spacy\n",
    "import csv\n",
    "from scipy.stats import pearsonr\n",
    "from sklearn.ensemble import RandomForestClassifier, RandomForestRegressor\n",
    "from sklearn.linear_model import ElasticNet, LinearRegression, SGDClassifier\n",
    "from sklearn.metrics import cohen_kappa_score\n",
    "from sklearn.model_selection import cross_val_score, KFold, cross_val_predict\n",
    "from tqdm import tqdm_notebook\n",
    "from essay_evaluation.corpus import read_flip_texts\n",
    "from essay_evaluation.lexical_variation_taaled import TaaledTokenClassifier, LexicalAccuracyTaaled\n",
    "import pandas as pd"
   ]
  },
  {
   "cell_type": "markdown",
   "metadata": {},
   "source": [
    "<h3>Setting up the paths</h3>"
   ]
  },
  {
   "cell_type": "code",
   "execution_count": 2,
   "metadata": {},
   "outputs": [],
   "source": [
    "flip_path = \"/usr/local/datasets/flip_new.csv\""
   ]
  },
  {
   "cell_type": "code",
   "execution_count": 3,
   "metadata": {},
   "outputs": [],
   "source": [
    "texts = []\n",
    "levels = []\n",
    "\n",
    "with open(flip_path, 'r') as csvfile:\n",
    "    csvreader = csv.DictReader(csvfile)\n",
    "    for row in csvreader:\n",
    "        texts.append(row['Essay'].replace('\\n', ' '))\n",
    "        levels.append(row['Level'])"
   ]
  },
  {
   "cell_type": "markdown",
   "metadata": {},
   "source": [
    "<h3>Create the pipeline</h3>"
   ]
  },
  {
   "cell_type": "code",
   "execution_count": 4,
   "metadata": {},
   "outputs": [],
   "source": [
    "nlp = spacy.load(\"en_core_web_sm\")\n",
    "nlp.add_pipe(TaaledTokenClassifier(), name=TaaledTokenClassifier.name, last=True)\n",
    "nlp.add_pipe(LexicalAccuracyTaaled(), name=LexicalAccuracyTaaled.name, last=True)\n",
    "nlp.remove_pipe('ner')\n",
    "\n",
    "doc = nlp(texts[1])"
   ]
  },
  {
   "cell_type": "markdown",
   "metadata": {},
   "source": [
    "<h3>Create the data and the labels</h3>"
   ]
  },
  {
   "cell_type": "code",
   "execution_count": 5,
   "metadata": {},
   "outputs": [
    {
     "data": {
      "application/vnd.jupyter.widget-view+json": {
       "model_id": "f101f3f0e2bf41bc8c359e0fd28e20e8",
       "version_major": 2,
       "version_minor": 0
      },
      "text/plain": [
       "HBox(children=(IntProgress(value=0, max=489), HTML(value='')))"
      ]
     },
     "metadata": {},
     "output_type": "display_data"
    },
    {
     "name": "stdout",
     "output_type": "stream",
     "text": [
      "\n"
     ]
    }
   ],
   "source": [
    "X = []\n",
    "feature_names = None\n",
    "for doc in tqdm_notebook(nlp.pipe(list(texts)), total=int(len(texts))):\n",
    "    if feature_names is None:\n",
    "        feature_names = list(doc._.features.keys())\n",
    "    X.append(list(doc._.features.values()))"
   ]
  },
  {
   "cell_type": "markdown",
   "metadata": {},
   "source": [
    "<h3>Prepare data</h3>"
   ]
  },
  {
   "cell_type": "code",
   "execution_count": 6,
   "metadata": {},
   "outputs": [],
   "source": [
    "X = np.array(X)\n",
    "y = np.array(levels).astype(np.float)\n",
    "\n",
    "#df = pd.DataFrame(X, columns=feature_names)\n",
    "#df.insert(len(feature_names),'AVG_VOCAB_GRADE', y)\n",
    "\n",
    "# Cross validation split\n",
    "cv = KFold(10, True)\n",
    "\n",
    "def pearsonr_scorer(estimator, X, y):\n",
    "    pred = estimator.predict(X)\n",
    "    r, pval = pearsonr(y, pred)\n",
    "    return r"
   ]
  },
  {
   "cell_type": "markdown",
   "metadata": {},
   "source": [
    "<h3>Random Forest Regression</h3>"
   ]
  },
  {
   "cell_type": "code",
   "execution_count": 21,
   "metadata": {},
   "outputs": [
    {
     "name": "stdout",
     "output_type": "stream",
     "text": [
      "Pearson r: 0.78 (+/- 0.14)\n",
      "[0.68485407 0.80894287 0.68653772 0.72255685 0.87145353 0.85769831\n",
      " 0.70824863 0.86608115 0.82410039 0.77329637]\n"
     ]
    }
   ],
   "source": [
    "clf = RandomForestRegressor(n_estimators=100)\n",
    "reg_pearson = cross_val_score(clf, X, y, cv=cv, scoring=pearsonr_scorer)\n",
    "print(\"Pearson r: %0.2f (+/- %0.2f)\" % (reg_pearson.mean(), reg_pearson.std() * 2))\n",
    "print(reg_pearson)"
   ]
  },
  {
   "cell_type": "code",
   "execution_count": 19,
   "metadata": {},
   "outputs": [],
   "source": [
    "import pickle\n",
    "with open(\"/usr/local/models/model_reg.pkl\", 'wb') as save_file:\n",
    "    pickle.dump(clf, save_file)"
   ]
  },
  {
   "cell_type": "markdown",
   "metadata": {},
   "source": [
    "<h3>Random Forest Classifier</h3>"
   ]
  },
  {
   "cell_type": "code",
   "execution_count": 26,
   "metadata": {},
   "outputs": [
    {
     "name": "stdout",
     "output_type": "stream",
     "text": [
      "Pearson r: 0.69 (+/- 0.13)\n",
      "[0.63743688 0.71915163 0.67803161 0.79073625 0.81930132 0.70543781\n",
      " 0.62299692 0.68887356 0.60963596 0.65062315]\n"
     ]
    }
   ],
   "source": [
    "clf = RandomForestClassifier(n_estimators=100)\n",
    "y_int = y.astype(int)\n",
    "clf_pearson = cross_val_score(clf, X, y_int, cv=cv, scoring=pearsonr_scorer)\n",
    "print(\"Pearson r: %0.2f (+/- %0.2f)\"  % (clf_pearson.mean(), clf_pearson.std() * 2))\n",
    "print(clf_pearson)"
   ]
  },
  {
   "cell_type": "code",
   "execution_count": 25,
   "metadata": {},
   "outputs": [],
   "source": [
    "with open(\"/usr/local/models/model_clf.pkl\", 'wb') as save_file:\n",
    "    pickle.dump(clf, save_file)"
   ]
  },
  {
   "cell_type": "markdown",
   "metadata": {},
   "source": [
    "<h3>ElasticNet Regressor (Linear Regression with L1 and L2 regularization)</h3>"
   ]
  },
  {
   "cell_type": "code",
   "execution_count": 9,
   "metadata": {},
   "outputs": [
    {
     "name": "stdout",
     "output_type": "stream",
     "text": [
      "Pearson r: 0.68 (+/- 0.17)\n",
      "[0.74261764 0.60385669 0.69122213 0.63877133 0.78652647 0.70751696\n",
      " 0.6501254  0.70874293 0.75679104 0.47097049]\n"
     ]
    }
   ],
   "source": [
    "clf = ElasticNet()\n",
    "reg_pearson = cross_val_score(clf, X, y, cv=cv, scoring=pearsonr_scorer)\n",
    "print(\"Pearson r: %0.2f (+/- %0.2f)\" % (reg_pearson.mean(), reg_pearson.std() * 2))\n",
    "print(reg_pearson)"
   ]
  },
  {
   "cell_type": "markdown",
   "metadata": {},
   "source": [
    "<h3>Linear Regression</h3>"
   ]
  },
  {
   "cell_type": "code",
   "execution_count": 10,
   "metadata": {},
   "outputs": [
    {
     "name": "stdout",
     "output_type": "stream",
     "text": [
      "Pearson r: 0.67 (+/- 0.23)\n",
      "[0.72703339 0.71371838 0.72094075 0.64502339 0.34191284 0.67280092\n",
      " 0.69065372 0.75296406 0.76112287 0.71161658]\n"
     ]
    }
   ],
   "source": [
    "clf = LinearRegression()\n",
    "reg_pearson = cross_val_score(clf, X, y, cv=cv, scoring=pearsonr_scorer)\n",
    "print(\"Pearson r: %0.2f (+/- %0.2f)\" % (reg_pearson.mean(), reg_pearson.std() * 2))\n",
    "print(reg_pearson)"
   ]
  },
  {
   "cell_type": "markdown",
   "metadata": {},
   "source": [
    "<h3>Stochastic Gradient Descent Classifier (Linear model with SGD learning)</h3>"
   ]
  },
  {
   "cell_type": "code",
   "execution_count": 11,
   "metadata": {},
   "outputs": [
    {
     "name": "stdout",
     "output_type": "stream",
     "text": [
      "Pearson r: 0.49 (+/- 0.19)\n",
      "[0.46719591 0.49344017 0.67331827 0.59510868 0.39239381 0.51676156\n",
      " 0.3200492  0.51576044 0.48673938 0.40359295]\n"
     ]
    }
   ],
   "source": [
    "clf = SGDClassifier()\n",
    "y_int = y.astype(int)\n",
    "clf_pearson = cross_val_score(clf, X, y_int, cv=cv, scoring=pearsonr_scorer)\n",
    "print(\"Pearson r: %0.2f (+/- %0.2f)\"  % (clf_pearson.mean(), clf_pearson.std() * 2))\n",
    "print(clf_pearson)"
   ]
  },
  {
   "cell_type": "markdown",
   "metadata": {},
   "source": [
    "<h3>Perceptron (SGD with parameters as follows: <br/>\n",
    "    <i>SGDClassifier(loss=\"perceptron\", eta0=1, learning_rate=\"constant\", penalty=None)</i> <br/>\n",
    ")</h3>"
   ]
  },
  {
   "cell_type": "code",
   "execution_count": 12,
   "metadata": {},
   "outputs": [
    {
     "name": "stdout",
     "output_type": "stream",
     "text": [
      "Pearson r: 0.52 (+/- 0.34)\n",
      "[0.6843704  0.10913775 0.65869171 0.65726463 0.50591574 0.60919334\n",
      " 0.57032507 0.43274906 0.60628717 0.35105489]\n"
     ]
    }
   ],
   "source": [
    "from sklearn.linear_model import Perceptron\n",
    "clf = Perceptron(penalty='elasticnet')\n",
    "reg_pearson = cross_val_score(clf, X, y, cv=cv, scoring=pearsonr_scorer)\n",
    "print(\"Pearson r: %0.2f (+/- %0.2f)\" % (reg_pearson.mean(), reg_pearson.std() * 2))\n",
    "print(reg_pearson)"
   ]
  },
  {
   "cell_type": "markdown",
   "metadata": {},
   "source": [
    "<h3>Fixed train test set (Since there is not a lot of data, I also tested on a fixed train set, rather than cv</h3>\n",
    "<h4>20% of the train data is held out for testing</h4>"
   ]
  },
  {
   "cell_type": "code",
   "execution_count": 28,
   "metadata": {},
   "outputs": [],
   "source": [
    "x_test = X[:98]\n",
    "y_test = y[:98]\n",
    "x_train = X[98:]\n",
    "y_train = y[98:]"
   ]
  },
  {
   "cell_type": "markdown",
   "metadata": {},
   "source": [
    "<h3>Random forest regressor</h3>"
   ]
  },
  {
   "cell_type": "code",
   "execution_count": 43,
   "metadata": {},
   "outputs": [
    {
     "name": "stdout",
     "output_type": "stream",
     "text": [
      "Pearson r: 0.77 (+/- 0.00)\n",
      "0.7747449331756743\n"
     ]
    }
   ],
   "source": [
    "clf = RandomForestRegressor(n_estimators=100)\n",
    "clf.fit(x_train, y_train)\n",
    "reg_pearson = pearsonr_scorer(clf, x_test, y_test)\n",
    "print(\"Pearson r: %0.2f (+/- %0.2f)\" % (reg_pearson.mean(), reg_pearson.std() * 2))\n",
    "print(reg_pearson)"
   ]
  },
  {
   "cell_type": "code",
   "execution_count": 34,
   "metadata": {},
   "outputs": [],
   "source": [
    "with open(\"/usr/local/models/model_reg.pkl\", 'wb') as save_file:\n",
    "    pickle.dump(clf, save_file)"
   ]
  },
  {
   "cell_type": "markdown",
   "metadata": {},
   "source": [
    "<h3>Random forest classifier</h3>"
   ]
  },
  {
   "cell_type": "code",
   "execution_count": 55,
   "metadata": {},
   "outputs": [
    {
     "name": "stdout",
     "output_type": "stream",
     "text": [
      "Pearson r: 0.70 (+/- 0.00)\n",
      "0.7009074912893876\n"
     ]
    }
   ],
   "source": [
    "clf = RandomForestClassifier(n_estimators=100)\n",
    "clf.fit(x_train, y_train)\n",
    "reg_pearson = pearsonr_scorer(clf, x_test, y_test)\n",
    "print(\"Pearson r: %0.2f (+/- %0.2f)\" % (reg_pearson.mean(), reg_pearson.std() * 2))\n",
    "print(reg_pearson)"
   ]
  },
  {
   "cell_type": "code",
   "execution_count": 57,
   "metadata": {},
   "outputs": [],
   "source": [
    "import pickle\n",
    "with open(\"/usr/local/models/model_clf.pkl\", 'wb') as save_file:\n",
    "    pickle.dump(clf, save_file)"
   ]
  },
  {
   "cell_type": "markdown",
   "metadata": {},
   "source": [
    "<h3>Linear Regression</h3>"
   ]
  },
  {
   "cell_type": "code",
   "execution_count": 16,
   "metadata": {},
   "outputs": [
    {
     "name": "stdout",
     "output_type": "stream",
     "text": [
      "Pearson r: 0.66 (+/- 0.00)\n",
      "0.6616187699318261\n"
     ]
    }
   ],
   "source": [
    "clf = LinearRegression()\n",
    "clf.fit(x_train, y_train)\n",
    "reg_pearson = pearsonr_scorer(clf, x_test, y_test)\n",
    "print(\"Pearson r: %0.2f (+/- %0.2f)\" % (reg_pearson.mean(), reg_pearson.std() * 2))\n",
    "print(reg_pearson)"
   ]
  },
  {
   "cell_type": "markdown",
   "metadata": {},
   "source": [
    "<h3>Elastic Net (Linear Regression with L1 and L2 regularization)</h3>"
   ]
  },
  {
   "cell_type": "code",
   "execution_count": 17,
   "metadata": {},
   "outputs": [
    {
     "name": "stdout",
     "output_type": "stream",
     "text": [
      "Pearson r: 0.65 (+/- 0.00)\n",
      "0.6472582402335995\n"
     ]
    }
   ],
   "source": [
    "clf = ElasticNet()\n",
    "clf.fit(x_train, y_train)\n",
    "reg_pearson = pearsonr_scorer(clf, x_test, y_test)\n",
    "print(\"Pearson r: %0.2f (+/- %0.2f)\" % (reg_pearson.mean(), reg_pearson.std() * 2))\n",
    "print(reg_pearson)"
   ]
  },
  {
   "cell_type": "markdown",
   "metadata": {},
   "source": [
    "<h3>Stochastic Gradient Descent Classifier (Linear model with SGD learning)</h3>"
   ]
  },
  {
   "cell_type": "code",
   "execution_count": 18,
   "metadata": {},
   "outputs": [
    {
     "name": "stdout",
     "output_type": "stream",
     "text": [
      "Pearson r: 0.35 (+/- 0.00)\n",
      "0.3450056965484282\n"
     ]
    }
   ],
   "source": [
    "clf = SGDClassifier()\n",
    "clf.fit(x_train, y_train)\n",
    "reg_pearson = pearsonr_scorer(clf, x_test, y_test)\n",
    "print(\"Pearson r: %0.2f (+/- %0.2f)\" % (reg_pearson.mean(), reg_pearson.std() * 2))\n",
    "print(reg_pearson)"
   ]
  },
  {
   "cell_type": "markdown",
   "metadata": {},
   "source": [
    "<h3>Perceptron (SGD with parameters as follows: <br/>\n",
    "    <i>SGDClassifier(loss=\"perceptron\", eta0=1, learning_rate=\"constant\", penalty=None)</i> <br/>\n",
    ")</h3>"
   ]
  },
  {
   "cell_type": "code",
   "execution_count": 19,
   "metadata": {},
   "outputs": [
    {
     "name": "stdout",
     "output_type": "stream",
     "text": [
      "Pearson r: 0.49 (+/- 0.00)\n",
      "0.4921779940742049\n"
     ]
    }
   ],
   "source": [
    "clf = Perceptron()\n",
    "clf.fit(x_train, y_train)\n",
    "reg_pearson = pearsonr_scorer(clf, x_test, y_test)\n",
    "print(\"Pearson r: %0.2f (+/- %0.2f)\" % (reg_pearson.mean(), reg_pearson.std() * 2))\n",
    "print(reg_pearson)"
   ]
  },
  {
   "cell_type": "code",
   "execution_count": null,
   "metadata": {},
   "outputs": [],
   "source": []
  },
  {
   "cell_type": "code",
   "execution_count": null,
   "metadata": {},
   "outputs": [],
   "source": []
  }
 ],
 "metadata": {
  "kernelspec": {
   "display_name": "Python 3.7.5 64-bit",
   "language": "python",
   "name": "python37564bit35994581247b4ffea65b59a4135c482f"
  },
  "language_info": {
   "codemirror_mode": {
    "name": "ipython",
    "version": 3
   },
   "file_extension": ".py",
   "mimetype": "text/x-python",
   "name": "python",
   "nbconvert_exporter": "python",
   "pygments_lexer": "ipython3",
   "version": "3.7.6"
  }
 },
 "nbformat": 4,
 "nbformat_minor": 2
}
