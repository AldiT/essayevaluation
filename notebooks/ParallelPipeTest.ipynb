{
 "cells": [
  {
   "cell_type": "code",
   "execution_count": 2,
   "outputs": [
    {
     "name": "stdout",
     "text": [
      "done\nNumber of essays: 10000\n"
     ],
     "output_type": "stream"
    }
   ],
   "source": [
    "import sys\n",
    "\n",
    "import numpy as np\n",
    "from DataReader.XMLReader import get_essays\n",
    "from time import time\n",
    "from concurrent.futures import ProcessPoolExecutor\n",
    "from concurrent.futures import ThreadPoolExecutor, as_completed\n",
    "\n",
    "dataset_path = '/home/simon/Downloads/efcamdat/'\n",
    "levels = ['b1']\n",
    "\n",
    "essays = []\n",
    "scores = []\n",
    "\n",
    "result = {}\n",
    "with ThreadPoolExecutor(max_workers=4) as executor:\n",
    "    futures_level = {executor.submit(get_essays, dataset_path + 'level_' + level + '.xml'): level for level in levels}\n",
    "    for future in as_completed(futures_level):\n",
    "        level = futures_level[future]\n",
    "        try:\n",
    "            level_result = future.result()\n",
    "            result[level] = level_result\n",
    "        except Exception as exc:\n",
    "            print('%r generated an exception: %s' % (level, exc))\n",
    "\n",
    "    for level in levels:\n",
    "        essays += result[level][0]\n",
    "        scores += result[level][1]\n",
    "scores = np.array(scores)\n",
    "print(\"done\")\n",
    "print(\"Number of essays: \" + str(len(essays)))\n",
    "sys.stdout.flush()"
   ],
   "metadata": {
    "collapsed": false,
    "pycharm": {
     "name": "#%%\n",
     "is_executing": false
    }
   }
  },
  {
   "cell_type": "code",
   "execution_count": 3,
   "outputs": [],
   "source": [
    "from notebook_utils import log_progress\n",
    "import spacy\n",
    "from essay_evaluation.lexical_accuracy import SpellChecker, CollocationPreprocessor, CollocationDectector, \\\n",
    "    LexicalAccuracy, CollocationEvaluator\n",
    "from essay_evaluation.pipeline import FeatureCollector\n",
    "from essay_evaluation.collocational_aspects import CollocationalAspects\n",
    "\n",
    "\n",
    "def chunks(l, n):\n",
    "    \"\"\"Yield successive n-sized chunks from l.\n",
    "        from Ned Batchelder - https://stackoverflow.com/a/312464\n",
    "    \"\"\"\n",
    "    for i in range(0, len(l), n):\n",
    "        yield l[i:i + n]\n",
    "\n",
    "def pipe(id, essay_batch):\n",
    "    print('process ' + str(id) + ' start!')\n",
    "    sys.stdout.flush()\n",
    "    nlp = spacy.load('en_core_web_sm')\n",
    "    # we only need the tokenizer from spaCy\n",
    "    nlp.remove_pipe('tagger')\n",
    "    nlp.remove_pipe('parser')\n",
    "    nlp.remove_pipe('ner')\n",
    "\n",
    "    # add all required components\n",
    "    spell_checker = SpellChecker()\n",
    "    nlp.add_pipe(spell_checker, name=spell_checker.name, last=True)\n",
    "\n",
    "    col_preproc = CollocationPreprocessor()\n",
    "    nlp.add_pipe(col_preproc, name=col_preproc.name, last=True)\n",
    "\n",
    "    col_detect = CollocationDectector()\n",
    "    nlp.add_pipe(col_detect, name=col_detect.name, last=True)\n",
    "\n",
    "    col_evaluator = CollocationEvaluator()\n",
    "    nlp.add_pipe(col_evaluator, name=col_evaluator.name, last=True)\n",
    "\n",
    "    # add the lexical accuracy feature extractor\n",
    "    la_feature_extractor = LexicalAccuracy()\n",
    "    nlp.add_pipe(la_feature_extractor, name=la_feature_extractor.name, last=True)\n",
    "\n",
    "    # add the collocational aspects feature extractor\n",
    "\n",
    "    ca_feature_extractor = CollocationalAspects()\n",
    "    nlp.add_pipe(ca_feature_extractor, name=ca_feature_extractor.name, last=True)\n",
    "\n",
    "    # add the feature collector to get a nice feature matrix\n",
    "    feature_collector = FeatureCollector()\n",
    "    nlp.add_pipe(feature_collector, name=feature_collector.name, last=True)\n",
    "\n",
    "    feature_names = la_feature_extractor.feature_names + ca_feature_extractor.feature_names\n",
    "\n",
    "    docs = []\n",
    "    start = time()\n",
    "    for idx, essay in enumerate(essay_batch):\n",
    "        docs.append(nlp(essay))\n",
    "        if idx % 10 == 0:\n",
    "            print(\"process \" + str(id) + ' - '  + str(idx + 1) + \" docs - elapsed time: \" + str(time() - start))\n",
    "            sys.stdout.flush()\n",
    "    # we can't return the documents at this point.\n",
    "    # Returning them from one process to another would mean pickling them\n",
    "    # this causes an error (token can not be pickeled\n",
    "    # https://github.com/allenai/allennlp/issues/1887 (other project with same problem)\n",
    "\n",
    "    return feature_collector.get_feature_matrix()"
   ],
   "metadata": {
    "collapsed": false,
    "pycharm": {
     "name": "#%%\n",
     "is_executing": false
    }
   }
  },
  {
   "cell_type": "code",
   "execution_count": 9,
   "outputs": [],
   "source": [
    "chucked = chunks(essays[:100], 50)\n",
    "result = {}"
   ],
   "metadata": {
    "collapsed": false,
    "pycharm": {
     "name": "#%%\n",
     "is_executing": false
    }
   }
  },
  {
   "cell_type": "code",
   "execution_count": 10,
   "outputs": [
    {
     "name": "stdout",
     "text": [
      "process 0 start!\n",
      "process 1 start!\n",
      "process 1 - 1 docs - elapsed time: 3.0637433528900146\n",
      "process 0 - 1 docs - elapsed time: 3.2927629947662354\n",
      "process 1 - 11 docs - elapsed time: 15.100690841674805\n",
      "process 0 - 11 docs - elapsed time: 17.2802312374115\n",
      "process 1 - 21 docs - elapsed time: 29.280436515808105\n",
      "process 0 - 21 docs - elapsed time: 32.122382402420044\n",
      "process 1 - 31 docs - elapsed time: 43.597820520401\n",
      "process 0 - 31 docs - elapsed time: 46.489773988723755\n",
      "process 1 - 41 docs - elapsed time: 57.23483610153198\n",
      "process 0 - 41 docs - elapsed time: 61.07015323638916\n",
      "writing to disk\n"
     ],
     "output_type": "stream"
    }
   ],
   "source": [
    "with ProcessPoolExecutor(max_workers=2) as executor:\n",
    "    futures = {executor.submit(pipe, idx, batch): idx for idx, batch in enumerate(chucked)}\n",
    "    for future in as_completed(futures):\n",
    "        idx = futures[future]\n",
    "        try:\n",
    "            batch_result = future.result()\n",
    "            result[idx] = batch_result\n",
    "        except Exception as exc:\n",
    "            print('%r generated an exception: %s' % (idx, exc))\n",
    "\n",
    "print(\"writing to disk\")\n",
    "sys.stdout.flush()"
   ],
   "metadata": {
    "collapsed": false,
    "pycharm": {
     "name": "#%%\n",
     "is_executing": false
    }
   }
  },
  {
   "cell_type": "code",
   "execution_count": 11,
   "outputs": [
    {
     "data": {
      "text/plain": "{1: [[3,\n   0.026785714285714284,\n   0.5,\n   0.15384615384615385,\n   0.15384615384615385,\n   0.6923076923076923,\n   2.0,\n   2.0,\n   9.0],\n  [2,\n   0.017857142857142856,\n   0.5588235294117647,\n   0.06666666666666667,\n   0.06666666666666667,\n   0.8666666666666667,\n   1.0,\n   1.0,\n   13.0],\n  [2, 0.017857142857142856, 0.6428571428571429, 0.3, 0.0, 0.7, 3.0, 0.0, 7.0],\n  [1, 0.008771929824561403, 0.5652173913043478, 0.3, 0.1, 0.6, 3.0, 1.0, 6.0],\n  [1,\n   0.008928571428571428,\n   0.5428571428571428,\n   0.125,\n   0.125,\n   0.75,\n   2.0,\n   2.0,\n   12.0],\n  [6,\n   0.05357142857142857,\n   0.4074074074074074,\n   0.3125,\n   0.125,\n   0.5625,\n   5.0,\n   2.0,\n   9.0],\n  [3,\n   0.02586206896551724,\n   0.34782608695652173,\n   0.3333333333333333,\n   0.0,\n   0.6666666666666666,\n   5.0,\n   0.0,\n   10.0],\n  [1,\n   0.008928571428571428,\n   0.4,\n   0.08333333333333333,\n   0.16666666666666666,\n   0.75,\n   2.0,\n   4.0,\n   18.0],\n  [3,\n   0.026785714285714284,\n   0.4090909090909091,\n   0.07692307692307693,\n   0.15384615384615385,\n   0.7692307692307693,\n   1.0,\n   2.0,\n   10.0],\n  [4,\n   0.03571428571428571,\n   0.5,\n   0.17647058823529413,\n   0.11764705882352941,\n   0.7058823529411765,\n   3.0,\n   2.0,\n   12.0],\n  [1,\n   0.008928571428571428,\n   0.3888888888888889,\n   0.18181818181818182,\n   0.2727272727272727,\n   0.5454545454545454,\n   2.0,\n   3.0,\n   6.0],\n  [1,\n   0.008928571428571428,\n   0.19230769230769232,\n   0.0,\n   0.14285714285714285,\n   0.8571428571428571,\n   0.0,\n   3.0,\n   18.0],\n  [0,\n   0.0,\n   0.41935483870967744,\n   0.2777777777777778,\n   0.1111111111111111,\n   0.6111111111111112,\n   5.0,\n   2.0,\n   11.0],\n  [2,\n   0.017857142857142856,\n   0.4230769230769231,\n   0.06666666666666667,\n   0.3333333333333333,\n   0.6,\n   1.0,\n   5.0,\n   9.0],\n  [8,\n   0.07142857142857142,\n   0.4375,\n   0.16666666666666666,\n   0.0,\n   0.8333333333333334,\n   3.0,\n   0.0,\n   15.0],\n  [0,\n   0.0,\n   0.6060606060606061,\n   0.15384615384615385,\n   0.07692307692307693,\n   0.7692307692307693,\n   2.0,\n   1.0,\n   10.0],\n  [0,\n   0.0,\n   0.56,\n   0.2727272727272727,\n   0.18181818181818182,\n   0.5454545454545454,\n   3.0,\n   2.0,\n   6.0],\n  [0,\n   0.0,\n   0.5882352941176471,\n   0.07142857142857142,\n   0.0,\n   0.9285714285714286,\n   1.0,\n   0.0,\n   13.0],\n  [2,\n   0.017543859649122806,\n   0.35294117647058826,\n   0.45454545454545453,\n   0.0,\n   0.5454545454545454,\n   5.0,\n   0.0,\n   6.0],\n  [0,\n   0.0,\n   0.5357142857142857,\n   0.23076923076923078,\n   0.0,\n   0.7692307692307693,\n   3.0,\n   0.0,\n   10.0],\n  [5,\n   0.044642857142857144,\n   0.6333333333333333,\n   0.36363636363636365,\n   0.0,\n   0.6363636363636364,\n   4.0,\n   0.0,\n   7.0],\n  [4,\n   0.03571428571428571,\n   0.4864864864864865,\n   0.15789473684210525,\n   0.10526315789473684,\n   0.7368421052631579,\n   3.0,\n   2.0,\n   14.0],\n  [2,\n   0.017857142857142856,\n   0.5333333333333333,\n   0.2857142857142857,\n   0.07142857142857142,\n   0.6428571428571429,\n   4.0,\n   1.0,\n   9.0],\n  [3,\n   0.026785714285714284,\n   0.5882352941176471,\n   0.07142857142857142,\n   0.14285714285714285,\n   0.7857142857142857,\n   1.0,\n   2.0,\n   11.0],\n  [2,\n   0.017857142857142856,\n   0.42857142857142855,\n   0.25,\n   0.1,\n   0.65,\n   5.0,\n   2.0,\n   13.0],\n  [7,\n   0.0625,\n   0.5161290322580645,\n   0.0,\n   0.13333333333333333,\n   0.8666666666666667,\n   0.0,\n   2.0,\n   13.0],\n  [6,\n   0.05128205128205128,\n   0.6470588235294118,\n   0.16666666666666666,\n   0.16666666666666666,\n   0.6666666666666666,\n   1.0,\n   1.0,\n   4.0],\n  [0,\n   0.0,\n   0.46875,\n   0.23529411764705882,\n   0.058823529411764705,\n   0.7058823529411765,\n   4.0,\n   1.0,\n   12.0],\n  [5,\n   0.044642857142857144,\n   0.44,\n   0.21428571428571427,\n   0.14285714285714285,\n   0.6428571428571429,\n   3.0,\n   2.0,\n   9.0],\n  [0, 0.0, 0.5517241379310345, 0.0, 0.0, 1.0, 0.0, 0.0, 13.0],\n  [1, 0.008928571428571428, 0.5454545454545454, 0.1, 0.1, 0.8, 1.0, 1.0, 8.0],\n  [3,\n   0.026785714285714284,\n   0.625,\n   0.1111111111111111,\n   0.0,\n   0.8888888888888888,\n   1.0,\n   0.0,\n   8.0],\n  [1,\n   0.008928571428571428,\n   0.6333333333333333,\n   0.2727272727272727,\n   0.0,\n   0.7272727272727273,\n   3.0,\n   0.0,\n   8.0],\n  [2,\n   0.017857142857142856,\n   0.5833333333333334,\n   0.06666666666666667,\n   0.2,\n   0.7333333333333333,\n   1.0,\n   3.0,\n   11.0],\n  [4,\n   0.03571428571428571,\n   0.45161290322580644,\n   0.0,\n   0.11764705882352941,\n   0.8823529411764706,\n   0.0,\n   2.0,\n   15.0],\n  [2,\n   0.017857142857142856,\n   0.6129032258064516,\n   0.16666666666666666,\n   0.08333333333333333,\n   0.75,\n   2.0,\n   1.0,\n   9.0],\n  [2,\n   0.017857142857142856,\n   0.48148148148148145,\n   0.2857142857142857,\n   0.07142857142857142,\n   0.6428571428571429,\n   4.0,\n   1.0,\n   9.0],\n  [2,\n   0.017857142857142856,\n   0.3235294117647059,\n   0.17391304347826086,\n   0.17391304347826086,\n   0.6521739130434783,\n   4.0,\n   4.0,\n   15.0],\n  [2,\n   0.017857142857142856,\n   0.75,\n   0.14285714285714285,\n   0.14285714285714285,\n   0.7142857142857143,\n   1.0,\n   1.0,\n   5.0],\n  [2,\n   0.017857142857142856,\n   0.5161290322580645,\n   0.26666666666666666,\n   0.2,\n   0.5333333333333333,\n   4.0,\n   3.0,\n   8.0],\n  [1,\n   0.008928571428571428,\n   0.5588235294117647,\n   0.06666666666666667,\n   0.06666666666666667,\n   0.8666666666666667,\n   1.0,\n   1.0,\n   13.0],\n  [1,\n   0.008928571428571428,\n   0.5384615384615384,\n   0.0,\n   0.08333333333333333,\n   0.9166666666666666,\n   0.0,\n   1.0,\n   11.0],\n  [3,\n   0.02631578947368421,\n   0.43478260869565216,\n   0.15384615384615385,\n   0.15384615384615385,\n   0.6923076923076923,\n   2.0,\n   2.0,\n   9.0],\n  [1,\n   0.008620689655172414,\n   0.5185185185185185,\n   0.23076923076923078,\n   0.07692307692307693,\n   0.6923076923076923,\n   3.0,\n   1.0,\n   9.0],\n  [5,\n   0.044642857142857144,\n   0.4827586206896552,\n   0.0,\n   0.06666666666666667,\n   0.9333333333333333,\n   0.0,\n   1.0,\n   14.0],\n  [2,\n   0.017857142857142856,\n   0.46875,\n   0.11764705882352941,\n   0.0,\n   0.8823529411764706,\n   2.0,\n   0.0,\n   15.0],\n  [2,\n   0.017857142857142856,\n   0.4375,\n   0.2222222222222222,\n   0.1111111111111111,\n   0.6666666666666666,\n   4.0,\n   2.0,\n   12.0],\n  [1,\n   0.008928571428571428,\n   0.3,\n   0.19047619047619047,\n   0.14285714285714285,\n   0.6666666666666666,\n   4.0,\n   3.0,\n   14.0],\n  [1,\n   0.008928571428571428,\n   0.4482758620689655,\n   0.4375,\n   0.125,\n   0.4375,\n   7.0,\n   2.0,\n   7.0],\n  [0,\n   0.0,\n   0.5161290322580645,\n   0.06666666666666667,\n   0.2,\n   0.7333333333333333,\n   1.0,\n   3.0,\n   11.0]],\n 0: [[4,\n   0.03571428571428571,\n   0.36363636363636365,\n   0.09523809523809523,\n   0.23809523809523808,\n   0.6666666666666666,\n   2.0,\n   5.0,\n   14.0],\n  [8,\n   0.07142857142857142,\n   0.3333333333333333,\n   0.08333333333333333,\n   0.041666666666666664,\n   0.875,\n   2.0,\n   1.0,\n   21.0],\n  [4,\n   0.03571428571428571,\n   0.45454545454545453,\n   0.08333333333333333,\n   0.0,\n   0.9166666666666666,\n   1.0,\n   0.0,\n   11.0],\n  [1,\n   0.008928571428571428,\n   0.35714285714285715,\n   0.05555555555555555,\n   0.2222222222222222,\n   0.7222222222222222,\n   1.0,\n   4.0,\n   13.0],\n  [0,\n   0.0,\n   0.4634146341463415,\n   0.3181818181818182,\n   0.13636363636363635,\n   0.5454545454545454,\n   7.0,\n   3.0,\n   12.0],\n  [3,\n   0.02564102564102564,\n   0.6190476190476191,\n   0.0,\n   0.375,\n   0.625,\n   0.0,\n   3.0,\n   5.0],\n  [1,\n   0.008928571428571428,\n   0.3793103448275862,\n   0.0,\n   0.1111111111111111,\n   0.8888888888888888,\n   0.0,\n   2.0,\n   16.0],\n  [0,\n   0.0,\n   0.4418604651162791,\n   0.16666666666666666,\n   0.20833333333333334,\n   0.625,\n   4.0,\n   5.0,\n   15.0],\n  [1,\n   0.008928571428571428,\n   0.6363636363636364,\n   0.25,\n   0.25,\n   0.5,\n   2.0,\n   2.0,\n   4.0],\n  [0, 0.0, 0.5151515151515151, 0.25, 0.0, 0.75, 4.0, 0.0, 12.0],\n  [2,\n   0.017857142857142856,\n   0.46511627906976744,\n   0.13043478260869565,\n   0.043478260869565216,\n   0.8260869565217391,\n   3.0,\n   1.0,\n   19.0],\n  [1,\n   0.008928571428571428,\n   0.6046511627906976,\n   0.17647058823529413,\n   0.0,\n   0.8235294117647058,\n   3.0,\n   0.0,\n   14.0],\n  [0, 0.0, 0.24242424242424243, 0.08, 0.04, 0.88, 2.0, 1.0, 22.0],\n  [4,\n   0.03571428571428571,\n   0.43333333333333335,\n   0.11764705882352941,\n   0.058823529411764705,\n   0.8235294117647058,\n   2.0,\n   1.0,\n   14.0],\n  [2,\n   0.017857142857142856,\n   0.5172413793103449,\n   0.35714285714285715,\n   0.21428571428571427,\n   0.42857142857142855,\n   5.0,\n   3.0,\n   6.0],\n  [0,\n   0.0,\n   0.5,\n   0.2222222222222222,\n   0.16666666666666666,\n   0.6111111111111112,\n   4.0,\n   3.0,\n   11.0],\n  [1,\n   0.008928571428571428,\n   0.5806451612903226,\n   0.23076923076923078,\n   0.15384615384615385,\n   0.6153846153846154,\n   3.0,\n   2.0,\n   8.0],\n  [3,\n   0.026785714285714284,\n   0.6129032258064516,\n   0.16666666666666666,\n   0.16666666666666666,\n   0.6666666666666666,\n   2.0,\n   2.0,\n   8.0],\n  [7,\n   0.0625,\n   0.7096774193548387,\n   0.0,\n   0.1111111111111111,\n   0.8888888888888888,\n   0.0,\n   1.0,\n   8.0],\n  [2,\n   0.017857142857142856,\n   0.42105263157894735,\n   0.0,\n   0.09090909090909091,\n   0.9090909090909091,\n   0.0,\n   1.0,\n   10.0],\n  [0,\n   0.0,\n   0.5333333333333333,\n   0.2857142857142857,\n   0.21428571428571427,\n   0.5,\n   4.0,\n   3.0,\n   7.0],\n  [3,\n   0.026785714285714284,\n   0.47619047619047616,\n   0.2727272727272727,\n   0.18181818181818182,\n   0.5454545454545454,\n   3.0,\n   2.0,\n   6.0],\n  [2,\n   0.017857142857142856,\n   0.48,\n   0.23076923076923078,\n   0.15384615384615385,\n   0.6153846153846154,\n   3.0,\n   2.0,\n   8.0],\n  [6,\n   0.05357142857142857,\n   0.5,\n   0.07692307692307693,\n   0.0,\n   0.9230769230769231,\n   1.0,\n   0.0,\n   12.0],\n  [4,\n   0.03571428571428571,\n   0.5,\n   0.07142857142857142,\n   0.0,\n   0.9285714285714286,\n   1.0,\n   0.0,\n   13.0],\n  [0,\n   0.0,\n   0.4444444444444444,\n   0.06666666666666667,\n   0.0,\n   0.9333333333333333,\n   1.0,\n   0.0,\n   14.0],\n  [3,\n   0.026785714285714284,\n   0.4375,\n   0.05555555555555555,\n   0.05555555555555555,\n   0.8888888888888888,\n   1.0,\n   1.0,\n   16.0],\n  [3,\n   0.026785714285714284,\n   0.64,\n   0.2222222222222222,\n   0.0,\n   0.7777777777777778,\n   2.0,\n   0.0,\n   7.0],\n  [0,\n   0.0,\n   0.5483870967741935,\n   0.21428571428571427,\n   0.0,\n   0.7857142857142857,\n   3.0,\n   0.0,\n   11.0],\n  [0, 0.0, 0.4482758620689655, 0.0625, 0.1875, 0.75, 1.0, 3.0, 12.0],\n  [4,\n   0.03571428571428571,\n   0.42857142857142855,\n   0.15,\n   0.1,\n   0.75,\n   3.0,\n   2.0,\n   15.0],\n  [0, 0.0, 0.3, 0.0, 0.0, 1.0, 0.0, 0.0, 21.0],\n  [5, 0.044642857142857144, 0.5652173913043478, 0.1, 0.2, 0.7, 1.0, 2.0, 7.0],\n  [1,\n   0.008928571428571428,\n   0.5555555555555556,\n   0.08333333333333333,\n   0.16666666666666666,\n   0.75,\n   1.0,\n   2.0,\n   9.0],\n  [3,\n   0.026785714285714284,\n   0.3157894736842105,\n   0.3076923076923077,\n   0.07692307692307693,\n   0.6153846153846154,\n   4.0,\n   1.0,\n   8.0],\n  [1,\n   0.008928571428571428,\n   0.29411764705882354,\n   0.0,\n   0.16666666666666666,\n   0.8333333333333334,\n   0.0,\n   2.0,\n   10.0],\n  [1,\n   0.008928571428571428,\n   0.25,\n   0.25,\n   0.08333333333333333,\n   0.6666666666666666,\n   6.0,\n   2.0,\n   16.0],\n  [0, 0.0, 0.2857142857142857, 0.08, 0.12, 0.8, 2.0, 3.0, 20.0],\n  [0,\n   0.0,\n   0.5476190476190477,\n   0.21052631578947367,\n   0.10526315789473684,\n   0.6842105263157895,\n   4.0,\n   2.0,\n   13.0],\n  [1,\n   0.008928571428571428,\n   0.4583333333333333,\n   0.46153846153846156,\n   0.07692307692307693,\n   0.46153846153846156,\n   6.0,\n   1.0,\n   6.0],\n  [3,\n   0.026785714285714284,\n   0.5217391304347826,\n   0.13636363636363635,\n   0.18181818181818182,\n   0.6818181818181818,\n   3.0,\n   4.0,\n   15.0],\n  [1,\n   0.008928571428571428,\n   0.6129032258064516,\n   0.0,\n   0.16666666666666666,\n   0.8333333333333334,\n   0.0,\n   2.0,\n   10.0],\n  [2,\n   0.017857142857142856,\n   0.44,\n   0.2857142857142857,\n   0.07142857142857142,\n   0.6428571428571429,\n   4.0,\n   1.0,\n   9.0],\n  [0,\n   0.0,\n   0.48,\n   0.15384615384615385,\n   0.15384615384615385,\n   0.6923076923076923,\n   2.0,\n   2.0,\n   9.0],\n  [1,\n   0.008928571428571428,\n   0.6111111111111112,\n   0.42857142857142855,\n   0.07142857142857142,\n   0.5,\n   6.0,\n   1.0,\n   7.0],\n  [0, 0.0, 0.52, 0.3333333333333333, 0.0, 0.6666666666666666, 4.0, 0.0, 8.0],\n  [2,\n   0.017857142857142856,\n   0.6333333333333333,\n   0.09090909090909091,\n   0.09090909090909091,\n   0.8181818181818182,\n   1.0,\n   1.0,\n   9.0],\n  [3,\n   0.026785714285714284,\n   0.37142857142857144,\n   0.22727272727272727,\n   0.09090909090909091,\n   0.6818181818181818,\n   5.0,\n   2.0,\n   15.0],\n  [2,\n   0.017857142857142856,\n   0.6333333333333333,\n   0.18181818181818182,\n   0.0,\n   0.8181818181818182,\n   2.0,\n   0.0,\n   9.0],\n  [4,\n   0.03571428571428571,\n   0.41935483870967744,\n   0.3333333333333333,\n   0.16666666666666666,\n   0.5,\n   6.0,\n   3.0,\n   9.0]]}"
     },
     "metadata": {},
     "output_type": "execute_result",
     "execution_count": 11
    }
   ],
   "source": [
    "result"
   ],
   "metadata": {
    "collapsed": false,
    "pycharm": {
     "name": "#%%\n",
     "is_executing": false
    }
   }
  },
  {
   "cell_type": "code",
   "execution_count": 16,
   "outputs": [
    {
     "name": "stderr",
     "text": [
      "warning: PYDEVD_USE_CYTHON environment variable is set to 'NO'. Frame evaluator will be also disabled because it requires Cython extensions to be enabled in order to operate correctly.\n"
     ],
     "output_type": "stream"
    }
   ],
   "source": [
    "feature_matrix = []\n",
    "\n",
    "for idx, batch in enumerate(chucked):\n",
    "    feature_matrix += result[idx]"
   ],
   "metadata": {
    "collapsed": false,
    "pycharm": {
     "name": "#%%\n",
     "is_executing": false
    }
   }
  },
  {
   "cell_type": "code",
   "execution_count": 20,
   "outputs": [],
   "source": [
    "for idx in range(len(result)):\n",
    "    feature_matrix += result[idx]"
   ],
   "metadata": {
    "collapsed": false,
    "pycharm": {
     "name": "#%%\n",
     "is_executing": false
    }
   }
  },
  {
   "cell_type": "code",
   "execution_count": 22,
   "outputs": [
    {
     "data": {
      "text/plain": "100"
     },
     "metadata": {},
     "output_type": "execute_result",
     "execution_count": 22
    }
   ],
   "source": [
    "len(feature_matrix)"
   ],
   "metadata": {
    "collapsed": false,
    "pycharm": {
     "name": "#%%\n",
     "is_executing": false
    }
   }
  },
  {
   "cell_type": "code",
   "execution_count": null,
   "outputs": [],
   "source": [
    "nparr = np.array(feature_matrix)\n",
    "np.save(sys.argv[2] +'.npy',nparr)"
   ],
   "metadata": {
    "collapsed": false,
    "pycharm": {
     "name": "#%%\n"
    }
   }
  }
 ],
 "metadata": {
  "kernelspec": {
   "display_name": "Python 3",
   "language": "python",
   "name": "python3"
  },
  "language_info": {
   "codemirror_mode": {
    "name": "ipython",
    "version": 3
   },
   "file_extension": ".py",
   "mimetype": "text/x-python",
   "name": "python",
   "nbconvert_exporter": "python",
   "pygments_lexer": "ipython3",
   "version": "3.7.4"
  },
  "pycharm": {
   "stem_cell": {
    "cell_type": "raw",
    "source": [],
    "metadata": {
     "collapsed": false
    }
   }
  }
 },
 "nbformat": 4,
 "nbformat_minor": 1
}