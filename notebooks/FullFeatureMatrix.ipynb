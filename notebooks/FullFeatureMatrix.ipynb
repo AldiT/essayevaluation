{
 "cells": [
  {
   "cell_type": "code",
   "execution_count": 9,
   "metadata": {},
   "outputs": [],
   "source": [
    "import numpy as np\n",
    "import pandas as pd\n",
    "from scipy.stats import pearsonr"
   ]
  },
  {
   "cell_type": "code",
   "execution_count": 29,
   "metadata": {},
   "outputs": [
    {
     "name": "stdout",
     "output_type": "stream",
     "text": [
      "['LV_W', 'LV_WT', 'LV_WT1', 'LV_TTR', 'LV_CTTR', 'LV_RTTR', 'LV_HDD', 'LV_DUGA', 'LV_MAAS', 'LV_SUMM', 'LV_YULEK', 'LV_MTLD', 'LV_MSTTR', 'LV_MATTR', 'LS_FPC_NG', 'LS_FPC_NA', 'LS_FPC_TC', 'LS_FPC_BS', 'LS_FPC_CA', 'LS_FPC_CT', 'LS_FPC_CGA1', 'LS_FPC_CGA2', 'LS_FPC_CGA3', 'LS_FOMN_NG', 'LS_FOMN_NA', 'LS_FOMN_TC', 'LS_FOMN_BS', 'LS_FOMN_CA', 'LA_ER', 'LA_COL_ERR_R', 'CA_BIN1_R', 'CA_BIN2_R', 'CA_BIN3_R', 'LD_LXUR', 'LD_GRUR']\n",
      "\n",
      "[(0, 'LV_W'), (1, 'LV_WT'), (2, 'LV_WT1'), (3, 'LV_TTR'), (4, 'LV_CTTR'), (5, 'LV_RTTR'), (6, 'LV_HDD'), (7, 'LV_DUGA'), (8, 'LV_MAAS'), (9, 'LV_SUMM'), (10, 'LV_YULEK'), (11, 'LV_MTLD'), (12, 'LV_MSTTR'), (13, 'LV_MATTR'), (14, 'LS_FPC_NG'), (15, 'LS_FPC_NA'), (16, 'LS_FPC_TC'), (17, 'LS_FPC_BS'), (18, 'LS_FPC_CA'), (19, 'LS_FPC_CT'), (20, 'LS_FPC_CGA1'), (21, 'LS_FPC_CGA2'), (22, 'LS_FPC_CGA3'), (23, 'LS_FOMN_NG'), (24, 'LS_FOMN_NA'), (25, 'LS_FOMN_TC'), (26, 'LS_FOMN_BS'), (27, 'LS_FOMN_CA'), (28, 'LA_ER'), (29, 'LA_COL_ERR_R'), (30, 'CA_BIN1_R'), (31, 'CA_BIN2_R'), (32, 'CA_BIN3_R'), (33, 'LD_LXUR'), (34, 'LD_GRUR')]\n"
     ]
    }
   ],
   "source": [
    "#14 features\n",
    "features_lv = ['LV_W', 'LV_WT', 'LV_WT1', 'LV_TTR', 'LV_CTTR', 'LV_RTTR', 'LV_HDD', 'LV_DUGA', 'LV_MAAS', 'LV_SUMM',\n",
    "                         'LV_YULEK','LV_MTLD','LV_MSTTR','LV_MATTR']\n",
    "\n",
    "#14 features\n",
    "features_ls = [\"LS_FPC_NG\", \"LS_FPC_NA\", \"LS_FPC_TC\", \"LS_FPC_BS\", \"LS_FPC_CA\", \"LS_FPC_CT\", \"LS_FPC_CGA1\",\n",
    "            \"LS_FPC_CGA2\", \"LS_FPC_CGA3\", \"LS_FOMN_NG\", \"LS_FOMN_NA\", \"LS_FOMN_TC\", \"LS_FOMN_BS\", \"LS_FOMN_CA\"]\n",
    "#3 features\n",
    "features_la = [\"LA_ER\", \"LA_COL_ERR_R\"]\n",
    "#6 features\n",
    "features_ca = [\"CA_BIN1_R\", \"CA_BIN2_R\", \"CA_BIN3_R\"]\n",
    "#2 features\n",
    "features_ld = [\"LD_LXUR\", \"LD_GRUR\"]\n",
    "\n",
    "feature_names = features_lv + features_ls + features_la + features_ca + features_ld\n",
    "\n",
    "indecies = np.arange(len(feature_names))\n",
    "t = zip(indecies, feature_names)\n",
    "\n",
    "print(feature_names)\n",
    "print()\n",
    "print([elem for elem in t])"
   ]
  },
  {
   "cell_type": "code",
   "execution_count": 20,
   "metadata": {},
   "outputs": [
    {
     "name": "stdout",
     "output_type": "stream",
     "text": [
      "Ld features:  (1000, 2)\n",
      "LVLS features:  (1000, 28)\n",
      "Grades:  (1000,)\n",
      "Simon features:  (1000, 5)\n",
      "Feature matrix shape:  (1000, 35)\n"
     ]
    }
   ],
   "source": [
    "level = \"c1\"\n",
    "ld_features = np.load(\"level_\" + level + \"_fm_ld.npy\")\n",
    "feature_matrix = np.load(\"feature_matrices/level_\" + level + \"_fm.npy\")\n",
    "grades = np.load(\"feature_matrices/level_\" + level + \"_grades.npy\")\n",
    "simon_features = np.load(\"simon_features/\" + level + \".npy\")\n",
    "\n",
    "\n",
    "ld_features = ld_features[:1000, :]\n",
    "feature_matrix = feature_matrix[:1000, :]\n",
    "grades = grades[:1000]\n",
    "simon_features = simon_features[:, [1, 2, 3, 4, 5]]\n",
    "\n",
    "\n",
    "print(\"Ld features: \", ld_features.shape)\n",
    "print(\"LVLS features: \", feature_matrix.shape)\n",
    "print(\"Grades: \", grades.shape)\n",
    "print(\"Simon features: \", simon_features.shape)\n",
    "feature_matrix = np.concatenate((feature_matrix, simon_features, ld_features), axis=1)\n",
    "print(\"Feature matrix shape: \", feature_matrix.shape)\n"
   ]
  },
  {
   "cell_type": "code",
   "execution_count": 21,
   "metadata": {},
   "outputs": [],
   "source": [
    "np.save(\"all_features_1000/feature_matrix_\"+level+\"_fm.npy\", feature_matrix)\n",
    "np.save(\"all_features_1000/feature_matrix_\"+level+\"_grades.npy\", grades)"
   ]
  },
  {
   "cell_type": "code",
   "execution_count": null,
   "metadata": {},
   "outputs": [],
   "source": []
  }
 ],
 "metadata": {
  "kernelspec": {
   "display_name": "Python 3",
   "language": "python",
   "name": "python3"
  },
  "language_info": {
   "codemirror_mode": {
    "name": "ipython",
    "version": 3
   },
   "file_extension": ".py",
   "mimetype": "text/x-python",
   "name": "python",
   "nbconvert_exporter": "python",
   "pygments_lexer": "ipython3",
   "version": "3.7.3"
  }
 },
 "nbformat": 4,
 "nbformat_minor": 2
}
