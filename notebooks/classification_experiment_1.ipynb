{
 "cells": [
  {
   "cell_type": "code",
   "execution_count": 1,
   "metadata": {
    "collapsed": true,
    "pycharm": {
     "is_executing": false
    }
   },
   "outputs": [],
   "source": [
    "import numpy as np\n",
    "from scipy.stats import pearsonr\n",
    "import spacy\n",
    "from sklearn.ensemble import RandomForestClassifier, RandomForestRegressor\n",
    "from sklearn.model_selection import cross_val_score, KFold\n",
    "from tqdm import tqdm\n",
    "from essay_evaluation.corpus import read_flip_texts\n",
    "from essay_evaluation.lexical_variation_taaled import TaaledTokenClassifier, LexicalAccuracyTaaled\n",
    "import pandas as pd"
   ]
  },
  {
   "cell_type": "markdown",
   "metadata": {
    "pycharm": {
     "name": "#%% md\n"
    }
   },
   "source": [
    "## 0. Setup\n",
    "Set paths here:"
   ]
  },
  {
   "cell_type": "code",
   "execution_count": 2,
   "metadata": {
    "pycharm": {
     "is_executing": false,
     "name": "#%%\n"
    }
   },
   "outputs": [],
   "source": [
    "flip_path = '/home/simon/Downloads/flip.csv'\n",
    "levels = ['A1.1', 'A1.2', 'B1.1', 'B1.2', 'B2.1', 'B2.2', 'C1.1']\n"
   ]
  },
  {
   "cell_type": "code",
   "execution_count": 3,
   "metadata": {
    "pycharm": {
     "is_executing": false,
     "name": "#%%\n"
    }
   },
   "outputs": [],
   "source": [
    "nlp = spacy.load(\"en_core_web_sm\")\n",
    "nlp.add_pipe(TaaledTokenClassifier(), name=TaaledTokenClassifier.name, last=True)\n",
    "nlp.add_pipe(LexicalAccuracyTaaled(), name=LexicalAccuracyTaaled.name, last=True)\n",
    "nlp.remove_pipe('ner')\n",
    "texts, grades, _ = read_flip_texts(flip_path, levels=levels)"
   ]
  },
  {
   "cell_type": "markdown",
   "metadata": {
    "pycharm": {
     "name": "#%% md\n"
    }
   },
   "source": [
    "## 1. Preproccessing"
   ]
  },
  {
   "cell_type": "code",
   "execution_count": 4,
   "metadata": {
    "pycharm": {
     "is_executing": false,
     "name": "#%%\n"
    }
   },
   "outputs": [
    {
     "name": "stderr",
     "output_type": "stream",
     "text": [
      "100%|██████████| 332/332 [01:01<00:00,  5.38it/s]\n"
     ]
    }
   ],
   "source": [
    "X = []\n",
    "feature_names = None\n",
    "for doc in tqdm(nlp.pipe(texts), total=len(texts)):\n",
    "    if feature_names is None:\n",
    "        feature_names = list(doc._.features.keys())\n",
    "    X.append(list(doc._.features.values()))"
   ]
  },
  {
   "cell_type": "code",
   "execution_count": 5,
   "metadata": {
    "pycharm": {
     "is_executing": false,
     "name": "#%%\n"
    }
   },
   "outputs": [],
   "source": [
    "X = np.array(X)\n",
    "y = np.array(grades)\n",
    "\n",
    "df = pd.DataFrame(X, columns=feature_names)\n",
    "df.insert(len(feature_names),'AVG_VOCAB_GRADE', y)\n",
    "\n",
    "# Cross validation split\n",
    "cv = KFold(10, True)\n",
    "\n",
    "def pearsonr_scorer(estimator, X, y):\n",
    "    pred = estimator.predict(X)\n",
    "    r, pval = pearsonr(y, pred)\n",
    "    return r"
   ]
  },
  {
   "cell_type": "markdown",
   "metadata": {
    "pycharm": {
     "name": "#%% md\n"
    }
   },
   "source": [
    "## 2. Regression"
   ]
  },
  {
   "cell_type": "code",
   "execution_count": 6,
   "metadata": {
    "pycharm": {
     "is_executing": false,
     "name": "#%%\n"
    }
   },
   "outputs": [
    {
     "name": "stdout",
     "output_type": "stream",
     "text": [
      "Pearson r: 0.46 (+/- 0.25)\n",
      "[0.54556715 0.41488162 0.54180242 0.67122565 0.31240396 0.47114191\n",
      " 0.46733895 0.22452411 0.41031483 0.56044299]\n"
     ]
    }
   ],
   "source": [
    "clf = RandomForestRegressor(n_estimators=100)\n",
    "reg_pearson = cross_val_score(clf, X, y, cv=cv, scoring=pearsonr_scorer)\n",
    "print(\"Pearson r: %0.2f (+/- %0.2f)\" % (reg_pearson.mean(), reg_pearson.std() * 2))\n",
    "print(reg_pearson)"
   ]
  },
  {
   "cell_type": "markdown",
   "metadata": {},
   "source": [
    "## 3. Classification"
   ]
  },
  {
   "cell_type": "code",
   "execution_count": 7,
   "metadata": {
    "pycharm": {
     "is_executing": false,
     "name": "#%%\n"
    }
   },
   "outputs": [
    {
     "name": "stdout",
     "output_type": "stream",
     "text": [
      "Pearson r: 0.20 (+/- 0.35)\n",
      "[ 0.2868838   0.43577712  0.28986377  0.19234218  0.29385147  0.09188115\n",
      " -0.03071838  0.47610294  0.         -0.01785714]\n"
     ]
    }
   ],
   "source": [
    "clf = RandomForestClassifier(n_estimators=100)\n",
    "y_int = y.astype(int)\n",
    "clf_pearson = cross_val_score(clf, X, y_int, cv=cv, scoring=pearsonr_scorer)\n",
    "print(\"Pearson r: %0.2f (+/- %0.2f)\" % (clf_pearson.mean(), clf_pearson.std() * 2))\n",
    "print(clf_pearson)"
   ]
  }
 ],
 "metadata": {
  "kernelspec": {
   "display_name": "Python 3",
   "language": "python",
   "name": "python3"
  },
  "language_info": {
   "codemirror_mode": {
    "name": "ipython",
    "version": 3
   },
   "file_extension": ".py",
   "mimetype": "text/x-python",
   "name": "python",
   "nbconvert_exporter": "python",
   "pygments_lexer": "ipython3",
   "version": "3.7.6"
  },
  "pycharm": {
   "stem_cell": {
    "cell_type": "raw",
    "metadata": {
     "collapsed": false
    },
    "source": []
   }
  }
 },
 "nbformat": 4,
 "nbformat_minor": 1
}
