{
 "cells": [
  {
   "cell_type": "markdown",
   "metadata": {},
   "source": [
    "# Correlation between indices and proficiency level\n",
    "This notebook tries to visualize the correlation between lexcial variation indices and the proficiency level according \n",
    "to the CFER."
   ]
  },
  {
   "cell_type": "markdown",
   "metadata": {
    "pycharm": {
     "name": "#%% md\n"
    }
   },
   "source": [
    "## 1. Load the dataset\n",
    "We load each level"
   ]
  },
  {
   "cell_type": "code",
   "execution_count": 1,
   "metadata": {
    "pycharm": {
     "is_executing": false,
     "name": "#%%\n"
    }
   },
   "outputs": [],
   "source": [
    "dataset_path = '/home/simon/Downloads/efcamdat/'\n",
    "levels = ['a1','a2','b1','b2','c1']\n",
    "\n",
    "\n",
    "from DataReader.XMLReader import get_essays\n",
    "from concurrent.futures import ThreadPoolExecutor, as_completed\n",
    "\n",
    "texts = []\n",
    "grades = []\n",
    "\n",
    "result = {}\n",
    "with ThreadPoolExecutor(max_workers=4) as executor:\n",
    "    \n",
    "    futures_level = {executor.submit(get_essays, dataset_path + 'level_' + level + '.xml'): level for level in levels}\n",
    "    for future in as_completed(futures_level):\n",
    "        level = futures_level[future]\n",
    "        try:\n",
    "            level_result = future.result()\n",
    "            result[level] = level_result\n",
    "        except Exception as exc:\n",
    "            print('%r generated an exception: %s' % (level, exc))\n",
    "        \n",
    "    for level in levels:\n",
    "        texts += result[level][0]\n",
    "        grades += result[level][1]"
   ]
  },
  {
   "cell_type": "markdown",
   "metadata": {},
   "source": [
    "Let's check if we loaded the dataset correctly:"
   ]
  },
  {
   "cell_type": "code",
   "execution_count": 2,
   "metadata": {
    "pycharm": {
     "is_executing": false
    }
   },
   "outputs": [
    {
     "name": "stdout",
     "text": [
      "first a1 essay:\n\tIn the office there are computer, mouse. There are a lot of pen and pencil. There are a fe...\n\tscore: 95\nlast a1 essay:\n\tMy name is Armando. I work in Lear.I get up at 6 a.m. I drive to work every days.I get to ...\n\tscore: 90\nfirst a2 essay:\n\tTo: xxx@gamil.com From: xxx@gamil.com Subject: networking event Hi, Amy. I just returned f...\n\tscore: 95\nlast a2 essay:\n\tMy name is Rui. Im a public servant. My job is easy and very boring. However, I have time ...\n\tscore: 97\nfirst c1 essay:\n\tI think that every company should build a CSR program. It's not only my opinion, because i...\n\tscore: 95\nlast c1 essay:\n\tTo my mind, using the technique of Biomass renewable energy would be the most appropriate ...\n\tscore: 95\n"
     ],
     "output_type": "stream"
    }
   ],
   "source": [
    "def print_sample_text(text, index):\n",
    "    print(text + ':')\n",
    "    print('\\t' + texts[index].strip()[0:90] + '...')\n",
    "    print('\\tscore: ' + str(grades[index]))\n",
    "    \n",
    "print_sample_text('first a1 essay', 0)\n",
    "print_sample_text('last a1 essay', 9999)\n",
    "print_sample_text('first a2 essay', 10000)\n",
    "print_sample_text('last a2 essay', 19999)\n",
    "print_sample_text('first c1 essay', 40000)\n",
    "print_sample_text('last c1 essay', 49999)\n"
   ]
  },
  {
   "cell_type": "markdown",
   "metadata": {
    "pycharm": {
     "is_executing": false,
     "name": "#%% md\n"
    }
   },
   "source": [
    "# 2. Calculate the features\n",
    "No we pass all texts through the spacy pipeline"
   ]
  },
  {
   "cell_type": "code",
   "execution_count": 1,
   "metadata": {
    "pycharm": {
     "is_executing": false,
     "name": "#%%\n"
    }
   },
   "outputs": [
    {
     "traceback": [
      "\u001b[0;31m---------------------------------------------------------------------------\u001b[0m",
      "\u001b[0;31mModuleNotFoundError\u001b[0m                       Traceback (most recent call last)",
      "\u001b[0;32m<ipython-input-1-75c2ba3b29c1>\u001b[0m in \u001b[0;36m<module>\u001b[0;34m\u001b[0m\n\u001b[1;32m      1\u001b[0m \u001b[0;32mfrom\u001b[0m \u001b[0mnotebook_utils\u001b[0m \u001b[0;32mimport\u001b[0m \u001b[0mlog_progress\u001b[0m\u001b[0;34m\u001b[0m\u001b[0;34m\u001b[0m\u001b[0m\n\u001b[1;32m      2\u001b[0m \u001b[0;32mimport\u001b[0m \u001b[0mspacy\u001b[0m\u001b[0;34m\u001b[0m\u001b[0;34m\u001b[0m\u001b[0m\n\u001b[0;32m----> 3\u001b[0;31m \u001b[0;32mfrom\u001b[0m \u001b[0messay_evaluation\u001b[0m\u001b[0;34m.\u001b[0m\u001b[0mPipeline\u001b[0m \u001b[0;32mimport\u001b[0m \u001b[0mLexicalVariationFeatures\u001b[0m\u001b[0;34m,\u001b[0m \u001b[0mFeatureCollector\u001b[0m\u001b[0;34m,\u001b[0m \u001b[0mfeatures_lv\u001b[0m\u001b[0;34m\u001b[0m\u001b[0;34m\u001b[0m\u001b[0m\n\u001b[0m\u001b[1;32m      4\u001b[0m \u001b[0mnlp\u001b[0m \u001b[0;34m=\u001b[0m \u001b[0mspacy\u001b[0m\u001b[0;34m.\u001b[0m\u001b[0mload\u001b[0m\u001b[0;34m(\u001b[0m\u001b[0;34m'en_core_web_sm'\u001b[0m\u001b[0;34m)\u001b[0m\u001b[0;34m\u001b[0m\u001b[0;34m\u001b[0m\u001b[0m\n\u001b[1;32m      5\u001b[0m \u001b[0;31m# we only need the tokenizer from spaCy\u001b[0m\u001b[0;34m\u001b[0m\u001b[0;34m\u001b[0m\u001b[0;34m\u001b[0m\u001b[0m\n",
      "\u001b[0;31mModuleNotFoundError\u001b[0m: No module named 'essay_evaluation.Pipeline'"
     ],
     "ename": "ModuleNotFoundError",
     "evalue": "No module named 'essay_evaluation.Pipeline'",
     "output_type": "error"
    }
   ],
   "source": [
    "from notebook_utils import log_progress\n",
    "import spacy\n",
    "from essay_evaluation.pipeline import  FeatureCollector\n",
    "from Legacy.LexicalDiversity import LexicalVariationFeatures\n",
    "from essay_evaluation.lexical_variation import features_lv\n",
    "nlp = spacy.load('en_core_web_sm')\n",
    "# we only need the tokenizer from spaCy\n",
    "nlp.remove_pipe('tagger')\n",
    "nlp.remove_pipe('parser')\n",
    "nlp.remove_pipe('ner')\n",
    "\n",
    "# add lv features\n",
    "lv_feature_extractor = LexicalVariationFeatures() \n",
    "nlp.add_pipe(lv_feature_extractor, name=lv_feature_extractor.name, last=True)\n",
    "\n",
    "# add ls features\n",
    "#ls_feature_extractor = LexicalSophisticationFeatures() \n",
    "#nlp.add_pipe(ls_feature_extractor, name=ls_feature_extractor.name, last=True)\n",
    "\n",
    "\n",
    "# add the feature collector to get a nice feature matrix\n",
    "feature_collector = FeatureCollector()\n",
    "nlp.add_pipe(feature_collector, name=feature_collector.name, last=True)\n",
    "\n",
    "\n",
    "feature_names = features_lv #+ features_ls\n",
    "\n",
    "docs = []\n",
    "for doc in log_progress(nlp.pipe(texts),size=len(texts), name='Processed documents'):\n",
    "    docs.append(doc)"
   ]
  },
  {
   "cell_type": "markdown",
   "metadata": {},
   "source": [
    "# 3. Check for correlation\n",
    "\n",
    "As lables we use the proficiency level. As pearson correlation depens on a numeric value we map the levels to numbers between 0 and 5. So \n",
    "\n",
    "A1 -> 1, A2 -> 2, ... , C1 -> 5"
   ]
  },
  {
   "cell_type": "code",
   "execution_count": 4,
   "metadata": {
    "pycharm": {
     "is_executing": false,
     "name": "#%%\n"
    }
   },
   "outputs": [],
   "source": [
    "import numpy as np\n",
    "proficiency_levels = [1 for i in range(0,10000)] # text 0-9999 is level a1\n",
    "proficiency_levels += [2 for i in range(0,10000)] # text 10000 - 19999 is level a2\n",
    "proficiency_levels += [3 for i in range(0,10000)] # text 20000 - 29999 is level b1\n",
    "proficiency_levels += [4 for i in range(0,10000)] # text 30000 - 39999 is level b2\n",
    "proficiency_levels += [5 for i in range(0,10000)] # text 40000 - 49999 is level c1\n",
    "\n",
    "proficiency_levels_vector = np.array(proficiency_levels)\n"
   ]
  },
  {
   "cell_type": "markdown",
   "metadata": {},
   "source": [
    "## 3.1 Plot Histograms\n",
    "In order to see the structure of our data, we plot a histrogram for each feature:"
   ]
  },
  {
   "cell_type": "code",
   "execution_count": 5,
   "metadata": {
    "pycharm": {
     "name": "#%%\n",
     "is_executing": false
    }
   },
   "outputs": [],
   "source": [
    "import math\n",
    "from matplotlib import pyplot as plt\n",
    "\n",
    "feature_matrix = np.array(feature_collector.feature_matrix)\n",
    "\n",
    "rows = math.ceil(len(feature_names)/3)\n",
    "columns = 3\n",
    "plt.figure(figsize=(columns*8, rows*6))\n",
    "for feature_index, feature_column in enumerate(feature_matrix.T):\n",
    "    plt.subplot(rows,columns,feature_index+1)\n",
    "    plt.hist2d(feature_column, proficiency_levels_vector, (50, 50), cmap=plt.cm.jet)\n",
    "    #plt.scatter(feature_column, proficiency_levels_vector)\n",
    "    plt.title('Histrogram plot (' + feature_names[feature_index] + ' <--> overall score) | Levels ' + ','.join([str(level) for level in levels]))\n",
    "    plt.xlabel(feature_names[feature_index] + \"(index \" + str(feature_index)+\")\")\n",
    "    plt.ylabel('score')\n"
   ]
  },
  {
   "cell_type": "code",
   "execution_count": 6,
   "metadata": {
    "pycharm": {
     "is_executing": false
    }
   },
   "outputs": [],
   "source": [
    "# helper function to easily plot bar graphs\n",
    "def plot_correlation(x_values,y_values,x_labels,title):\n",
    "    plt.figure(figsize=(len(x_values), 10))\n",
    "    rects = plt.bar(np.arange(len(x_values)),y_values,width=1)\n",
    "\n",
    "    plt.xticks(np.arange(len(x_values)), x_labels)\n",
    "    plt.title(title)\n",
    "\n",
    "    for rect in rects:\n",
    "            height = rect.get_height()\n",
    "            plt.text(rect.get_x() + rect.get_width()/2., 1.02*height,\n",
    "                    str(round(height,3)),\n",
    "                    ha='center', va='bottom')\n"
   ]
  },
  {
   "cell_type": "code",
   "execution_count": 7,
   "metadata": {
    "pycharm": {
     "is_executing": false
    }
   },
   "outputs": [],
   "source": [
    "## 3.2 Spearman correlation"
   ]
  },
  {
   "cell_type": "code",
   "execution_count": 8,
   "metadata": {
    "pycharm": {
     "is_executing": false
    }
   },
   "outputs": [
    {
     "data": {
      "text/plain": "<Figure size 1008x720 with 1 Axes>",
      "image/png": "[encoded data removed]"
     },
     "metadata": {
      "needs_background": "light"
     },
     "output_type": "display_data"
    }
   ],
   "source": [
    "from scipy import stats\n",
    "correlation_values = []\n",
    "for feature_column in feature_matrix.T:\n",
    "    (corr, p_val) = stats.spearmanr(feature_column,proficiency_levels_vector)\n",
    "    correlation_values.append(corr)\n",
    "\n",
    "plot_correlation(np.arange(len(feature_names)),correlation_values, feature_names,\"Spearman correlation | Levels: \" + ', '.join(map(str,levels)))\n"
   ]
  },
  {
   "cell_type": "markdown",
   "metadata": {},
   "source": [
    "**Thus we have a very high spearman correlation for several LV features**\n",
    "\n",
    "## 3.3 Pearson correlation\n"
   ]
  },
  {
   "cell_type": "code",
   "execution_count": 10,
   "metadata": {
    "pycharm": {
     "is_executing": false
    }
   },
   "outputs": [
    {
     "data": {
      "text/plain": "<Figure size 1008x720 with 1 Axes>",
      "image/png": "[encoded data removed]"
     },
     "metadata": {
      "needs_background": "light"
     },
     "output_type": "display_data"
    }
   ],
   "source": [
    "correlation_values = []\n",
    "for feature_column in feature_matrix.T:\n",
    "    (corr, p_val) = stats.pearsonr(feature_column,proficiency_levels_vector)\n",
    "    correlation_values.append(corr)\n",
    "\n",
    "plot_correlation(np.arange(len(feature_names)),correlation_values, feature_names,\"Pearson correlation | Levels: \" + ', '.join(map(str,levels)))"
   ]
  },
  {
   "cell_type": "markdown",
   "metadata": {},
   "source": [
    "**We also get quite high correlation scores here**"
   ]
  }
 ],
 "metadata": {
  "kernelspec": {
   "display_name": "Python 3",
   "language": "python",
   "name": "python3"
  },
  "language_info": {
   "codemirror_mode": {
    "name": "ipython",
    "version": 3
   },
   "file_extension": ".py",
   "mimetype": "text/x-python",
   "name": "python",
   "nbconvert_exporter": "python",
   "pygments_lexer": "ipython3",
   "version": "3.7.4"
  },
  "pycharm": {
   "stem_cell": {
    "cell_type": "raw",
    "source": [],
    "metadata": {
     "collapsed": false
    }
   }
  }
 },
 "nbformat": 4,
 "nbformat_minor": 1
}