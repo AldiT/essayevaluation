{
 "cells": [
  {
   "cell_type": "code",
   "execution_count": 1,
   "metadata": {
    "collapsed": true,
    "pycharm": {
     "is_executing": false
    }
   },
   "outputs": [
    {
     "name": "stdout",
     "text": [
      "TAALED_TTR_AW 6.634387261806673\n",
      "TAALED_MTLD_MA_WRAP_CW 50.84\n",
      "TAALED_MTLD_MA_WRAP_AW 40.698113207547166\n",
      "TAALED_MAAS_TTR_CW 0.061031286081877134\n",
      "TAALED_MAAS_TTR_AW 0.06638523751312471\n",
      "TAALED_MAAS_TTR_AW 0.06638523751312471\n",
      "TAALED_BASIC_NCONTENT_TOKENS 100\n",
      "TAALED_BASIC_NFUNCTION_TYPES 51\n"
     ],
     "output_type": "stream"
    }
   ],
   "source": [
    "import spacy\n",
    "from essay_evaluation.lexical_variation_taaled import TaaledTokenClassifier, LexicalAccuracyTaaled\n",
    "text = 'FILL IN'\n",
    "\n",
    "nlp = spacy.load(\"en_core_web_sm\")\n",
    "nlp.add_pipe(TaaledTokenClassifier(), name=TaaledTokenClassifier.name, last=True)\n",
    "nlp.add_pipe(LexicalAccuracyTaaled(), name=LexicalAccuracyTaaled.name, last=True)\n",
    "doc = nlp(text)\n",
    "for name in LexicalAccuracyTaaled.feature_names:\n",
    "    print(name, doc._.features[name])"
   ]
  },
  {
   "cell_type": "code",
   "execution_count": null,
   "outputs": [],
   "source": [
    "\n"
   ],
   "metadata": {
    "collapsed": false,
    "pycharm": {
     "name": "#%%\n"
    }
   }
  }
 ],
 "metadata": {
  "kernelspec": {
   "display_name": "Python 3",
   "language": "python",
   "name": "python3"
  },
  "language_info": {
   "codemirror_mode": {
    "name": "ipython",
    "version": 2
   },
   "file_extension": ".py",
   "mimetype": "text/x-python",
   "name": "python",
   "nbconvert_exporter": "python",
   "pygments_lexer": "ipython2",
   "version": "2.7.6"
  },
  "pycharm": {
   "stem_cell": {
    "cell_type": "raw",
    "source": [],
    "metadata": {
     "collapsed": false
    }
   }
  }
 },
 "nbformat": 4,
 "nbformat_minor": 0
}