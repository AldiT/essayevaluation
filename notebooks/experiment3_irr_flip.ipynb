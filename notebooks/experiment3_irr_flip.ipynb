{
 "cells": [
  {
   "cell_type": "code",
   "execution_count": 1,
   "metadata": {
    "collapsed": true,
    "pycharm": {
     "is_executing": false
    }
   },
   "outputs": [],
   "source": [
    "import pandas as pd\n",
    "import pingouin as pg\n",
    "import csv\n",
    "import itertools\n",
    "from tqdm.notebook import tqdm  \n",
    "from sklearn.metrics import cohen_kappa_score"
   ]
  },
  {
   "cell_type": "markdown",
   "source": [
    "# Inter-Rater Reliability - FLIP\n",
    "This notebook calculates the irr for the FLIP dataset. We calculate the irr for following combinations:\n",
    "- between raters for each grade\n",
    "- overall grade agreement between two raters (qwk)\n",
    "\n",
    "Results and input can be found in this spreadsheet:\n",
    "https://docs.google.com/spreadsheets/d/1w2CCEtUIq0cKmVFrkO-RLoTYKl8HQ1GyTaiUo04aZQo\n",
    "\n",
    "## 1. Setup paths & options"
   ],
   "metadata": {
    "collapsed": false,
    "pycharm": {
     "name": "#%% md\n"
    }
   }
  },
  {
   "cell_type": "code",
   "execution_count": 2,
   "outputs": [],
   "source": [
    "dataset_path = '/home/simon/Downloads/flip_irr/rawdata.csv'\n",
    "output_dir = '/home/simon/Downloads/flip_irr/' # don't forget the trailing slash\n",
    "raters = ['Aleksandra', 'Chloe', 'Eleni', 'Julia', 'Klara', 'Pia', 'Tania', 'Taylor']"
   ],
   "metadata": {
    "collapsed": false,
    "pycharm": {
     "name": "#%%\n",
     "is_executing": false
    }
   }
  },
  {
   "cell_type": "markdown",
   "source": [
    "## 2. Prepare the dataset\n",
    "\n",
    "For the intra-class-correlation (icc) metric, we need the data to have following format: each row has to be one rating. "
   ],
   "metadata": {
    "collapsed": false,
    "pycharm": {
     "name": "#%% md\n"
    }
   }
  },
  {
   "cell_type": "code",
   "execution_count": 3,
   "outputs": [
    {
     "data": {
      "text/plain": "      ID  Overall  Content  Organization  Vocab  Grammar  Mechanics  Rater\n0      1     13.0      2.0           2.0    3.0      3.0        3.0  Eleni\n1      1     12.0      2.0           2.0    3.0      2.0        3.0  Tania\n2      2     11.0      3.0           2.0    2.0      2.0        2.0  Eleni\n3      2     10.0      3.0           2.0    2.0      1.0        2.0  Tania\n4      4     14.0      4.0           2.0    3.0      3.0        2.0  Eleni\n..   ...      ...      ...           ...    ...      ...        ...    ...\n799  820     15.0      4.0           3.0    3.0      2.0        3.0  Julia\n800  822     13.0      4.0           3.0    2.0      2.0        2.0  Eleni\n801  822     10.0      3.0           3.0    2.0      1.0        1.0    Pia\n802  823     19.0      4.0           4.0    3.0      4.0        4.0    Pia\n803  823     18.0      4.0           4.0    3.0      3.0        4.0  Chloe\n\n[804 rows x 8 columns]",
      "text/html": "<div>\n<style scoped>\n    .dataframe tbody tr th:only-of-type {\n        vertical-align: middle;\n    }\n\n    .dataframe tbody tr th {\n        vertical-align: top;\n    }\n\n    .dataframe thead th {\n        text-align: right;\n    }\n</style>\n<table border=\"1\" class=\"dataframe\">\n  <thead>\n    <tr style=\"text-align: right;\">\n      <th></th>\n      <th>ID</th>\n      <th>Overall</th>\n      <th>Content</th>\n      <th>Organization</th>\n      <th>Vocab</th>\n      <th>Grammar</th>\n      <th>Mechanics</th>\n      <th>Rater</th>\n    </tr>\n  </thead>\n  <tbody>\n    <tr>\n      <th>0</th>\n      <td>1</td>\n      <td>13.0</td>\n      <td>2.0</td>\n      <td>2.0</td>\n      <td>3.0</td>\n      <td>3.0</td>\n      <td>3.0</td>\n      <td>Eleni</td>\n    </tr>\n    <tr>\n      <th>1</th>\n      <td>1</td>\n      <td>12.0</td>\n      <td>2.0</td>\n      <td>2.0</td>\n      <td>3.0</td>\n      <td>2.0</td>\n      <td>3.0</td>\n      <td>Tania</td>\n    </tr>\n    <tr>\n      <th>2</th>\n      <td>2</td>\n      <td>11.0</td>\n      <td>3.0</td>\n      <td>2.0</td>\n      <td>2.0</td>\n      <td>2.0</td>\n      <td>2.0</td>\n      <td>Eleni</td>\n    </tr>\n    <tr>\n      <th>3</th>\n      <td>2</td>\n      <td>10.0</td>\n      <td>3.0</td>\n      <td>2.0</td>\n      <td>2.0</td>\n      <td>1.0</td>\n      <td>2.0</td>\n      <td>Tania</td>\n    </tr>\n    <tr>\n      <th>4</th>\n      <td>4</td>\n      <td>14.0</td>\n      <td>4.0</td>\n      <td>2.0</td>\n      <td>3.0</td>\n      <td>3.0</td>\n      <td>2.0</td>\n      <td>Eleni</td>\n    </tr>\n    <tr>\n      <th>...</th>\n      <td>...</td>\n      <td>...</td>\n      <td>...</td>\n      <td>...</td>\n      <td>...</td>\n      <td>...</td>\n      <td>...</td>\n      <td>...</td>\n    </tr>\n    <tr>\n      <th>799</th>\n      <td>820</td>\n      <td>15.0</td>\n      <td>4.0</td>\n      <td>3.0</td>\n      <td>3.0</td>\n      <td>2.0</td>\n      <td>3.0</td>\n      <td>Julia</td>\n    </tr>\n    <tr>\n      <th>800</th>\n      <td>822</td>\n      <td>13.0</td>\n      <td>4.0</td>\n      <td>3.0</td>\n      <td>2.0</td>\n      <td>2.0</td>\n      <td>2.0</td>\n      <td>Eleni</td>\n    </tr>\n    <tr>\n      <th>801</th>\n      <td>822</td>\n      <td>10.0</td>\n      <td>3.0</td>\n      <td>3.0</td>\n      <td>2.0</td>\n      <td>1.0</td>\n      <td>1.0</td>\n      <td>Pia</td>\n    </tr>\n    <tr>\n      <th>802</th>\n      <td>823</td>\n      <td>19.0</td>\n      <td>4.0</td>\n      <td>4.0</td>\n      <td>3.0</td>\n      <td>4.0</td>\n      <td>4.0</td>\n      <td>Pia</td>\n    </tr>\n    <tr>\n      <th>803</th>\n      <td>823</td>\n      <td>18.0</td>\n      <td>4.0</td>\n      <td>4.0</td>\n      <td>3.0</td>\n      <td>3.0</td>\n      <td>4.0</td>\n      <td>Chloe</td>\n    </tr>\n  </tbody>\n</table>\n<p>804 rows × 8 columns</p>\n</div>"
     },
     "metadata": {},
     "output_type": "execute_result",
     "execution_count": 3
    }
   ],
   "source": [
    "grades = ['Overall', 'Content', 'Organization', 'Vocab', 'Grammar', 'Mechanics']\n",
    "data = []\n",
    "with open(dataset_path) as csvfile:\n",
    "    csvreader = csv.DictReader(csvfile)\n",
    "    for line in csvreader:\n",
    "        if len(line['Graded_By_1st']) < 2:\n",
    "            continue\n",
    "        data.append({\n",
    "            'ID': int(line['ID']),\n",
    "            'Overall': float(line['Overall_Grade_1st']),\n",
    "            'Content': float(line['Content_Grade_1st']),\n",
    "            'Organization': float(line['Organiz_Grade_1st']),\n",
    "            'Vocab': float(line['Vocab_Grade_1st']),\n",
    "            'Grammar': float(line['Grammar_Grade_1st']),\n",
    "            'Mechanics': float(line['Mechanics_Grade_1st']),\n",
    "            'Rater': line['Graded_By_1st']\n",
    "        })\n",
    "        data.append({\n",
    "            'ID': int(line['ID']),\n",
    "            'Overall': float(line['Overall_Grade_2nd']),\n",
    "            'Content': float(line['Content_Grade_2nd']),\n",
    "            'Organization': float(line['Organiz_Grade_2nd']),\n",
    "            'Vocab': float(line['Vocab_Grade_2nd']),\n",
    "            'Grammar': float(line['Grammar_Grade_2nd']),\n",
    "            'Mechanics': float(line['Mechanics_Grade_2nd']),\n",
    "            'Rater': line['Graded_By_2nd']\n",
    "        })\n",
    "df = pd.DataFrame.from_dict(data)\n",
    "df"
   ],
   "metadata": {
    "collapsed": false,
    "pycharm": {
     "name": "#%%\n",
     "is_executing": false
    }
   }
  },
  {
   "cell_type": "markdown",
   "source": [
    "## 3. Calculate the irr for each pair of raters and each grade\n",
    "\n",
    "For each pair of raters and each grade variable, the ICC3k and QWK metric is calculated.\n",
    "\n",
    "**ICC3k**: intra-class-correlation\n",
    "1. A fixed set of k raters rate each target\n",
    "2. There is no generalization to a larger population of raters.\n",
    "3. Mean differences between raters is removed, the metric is sensitive to interactions though.\n",
    "4. A rater is seen as fixed effect (not random effect)\n",
    "\n",
    "**QWK**: Cohen's weighted kappa (quadratic weights)"
   ],
   "metadata": {
    "collapsed": false
   }
  },
  {
   "cell_type": "code",
   "execution_count": 4,
   "outputs": [
    {
     "data": {
      "text/plain": "HBox(children=(FloatProgress(value=0.0, max=28.0), HTML(value='')))",
      "application/vnd.jupyter.widget-view+json": {
       "version_major": 2,
       "version_minor": 0,
       "model_id": "affb6f16421a4d5da13e343ba9860bf1"
      }
     },
     "metadata": {},
     "output_type": "display_data"
    },
    {
     "name": "stderr",
     "text": [
      "/home/simon/.local/share/virtualenvs/essayevaluation-t02QTL6c/lib/python3.8/site-packages/pingouin/parametric.py:968: RuntimeWarning: divide by zero encountered in double_scalars\n",
      "  fval = msbetween / mserror\n",
      "/home/simon/.local/share/virtualenvs/essayevaluation-t02QTL6c/lib/python3.8/site-packages/pingouin/reliability.py:315: RuntimeWarning: divide by zero encountered in double_scalars\n",
      "  f1k = msb / msw\n",
      "/home/simon/.local/share/virtualenvs/essayevaluation-t02QTL6c/lib/python3.8/site-packages/pingouin/reliability.py:320: RuntimeWarning: divide by zero encountered in double_scalars\n",
      "  f2k = f3k = msb / mse\n",
      "/home/simon/.local/share/virtualenvs/essayevaluation-t02QTL6c/lib/python3.8/site-packages/pingouin/reliability.py:344: RuntimeWarning: invalid value encountered in double_scalars\n",
      "  l1 = (f1l - 1) / (f1l + (k - 1))\n",
      "/home/simon/.local/share/virtualenvs/essayevaluation-t02QTL6c/lib/python3.8/site-packages/pingouin/reliability.py:345: RuntimeWarning: invalid value encountered in double_scalars\n",
      "  u1 = (f1u - 1) / (f1u + (k - 1))\n",
      "/home/simon/.local/share/virtualenvs/essayevaluation-t02QTL6c/lib/python3.8/site-packages/pingouin/reliability.py:348: RuntimeWarning: invalid value encountered in double_scalars\n",
      "  l3 = (f3l - 1) / (f3l + (k - 1))\n",
      "/home/simon/.local/share/virtualenvs/essayevaluation-t02QTL6c/lib/python3.8/site-packages/pingouin/reliability.py:349: RuntimeWarning: invalid value encountered in double_scalars\n",
      "  u3 = (f3u - 1) / (f3u + (k - 1))\n",
      "/home/simon/.local/share/virtualenvs/essayevaluation-t02QTL6c/lib/python3.8/site-packages/pingouin/reliability.py:351: RuntimeWarning: invalid value encountered in double_scalars\n",
      "  fj = msj / mse\n",
      "/home/simon/.local/share/virtualenvs/essayevaluation-t02QTL6c/lib/python3.8/site-packages/pingouin/reliability.py:351: RuntimeWarning: divide by zero encountered in double_scalars\n",
      "  fj = msj / mse\n",
      "/home/simon/.local/share/virtualenvs/essayevaluation-t02QTL6c/lib/python3.8/site-packages/pingouin/reliability.py:355: RuntimeWarning: invalid value encountered in double_scalars\n",
      "  v = vn / vd\n",
      "/home/simon/.local/share/virtualenvs/essayevaluation-t02QTL6c/lib/python3.8/site-packages/pingouin/reliability.py:307: RuntimeWarning: invalid value encountered in double_scalars\n",
      "  icc1 = (msb - msw) / (msb + (k - 1) * msw)\n",
      "/home/simon/.local/share/virtualenvs/essayevaluation-t02QTL6c/lib/python3.8/site-packages/pingouin/reliability.py:308: RuntimeWarning: invalid value encountered in double_scalars\n",
      "  icc2 = (msb - mse) / (msb + (k - 1) * mse + k * (msj - mse) / n)\n",
      "/home/simon/.local/share/virtualenvs/essayevaluation-t02QTL6c/lib/python3.8/site-packages/pingouin/reliability.py:309: RuntimeWarning: invalid value encountered in double_scalars\n",
      "  icc3 = (msb - mse) / (msb + (k - 1) * mse)\n",
      "/home/simon/.local/share/virtualenvs/essayevaluation-t02QTL6c/lib/python3.8/site-packages/pingouin/reliability.py:310: RuntimeWarning: invalid value encountered in double_scalars\n",
      "  icc1k = (msb - msw) / msb\n",
      "/home/simon/.local/share/virtualenvs/essayevaluation-t02QTL6c/lib/python3.8/site-packages/pingouin/reliability.py:311: RuntimeWarning: invalid value encountered in double_scalars\n",
      "  icc2k = (msb - mse) / (msb + (msj - mse) / n)\n",
      "/home/simon/.local/share/virtualenvs/essayevaluation-t02QTL6c/lib/python3.8/site-packages/pingouin/reliability.py:312: RuntimeWarning: invalid value encountered in double_scalars\n",
      "  icc3k = (msb - mse) / msb\n",
      "/home/simon/.local/share/virtualenvs/essayevaluation-t02QTL6c/lib/python3.8/site-packages/pingouin/reliability.py:315: RuntimeWarning: invalid value encountered in double_scalars\n",
      "  f1k = msb / msw\n",
      "/home/simon/.local/share/virtualenvs/essayevaluation-t02QTL6c/lib/python3.8/site-packages/pingouin/reliability.py:320: RuntimeWarning: invalid value encountered in double_scalars\n",
      "  f2k = f3k = msb / mse\n",
      "/home/simon/.local/share/virtualenvs/essayevaluation-t02QTL6c/lib/python3.8/site-packages/sklearn/metrics/_classification.py:604: RuntimeWarning: invalid value encountered in true_divide\n",
      "  k = np.sum(w_mat * confusion) / np.sum(w_mat * expected)\n"
     ],
     "output_type": "stream"
    },
    {
     "name": "stdout",
     "text": [
      "\n"
     ],
     "output_type": "stream"
    },
    {
     "data": {
      "text/plain": "        grader1 grader2         grade   ICC2k  ICC3k       qwk  \\\n31   Aleksandra   Tania       Content   1.000  1.000  1.000000   \n166       Tania  Taylor       Grammar   1.000  1.000  1.000000   \n38   Aleksandra  Taylor  Organization   1.000  1.000  1.000000   \n19   Aleksandra   Klara       Content   1.000  1.000  1.000000   \n60        Chloe     Pia       Overall   0.934  0.932  0.867444   \n..          ...     ...           ...     ...    ...       ...   \n57        Chloe   Klara         Vocab  -4.012 -2.403 -0.521739   \n51        Chloe   Julia         Vocab  -8.000 -8.000 -0.551724   \n18   Aleksandra   Klara       Overall  11.979 -3.431 -0.571429   \n37   Aleksandra  Taylor       Content     NaN    NaN       NaN   \n73        Chloe  Taylor       Content     NaN    NaN       NaN   \n\n     # of observations  \n31                   3  \n166                 11  \n38                   4  \n19                   3  \n60                  13  \n..                 ...  \n57                   7  \n51                   5  \n18                   3  \n37                   4  \n73                   4  \n\n[168 rows x 7 columns]",
      "text/html": "<div>\n<style scoped>\n    .dataframe tbody tr th:only-of-type {\n        vertical-align: middle;\n    }\n\n    .dataframe tbody tr th {\n        vertical-align: top;\n    }\n\n    .dataframe thead th {\n        text-align: right;\n    }\n</style>\n<table border=\"1\" class=\"dataframe\">\n  <thead>\n    <tr style=\"text-align: right;\">\n      <th></th>\n      <th>grader1</th>\n      <th>grader2</th>\n      <th>grade</th>\n      <th>ICC2k</th>\n      <th>ICC3k</th>\n      <th>qwk</th>\n      <th># of observations</th>\n    </tr>\n  </thead>\n  <tbody>\n    <tr>\n      <th>31</th>\n      <td>Aleksandra</td>\n      <td>Tania</td>\n      <td>Content</td>\n      <td>1.000</td>\n      <td>1.000</td>\n      <td>1.000000</td>\n      <td>3</td>\n    </tr>\n    <tr>\n      <th>166</th>\n      <td>Tania</td>\n      <td>Taylor</td>\n      <td>Grammar</td>\n      <td>1.000</td>\n      <td>1.000</td>\n      <td>1.000000</td>\n      <td>11</td>\n    </tr>\n    <tr>\n      <th>38</th>\n      <td>Aleksandra</td>\n      <td>Taylor</td>\n      <td>Organization</td>\n      <td>1.000</td>\n      <td>1.000</td>\n      <td>1.000000</td>\n      <td>4</td>\n    </tr>\n    <tr>\n      <th>19</th>\n      <td>Aleksandra</td>\n      <td>Klara</td>\n      <td>Content</td>\n      <td>1.000</td>\n      <td>1.000</td>\n      <td>1.000000</td>\n      <td>3</td>\n    </tr>\n    <tr>\n      <th>60</th>\n      <td>Chloe</td>\n      <td>Pia</td>\n      <td>Overall</td>\n      <td>0.934</td>\n      <td>0.932</td>\n      <td>0.867444</td>\n      <td>13</td>\n    </tr>\n    <tr>\n      <th>...</th>\n      <td>...</td>\n      <td>...</td>\n      <td>...</td>\n      <td>...</td>\n      <td>...</td>\n      <td>...</td>\n      <td>...</td>\n    </tr>\n    <tr>\n      <th>57</th>\n      <td>Chloe</td>\n      <td>Klara</td>\n      <td>Vocab</td>\n      <td>-4.012</td>\n      <td>-2.403</td>\n      <td>-0.521739</td>\n      <td>7</td>\n    </tr>\n    <tr>\n      <th>51</th>\n      <td>Chloe</td>\n      <td>Julia</td>\n      <td>Vocab</td>\n      <td>-8.000</td>\n      <td>-8.000</td>\n      <td>-0.551724</td>\n      <td>5</td>\n    </tr>\n    <tr>\n      <th>18</th>\n      <td>Aleksandra</td>\n      <td>Klara</td>\n      <td>Overall</td>\n      <td>11.979</td>\n      <td>-3.431</td>\n      <td>-0.571429</td>\n      <td>3</td>\n    </tr>\n    <tr>\n      <th>37</th>\n      <td>Aleksandra</td>\n      <td>Taylor</td>\n      <td>Content</td>\n      <td>NaN</td>\n      <td>NaN</td>\n      <td>NaN</td>\n      <td>4</td>\n    </tr>\n    <tr>\n      <th>73</th>\n      <td>Chloe</td>\n      <td>Taylor</td>\n      <td>Content</td>\n      <td>NaN</td>\n      <td>NaN</td>\n      <td>NaN</td>\n      <td>4</td>\n    </tr>\n  </tbody>\n</table>\n<p>168 rows × 7 columns</p>\n</div>"
     },
     "metadata": {},
     "output_type": "execute_result",
     "execution_count": 4
    }
   ],
   "source": [
    "results = []\n",
    "for rater_tuple in tqdm(list(itertools.combinations(raters,2))):\n",
    "    for grade in grades:\n",
    "        # get all grades by our two selected raters (rater_tuple[0] & rater_tuple[1]) for ICC\n",
    "        filtered_df = df[(df['Rater'] == rater_tuple[0]) | (df['Rater'] == rater_tuple[1])]\n",
    "        filtered_df = filtered_df[filtered_df.duplicated(['ID'], keep=False)]\n",
    "        \n",
    "        # get a list of grades for each rater (QWK)\n",
    "        filtered_r1 = filtered_df[(filtered_df['Rater'] == rater_tuple[0])][grade].to_numpy()\n",
    "        filtered_r2 = filtered_df[(filtered_df['Rater'] == rater_tuple[1])][grade].to_numpy()\n",
    "\n",
    "        icc = pg.intraclass_corr(data=filtered_df, targets='ID', raters='Rater', ratings=grade)\n",
    "        qwk = cohen_kappa_score(filtered_r1, filtered_r2, weights='quadratic')\n",
    "        results.append({\n",
    "            'grader1': rater_tuple[0],\n",
    "            'grader2': rater_tuple[1],\n",
    "            'grade': grade,\n",
    "            'ICC2k': icc.iloc[4]['ICC'],\n",
    "            'ICC3k': icc.iloc[5]['ICC'],\n",
    "            'qwk': qwk,\n",
    "            '# of observations': len(filtered_r1)\n",
    "        })\n",
    "resultdf = pd.DataFrame.from_dict(results).sort_values('qwk', ascending=False)\n",
    "resultdf.to_csv(output_dir + 'irr_between_raters.csv')\n",
    "resultdf"
   ],
   "metadata": {
    "collapsed": false,
    "pycharm": {
     "name": "#%%\n",
     "is_executing": false
    }
   }
  },
  {
   "cell_type": "markdown",
   "source": [
    "## 4. Calculate the irr as overall agreement between rater 1 and rater 2\n",
    "First we need to transform the dataset so each row has two ratings. Then we calculate the QWK between rater 1 &2.\n",
    "\n",
    "\n",
    "**QWK**: Cohen's weighted kappa (quadratic weights)"
   ],
   "metadata": {
    "collapsed": false,
    "pycharm": {
     "name": "#%% md\n",
     "is_executing": false
    }
   }
  },
  {
   "cell_type": "code",
   "execution_count": 5,
   "outputs": [
    {
     "data": {
      "text/plain": "          grade       qwk\n0       Overall  0.731750\n4       Grammar  0.608540\n1       Content  0.603278\n5     Mechanics  0.594096\n2  Organization  0.528406\n3         Vocab  0.468013",
      "text/html": "<div>\n<style scoped>\n    .dataframe tbody tr th:only-of-type {\n        vertical-align: middle;\n    }\n\n    .dataframe tbody tr th {\n        vertical-align: top;\n    }\n\n    .dataframe thead th {\n        text-align: right;\n    }\n</style>\n<table border=\"1\" class=\"dataframe\">\n  <thead>\n    <tr style=\"text-align: right;\">\n      <th></th>\n      <th>grade</th>\n      <th>qwk</th>\n    </tr>\n  </thead>\n  <tbody>\n    <tr>\n      <th>0</th>\n      <td>Overall</td>\n      <td>0.731750</td>\n    </tr>\n    <tr>\n      <th>4</th>\n      <td>Grammar</td>\n      <td>0.608540</td>\n    </tr>\n    <tr>\n      <th>1</th>\n      <td>Content</td>\n      <td>0.603278</td>\n    </tr>\n    <tr>\n      <th>5</th>\n      <td>Mechanics</td>\n      <td>0.594096</td>\n    </tr>\n    <tr>\n      <th>2</th>\n      <td>Organization</td>\n      <td>0.528406</td>\n    </tr>\n    <tr>\n      <th>3</th>\n      <td>Vocab</td>\n      <td>0.468013</td>\n    </tr>\n  </tbody>\n</table>\n</div>"
     },
     "metadata": {},
     "output_type": "execute_result",
     "execution_count": 5
    }
   ],
   "source": [
    "dfmerged = df.merge(df, on='ID')\n",
    "dfmerged = dfmerged[(dfmerged['Rater_x'] != dfmerged['Rater_y'])]\n",
    "dfm = dfmerged[dfmerged.duplicated('ID', keep='last')]\n",
    "\n",
    "resultByGradeData = []\n",
    "for grade in grades:\n",
    "    x = dfmerged[[grade + '_x']].to_numpy()\n",
    "    y = dfmerged[[grade + '_y']].to_numpy()\n",
    "    qwk = cohen_kappa_score(x, y, weights='quadratic')\n",
    "    resultByGradeData.append({\n",
    "        'grade': grade,\n",
    "        'qwk': qwk\n",
    "    })\n",
    "resultByGrade = pd.DataFrame.from_dict(resultByGradeData).sort_values('qwk', ascending=False)\n",
    "resultByGrade.to_csv(output_dir + 'irr_overall.csv')\n",
    "resultByGrade\n",
    "\n"
   ],
   "metadata": {
    "collapsed": false,
    "pycharm": {
     "name": "#%%\n",
     "is_executing": false
    }
   }
  }
 ],
 "metadata": {
  "kernelspec": {
   "display_name": "Python 3",
   "language": "python",
   "name": "python3"
  },
  "language_info": {
   "codemirror_mode": {
    "name": "ipython",
    "version": 2
   },
   "file_extension": ".py",
   "mimetype": "text/x-python",
   "name": "python",
   "nbconvert_exporter": "python",
   "pygments_lexer": "ipython2",
   "version": "2.7.6"
  },
  "pycharm": {
   "stem_cell": {
    "cell_type": "raw",
    "source": [],
    "metadata": {
     "collapsed": false
    }
   }
  }
 },
 "nbformat": 4,
 "nbformat_minor": 0
}