{
 "cells": [
  {
   "cell_type": "markdown",
   "metadata": {},
   "source": [
    "# Experiment: Modification using synonyms for LV changes evaluation"
   ]
  },
  {
   "cell_type": "markdown",
   "metadata": {},
   "source": [
    "## Imports"
   ]
  },
  {
   "cell_type": "code",
   "execution_count": null,
   "metadata": {},
   "outputs": [
    {
     "name": "stdout",
     "output_type": "stream",
     "text": [
      "Importing and building WordSubstitution functionality, this might take a while the first time due to the dependencies...\n",
      "Please be patient!\n"
     ]
    }
   ],
   "source": [
    "from essay_evaluation.word_substitution import WordSubstitution\n",
    "from essay_evaluation.pipeline import Pipeline\n",
    "import neuralcoref"
   ]
  },
  {
   "cell_type": "code",
   "execution_count": null,
   "metadata": {},
   "outputs": [],
   "source": [
    "import csv\n",
    "from tqdm.notebook import tqdm"
   ]
  },
  {
   "cell_type": "markdown",
   "metadata": {},
   "source": [
    "## Create pipeline"
   ]
  },
  {
   "cell_type": "code",
   "execution_count": null,
   "metadata": {},
   "outputs": [],
   "source": [
    "pipeline = Pipeline().lexical_variation_taaled().repetition_detector()"
   ]
  },
  {
   "cell_type": "code",
   "execution_count": null,
   "metadata": {},
   "outputs": [],
   "source": [
    "sample_txt = \"This is a simple repetition example. This should be another thing. What about another example?\"\n",
    "doc = pipeline(sample_txt)\n",
    "\n",
    "for token in doc:\n",
    "    print(token.text, ' ', token._.is_repetition)"
   ]
  },
  {
   "cell_type": "markdown",
   "metadata": {},
   "source": [
    "## Paths and data read"
   ]
  },
  {
   "cell_type": "code",
   "execution_count": null,
   "metadata": {},
   "outputs": [],
   "source": [
    "dataset_path = \"/usr/local/datasets/flip_new.csv\"\n",
    "\n",
    "texts = []\n",
    "levels = []\n",
    "with open(dataset_path) as csvfile:\n",
    "    csvreader = csv.DictReader(csvfile)\n",
    "    for row in csvreader:\n",
    "        texts.append(row['Essay'])\n",
    "        levels.append(row['Level'])"
   ]
  },
  {
   "cell_type": "code",
   "execution_count": null,
   "metadata": {},
   "outputs": [],
   "source": [
    "docs = []\n",
    "for doc in tqdm(pipeline.pipe(texts)):\n",
    "    docs.append(doc)"
   ]
  },
  {
   "cell_type": "code",
   "execution_count": null,
   "metadata": {},
   "outputs": [],
   "source": [
    "feature_matrix = []\n",
    "for doc in docs:\n",
    "    feature_matrix.append(list(doc._.features.values()))"
   ]
  },
  {
   "cell_type": "markdown",
   "metadata": {},
   "source": [
    "## Mutate essays and create a mutation matrix\n",
    "### Mutation steps\n",
    "<ol>\n",
    "    <li>Filter stopwords</li>\n",
    "    <li>Lemmatize, lowecase and add indecies of token in the essay in a dict to count repetitions</li>\n",
    "    <li>Identify repetitions, filter tokens that are coreferences</li>\n",
    "    <li>Mark the remaining repetition words on the sentence with the \"čš\" symbol on both sides</li>\n",
    "    <li>Retrieve synonyms for the marked words</li>\n",
    "    <li>Substitute top 5 synonyms on each word on a round robin fashion</li>\n",
    "</ol>"
   ]
  },
  {
   "cell_type": "code",
   "execution_count": null,
   "metadata": {},
   "outputs": [],
   "source": [
    "def get_sent(doc, token_index):\n",
    "    return doc[token_index:token_index+1].sent ##Work around suggested by spacy creators\n",
    "\n",
    "#doc should be a doc from spacy\n",
    "def mark_repetition_words(doc):\n",
    "    \n",
    "    \"\"\"\n",
    "    Idea: To make this work we need a new component to simply \n",
    "    add true or false to each token if the token is a repetition.\n",
    "    \"\"\"\n",
    "    \n",
    "    new_sentence\n",
    "    for token in doc:\n",
    "        if not token._.in_coref and token.text not in pipeline.pipeline.Defaults.stop_words:\n",
    "            pass\n",
    "    pass\n",
    "    \n",
    "test_sample = \"This is a simple sentence.\"\n",
    "d = pipeline(test_sample)\n",
    "modified = mark_word(d[4])\n",
    "modified"
   ]
  },
  {
   "cell_type": "code",
   "execution_count": null,
   "metadata": {},
   "outputs": [],
   "source": [
    "d[3].lemma_.lower()"
   ]
  },
  {
   "cell_type": "code",
   "execution_count": null,
   "metadata": {},
   "outputs": [],
   "source": [
    "from essay_evaluation.word_substitution import IsRepetition"
   ]
  },
  {
   "cell_type": "code",
   "execution_count": null,
   "metadata": {},
   "outputs": [],
   "source": []
  }
 ],
 "metadata": {
  "kernelspec": {
   "display_name": "Python 3.7.5 64-bit",
   "language": "python",
   "name": "python37564bit35994581247b4ffea65b59a4135c482f"
  },
  "language_info": {
   "codemirror_mode": {
    "name": "ipython",
    "version": 3
   },
   "file_extension": ".py",
   "mimetype": "text/x-python",
   "name": "python",
   "nbconvert_exporter": "python",
   "pygments_lexer": "ipython3",
   "version": "3.7.6"
  }
 },
 "nbformat": 4,
 "nbformat_minor": 2
}
