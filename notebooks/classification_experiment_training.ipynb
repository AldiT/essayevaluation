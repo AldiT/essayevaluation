{
 "cells": [
  {
   "cell_type": "code",
   "execution_count": 3,
   "metadata": {
    "pycharm": {
     "is_executing": false
    }
   },
   "outputs": [],
   "source": [
    "import pickle\n",
    "from scipy.stats import pearsonr\n",
    "from sklearn.ensemble import RandomForestRegressor, RandomForestClassifier\n",
    "from tqdm import tqdm\n",
    "from essay_evaluation.corpus import read_csv\n",
    "from essay_evaluation.pipeline import Pipeline\n",
    "\n",
    "flip_path = '/home/simon/Downloads/flip_new.csv'\n"
   ]
  },
  {
   "cell_type": "code",
   "execution_count": 4,
   "metadata": {
    "pycharm": {
     "is_executing": false,
     "name": "#%%\n"
    }
   },
   "outputs": [
    {
     "name": "stderr",
     "text": [
      "100%|██████████| 488/488 [02:34<00:00,  3.16it/s]\n"
     ],
     "output_type": "stream"
    }
   ],
   "source": [
    "pipeline = Pipeline().lexical_variation_taaled().get_pipe()\n",
    "texts, grades = read_csv(flip_path)\n",
    "\n",
    "features = []\n",
    "for doc in tqdm(pipeline.pipe(texts), total=len(texts)):\n",
    "    features.append(list(doc._.features.values()))\n",
    "\n",
    "X_train = features[98:]\n",
    "y_train = grades[98:]\n",
    "X_test = features[:98]\n",
    "y_test = grades[:98]"
   ]
  },
  {
   "cell_type": "code",
   "execution_count": 5,
   "metadata": {
    "pycharm": {
     "is_executing": false,
     "name": "#%%\n"
    }
   },
   "outputs": [],
   "source": [
    "clf = RandomForestRegressor(n_estimators=100)\n",
    "clf.fit(X_train, y_train)\n",
    "with open('/home/simon/Downloads/model_reg.pkl', 'wb') as fh:\n",
    "    pickle.dump(clf, fh)\n",
    "    \n",
    "clf = RandomForestClassifier(n_estimators=100)\n",
    "clf.fit(X_train, y_train)\n",
    "with open('/home/simon/Downloads/model_clf.pkl', 'wb') as fh:\n",
    "    pickle.dump(clf, fh)"
   ]
  },
  {
   "cell_type": "code",
   "execution_count": 6,
   "metadata": {
    "pycharm": {
     "is_executing": false,
     "name": "#%%\n"
    }
   },
   "outputs": [
    {
     "data": {
      "text/plain": "0.7419687153761265"
     },
     "metadata": {},
     "output_type": "execute_result",
     "execution_count": 6
    }
   ],
   "source": [
    "def pearsonr_scorer(estimator, X, y):\n",
    "    pred = estimator.predict(X)\n",
    "    r, pval = pearsonr(y, pred)\n",
    "    return r\n",
    "r = pearsonr_scorer(clf, X_test, y_test)\n",
    "r"
   ]
  },
  {
   "cell_type": "code",
   "execution_count": null,
   "metadata": {
    "pycharm": {
     "name": "#%%\n"
    }
   },
   "outputs": [],
   "source": [
    "\n"
   ]
  }
 ],
 "metadata": {
  "kernelspec": {
   "display_name": "Python 3",
   "language": "python",
   "name": "python3"
  },
  "language_info": {
   "codemirror_mode": {
    "name": "ipython",
    "version": 3
   },
   "file_extension": ".py",
   "mimetype": "text/x-python",
   "name": "python",
   "nbconvert_exporter": "python",
   "pygments_lexer": "ipython3",
   "version": "3.7.6"
  },
  "pycharm": {
   "stem_cell": {
    "cell_type": "raw",
    "source": [],
    "metadata": {
     "collapsed": false
    }
   }
  }
 },
 "nbformat": 4,
 "nbformat_minor": 1
}