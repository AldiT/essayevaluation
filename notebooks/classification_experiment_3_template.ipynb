{
 "cells": [
  {
   "cell_type": "code",
   "execution_count": 1,
   "metadata": {
    "pycharm": {
     "is_executing": false,
     "name": "#%%\n"
    }
   },
   "outputs": [],
   "source": [
    "import pickle\n",
    "from tqdm.notebook import tqdm\n",
    "from essay_evaluation.classifier import Classifier\n",
    "from essay_evaluation.corpus import read_csv\n",
    "from essay_evaluation.pipeline import Pipeline"
   ]
  },
  {
   "cell_type": "markdown",
   "metadata": {},
   "source": [
    "## 1. Set paths"
   ]
  },
  {
   "cell_type": "code",
   "execution_count": 1,
   "metadata": {
    "pycharm": {
     "is_executing": false,
     "name": "#%%\n"
    }
   },
   "outputs": [],
   "source": [
    "dataset_path = '/home/simon/Downloads/dataset.csv'\n",
    "model_regressor_path = '/home/simon/Downloads/model_reg.pkl'\n",
    "model_classifier_path = '/home/simon/Downloads/model_clf.pkl'\n",
    "test_size = 98"
   ]
  },
  {
   "cell_type": "markdown",
   "metadata": {},
   "source": [
    "## 2. Get scores for all documents\n",
    "We first calculate the essay's score once, so we can compare how the essay improves/worsens when removing sentences. "
   ]
  },
  {
   "cell_type": "code",
   "execution_count": 5,
   "metadata": {
    "pycharm": {
     "is_executing": false,
     "name": "#%%\n"
    }
   },
   "outputs": [
    {
     "data": {
      "application/vnd.jupyter.widget-view+json": {
       "model_id": "a5e09b0ae67049e5b729132e6d1f80ae",
       "version_major": 2,
       "version_minor": 0
      },
      "text/plain": [
       "HBox(children=(FloatProgress(value=0.0, max=98.0), HTML(value='')))"
      ]
     },
     "metadata": {},
     "output_type": "display_data"
    },
    {
     "name": "stdout",
     "output_type": "stream",
     "text": [
      "\n"
     ]
    }
   ],
   "source": [
    "with open(model_regressor_path, 'rb') as fh:\n",
    "    model_regressor = pickle.load(fh)\n",
    "with open(model_classifier_path, 'rb') as fh:\n",
    "    model_classifier = pickle.load(fh)\n",
    "    \n",
    "pipeline = Pipeline().lexical_variation_taaled().get_pipe()\n",
    "# it would be nice if the classifier would be part of our Pipeline class. But it's not that simple because it has to \n",
    "# be the _last_ component\n",
    "pipeline.add_pipe(Classifier(model_regressor, 'score_regression'), name=Classifier.name + 'reg', last=True)\n",
    "pipeline.add_pipe(Classifier(model_classifier, 'score_classification'), name=Classifier.name + 'clf', last=True)\n",
    "\n",
    "texts, _= read_csv(dataset_path)\n",
    "texts = texts[:test_size]\n",
    "docs = list(tqdm(pipeline.pipe(texts[:test_size]), total=len(texts)))"
   ]
  },
  {
   "cell_type": "code",
   "execution_count": 6,
   "metadata": {
    "pycharm": {
     "is_executing": false,
     "name": "#%%\n"
    }
   },
   "outputs": [
    {
     "name": "stdout",
     "output_type": "stream",
     "text": [
      "1.89 1.0\n"
     ]
    }
   ],
   "source": [
    "print(docs[0]._.score_regression, docs[0]._.score_classification)\n",
    "\n"
   ]
  },
  {
   "cell_type": "code",
   "execution_count": null,
   "metadata": {
    "pycharm": {
     "name": "#%%\n"
    }
   },
   "outputs": [],
   "source": [
    "# todo remove one sentence/clause from each essay and put it through the pipeline\n",
    "\n"
   ]
  }
 ],
 "metadata": {
  "kernelspec": {
   "display_name": "Python 3",
   "language": "python",
   "name": "python3"
  },
  "language_info": {
   "codemirror_mode": {
    "name": "ipython",
    "version": 3
   },
   "file_extension": ".py",
   "mimetype": "text/x-python",
   "name": "python",
   "nbconvert_exporter": "python",
   "pygments_lexer": "ipython3",
   "version": "3.7.6"
  },
  "pycharm": {
   "stem_cell": {
    "cell_type": "raw",
    "metadata": {
     "collapsed": false
    },
    "source": []
   }
  }
 },
 "nbformat": 4,
 "nbformat_minor": 1
}
