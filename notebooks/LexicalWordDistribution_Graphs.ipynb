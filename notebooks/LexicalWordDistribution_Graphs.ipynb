{
 "cells": [
  {
   "cell_type": "code",
   "execution_count": 1,
   "metadata": {},
   "outputs": [],
   "source": [
    "import numpy as np\n",
    "import spacy\n",
    "from DataReader.XMLReader import get_essays\n",
    "from matplotlib import pyplot as plt\n",
    "from collections import Counter\n",
    "import operator"
   ]
  },
  {
   "cell_type": "markdown",
   "metadata": {},
   "source": [
    "## 1. Load dataset\n",
    "\n",
    "Several levels can be combined"
   ]
  },
  {
   "cell_type": "code",
   "execution_count": 3,
   "metadata": {},
   "outputs": [
    {
     "name": "stdout",
     "output_type": "stream",
     "text": [
      "loading level 4...\n",
      "loading level 5...\n",
      "loading level 6...\n",
      "done\n",
      "Number of essays: 69355\n"
     ]
    }
   ],
   "source": [
    "levels = [4,5,6]\n",
    "essays = []\n",
    "scores = []\n",
    "for level in levels:\n",
    "    dataset = \"EF-dataset/Ef\" + str(level) + \".xml\"\n",
    "    print(\"loading level \" + str(level) + \"...\")\n",
    "    essays_level, scores_level = get_essays(dataset)\n",
    "    essays += essays_level\n",
    "    scores += scores_level\n",
    "print(\"done\")\n",
    "print(\"Number of essays: \" + str(len(essays)))"
   ]
  },
  {
   "cell_type": "markdown",
   "metadata": {},
   "source": [
    "## 2. Calculate score distribution\n",
    "First we'll count the occurences for each score"
   ]
  },
  {
   "cell_type": "code",
   "execution_count": null,
   "metadata": {},
   "outputs": [],
   "source": [
    "# 2.1 count & sort results\n",
    "c = Counter([int(score) for score in scores])\n",
    "counted_scores = list(c.items())\n",
    "counted_scores.sort(key = operator.itemgetter(0)) # sort them by score"
   ]
  },
  {
   "cell_type": "code",
   "execution_count": null,
   "metadata": {},
   "outputs": [],
   "source": [
    "# 2.2 create a figure\n",
    "x_values, y_values = zip(*counted_scores)\n",
    "y_values_dist = np.divide(y_values,len(essays)/100) # percentage instead of absolute values\n",
    "\n",
    "#plt.figure(figsize=(25, 20))\n",
    "#plt.bar(x_values,y_values_dist, color=\"blue\",align='center', width=0.3)\n",
    "#plt.title(\"Score distribution for levels \" + ', '.join(map(str,levels)))\n",
    "#plt.xlabel(\"\")\n",
    "#plt.ylabel(\"%\")\n",
    "#plt.xticks(x_values)\n",
    "\n",
    "#for i, v in enumerate(y_values_dist):\n",
    "#    plt.text(float(x_values[i])-0.5, v+0.2, str(round(v,2))+ \"%\",rotation=90,size=10)\n",
    "#plt.show()"
   ]
  },
  {
   "cell_type": "code",
   "execution_count": null,
   "metadata": {},
   "outputs": [],
   "source": [
    "plt.figure(figsize=(5, 5))\n",
    "plt.bar(x_values,y_values,width=1)\n",
    "plt.title(\"Score distribution for levels \" + ', '.join(map(str,levels)))\n",
    "#plt.xlabel(\"\")\n",
    "#plt.ylabel(\"%\")\n",
    "#plt.xticks(x_values)\n",
    "plt.show()"
   ]
  },
  {
   "cell_type": "code",
   "execution_count": null,
   "metadata": {},
   "outputs": [],
   "source": [
    "print(\"score\\tnumber\\tpercentage\")\n",
    "for score, number_of_essays in counted_scores:\n",
    "    print(str(score) + \"\\t\" + str(number_of_essays) + \"\\t\"+ str(round(((number_of_essays/len(essays))*100),2)) + \"%\" )"
   ]
  },
  {
   "cell_type": "markdown",
   "metadata": {},
   "source": [
    "## 3. Calculate the token-count distribution"
   ]
  },
  {
   "cell_type": "code",
   "execution_count": null,
   "metadata": {},
   "outputs": [],
   "source": [
    "# 3.1. tokenize texts & count tokens\n",
    "token_count_list = []\n",
    "def token_counter(doc):\n",
    "    token_count_list.append(len(doc))\n",
    "    return doc\n",
    "\n",
    "nlp = spacy.load('en_core_web_sm')\n",
    "# we only need the tokenizer\n",
    "nlp.remove_pipe('tagger')\n",
    "nlp.remove_pipe('parser')\n",
    "nlp.remove_pipe('ner')\n",
    "\n",
    "nlp.add_pipe(token_counter, name=\"token counter\", last=True)\n",
    "\n",
    "docs = list(nlp.pipe(essays, batch_size=500))"
   ]
  },
  {
   "cell_type": "code",
   "execution_count": null,
   "metadata": {},
   "outputs": [],
   "source": [
    "# 3.2 count token_num occurences\n",
    "c = Counter(token_count_list)\n",
    "counted_token = list(c.items())\n",
    "counted_token.sort(key = operator.itemgetter(0)) # sort them by #tokens\n",
    "\n",
    "# filter outliner\n",
    "counted_token_filtered = [(tokennum,occurence) for (tokennum,occurence) in counted_token if tokennum < 500]"
   ]
  },
  {
   "cell_type": "code",
   "execution_count": null,
   "metadata": {},
   "outputs": [],
   "source": [
    "x_values, y_values = zip(*counted_token_filtered)\n",
    "plt.figure(figsize=(5, 5))\n",
    "plt.bar(x_values,y_values,width=1)\n",
    "plt.title(\"Token distribution for levels \" + ', '.join(map(str,levels)))\n",
    "plt.show()"
   ]
  },
  {
   "cell_type": "code",
   "execution_count": null,
   "metadata": {},
   "outputs": [],
   "source": [
    "score_token_ratio = dict()\n",
    "for i in range(1,101):\n",
    "    score_token_ratio[i] = []\n",
    "for index,doc in enumerate(docs):\n",
    "    score = scores[index]\n",
    "    score_token_ratio[score].append(len(doc))\n",
    "\n",
    "for score, token_counts in score_token_ratio.items():\n",
    "    if len(token_counts) == 0:\n",
    "        score_token_ratio[score] = 0\n",
    "        continue\n",
    "    score_token_ratio[score] = np.average(token_counts)\n",
    "score_token_ratio"
   ]
  },
  {
   "cell_type": "code",
   "execution_count": null,
   "metadata": {},
   "outputs": [],
   "source": [
    "x_values, y_values = zip(*score_token_ratio.items())\n",
    "plt.figure(figsize=(5, 5))\n",
    "plt.bar(x_values,y_values,width=1)\n",
    "plt.title(\"Average token number for each grade for levels \" + ', '.join(map(str,levels)))\n",
    "plt.show()"
   ]
  }
 ],
 "metadata": {
  "kernelspec": {
   "display_name": "Python 3",
   "language": "python",
   "name": "python3"
  },
  "language_info": {
   "codemirror_mode": {
    "name": "ipython",
    "version": 3
   },
   "file_extension": ".py",
   "mimetype": "text/x-python",
   "name": "python",
   "nbconvert_exporter": "python",
   "pygments_lexer": "ipython3",
   "version": "3.7.4"
  }
 },
 "nbformat": 4,
 "nbformat_minor": 2
}
