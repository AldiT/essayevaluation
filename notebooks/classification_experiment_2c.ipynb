{
 "cells": [
  {
   "cell_type": "markdown",
   "metadata": {},
   "source": [
    "## Experiment 2c"
   ]
  },
  {
   "cell_type": "markdown",
   "metadata": {},
   "source": [
    "<h3>In this experiment we will use a linear scale on the grades accross levels from B1 to C1</h3>"
   ]
  },
  {
   "cell_type": "markdown",
   "metadata": {},
   "source": [
    "## Imports"
   ]
  },
  {
   "cell_type": "code",
   "execution_count": 8,
   "metadata": {},
   "outputs": [],
   "source": [
    "import numpy as np\n",
    "import spacy\n",
    "from scipy.stats import pearsonr\n",
    "from sklearn.ensemble import RandomForestClassifier, RandomForestRegressor\n",
    "from sklearn.metrics import cohen_kappa_score\n",
    "from sklearn.model_selection import cross_val_score, KFold, cross_val_predict\n",
    "from tqdm import tqdm_notebook\n",
    "from essay_evaluation.corpus import read_flip_texts\n",
    "from essay_evaluation.lexical_variation_taaled import TaaledTokenClassifier, LexicalAccuracyTaaled\n",
    "import pandas as pd"
   ]
  },
  {
   "cell_type": "markdown",
   "metadata": {},
   "source": [
    "## 0. Setup paths"
   ]
  },
  {
   "cell_type": "code",
   "execution_count": 3,
   "metadata": {},
   "outputs": [],
   "source": [
    "flip_path = \"/usr/local/datasets/flip_clean.csv\"\n",
    "overall_levels = ['A1.1', 'A1.2', 'B1.1', 'B1.2', 'B2.1', 'B2.2', 'C1.1']"
   ]
  },
  {
   "cell_type": "markdown",
   "metadata": {},
   "source": [
    "## 1. Create data"
   ]
  },
  {
   "cell_type": "code",
   "execution_count": 4,
   "metadata": {},
   "outputs": [],
   "source": [
    "texts, grades, levels = read_flip_texts(flip_path, levels=overall_levels)\n",
    "\n",
    "new_levels = []\n",
    "new_grades = []\n",
    "new_texts = []\n",
    "\n",
    "for idx, level in enumerate(levels):\n",
    "    if level != 'A1.1' and level != 'A1.2':\n",
    "        new_levels.append(level)\n",
    "        new_grades.append(grades[idx])\n",
    "        new_texts.append(texts[idx])\n",
    "\n",
    "assert(len(new_texts) == len(new_grades))\n",
    "assert(len(new_texts) == len(new_levels))\n",
    "texts = new_texts\n",
    "grades = new_grades\n",
    "levels = new_levels"
   ]
  },
  {
   "cell_type": "markdown",
   "metadata": {},
   "source": [
    "## 2. Modify Grades\n",
    "<h3>The sublevels e.g. B1.1 and B1.2 are considered as one -> B1. And this is the level grades are kept the same, to B2 4 is added, to C1 grades 8 is added</h3>"
   ]
  },
  {
   "cell_type": "code",
   "execution_count": 5,
   "metadata": {},
   "outputs": [
    {
     "data": {
      "application/vnd.jupyter.widget-view+json": {
       "model_id": "13cb7b5a4bde49c891a79936bb7ac5ec",
       "version_major": 2,
       "version_minor": 0
      },
      "text/plain": [
       "HBox(children=(IntProgress(value=0, max=308), HTML(value='')))"
      ]
     },
     "metadata": {},
     "output_type": "display_data"
    },
    {
     "name": "stdout",
     "output_type": "stream",
     "text": [
      "\n"
     ]
    }
   ],
   "source": [
    "for idx, text in enumerate(tqdm_notebook(texts, total=len(texts))):\n",
    "    if levels[idx] == overall_levels[2] or levels[idx] == overall_levels[3]:\n",
    "        continue\n",
    "    elif levels[idx] == overall_levels[4] or levels[idx] == overall_levels[5]:\n",
    "        grades[idx] += 4\n",
    "    elif levels[idx] == overall_levels[6]:\n",
    "        grades[idx] += 8"
   ]
  },
  {
   "cell_type": "markdown",
   "metadata": {},
   "source": [
    "<h3>Pipeline</h3>"
   ]
  },
  {
   "cell_type": "code",
   "execution_count": 6,
   "metadata": {},
   "outputs": [
    {
     "data": {
      "text/plain": [
       "('ner', <spacy.pipeline.pipes.EntityRecognizer at 0x128a153d0>)"
      ]
     },
     "execution_count": 6,
     "metadata": {},
     "output_type": "execute_result"
    }
   ],
   "source": [
    "nlp = spacy.load(\"en_core_web_sm\")\n",
    "nlp.add_pipe(TaaledTokenClassifier(), name=TaaledTokenClassifier.name, last=True)\n",
    "nlp.add_pipe(LexicalAccuracyTaaled(), name=LexicalAccuracyTaaled.name, last=True)\n",
    "nlp.remove_pipe('ner')"
   ]
  },
  {
   "cell_type": "markdown",
   "metadata": {},
   "source": [
    "## 3. Creating feature matrices and gold standards"
   ]
  },
  {
   "cell_type": "code",
   "execution_count": 7,
   "metadata": {},
   "outputs": [
    {
     "data": {
      "application/vnd.jupyter.widget-view+json": {
       "model_id": "77de530b267147f68dfed0475b11418e",
       "version_major": 2,
       "version_minor": 0
      },
      "text/plain": [
       "HBox(children=(IntProgress(value=0, max=308), HTML(value='')))"
      ]
     },
     "metadata": {},
     "output_type": "display_data"
    },
    {
     "name": "stdout",
     "output_type": "stream",
     "text": [
      "\n"
     ]
    }
   ],
   "source": [
    "X = []\n",
    "feature_names = None\n",
    "for doc in tqdm_notebook(nlp.pipe(list(texts)), total=len(texts)):\n",
    "    if feature_names is None:\n",
    "        feature_names = list(doc._.features.keys())\n",
    "    X.append(list(doc._.features.values()))"
   ]
  },
  {
   "cell_type": "code",
   "execution_count": 7,
   "metadata": {},
   "outputs": [],
   "source": [
    "X = np.array(X)\n",
    "y = np.array(grades)\n",
    "\n",
    "df = pd.DataFrame(X, columns=feature_names)\n",
    "df.insert(len(feature_names),'AVG_VOCAB_GRADE', y)\n",
    "\n",
    "# Cross validation split\n",
    "cv = KFold(10, True)\n",
    "\n",
    "def pearsonr_scorer(estimator, X, y):\n",
    "    pred = estimator.predict(X)\n",
    "    r, pval = pearsonr(y, pred)\n",
    "    return r"
   ]
  },
  {
   "cell_type": "markdown",
   "metadata": {},
   "source": [
    "## 4. Regression"
   ]
  },
  {
   "cell_type": "code",
   "execution_count": 8,
   "metadata": {},
   "outputs": [
    {
     "name": "stdout",
     "output_type": "stream",
     "text": [
      "Pearson r: 0.30 (+/- 0.23)\n",
      "[0.427406   0.32144854 0.32234223 0.35811893 0.42634059 0.37863613\n",
      " 0.13569654 0.12397955 0.37606891 0.14396014]\n"
     ]
    }
   ],
   "source": [
    "clf = RandomForestRegressor(n_estimators=100)\n",
    "reg_pearson = cross_val_score(clf, X, y, cv=cv, scoring=pearsonr_scorer)\n",
    "print(\"Pearson r: %0.2f (+/- %0.2f)\" % (reg_pearson.mean(), reg_pearson.std() * 2))\n",
    "print(reg_pearson)"
   ]
  },
  {
   "cell_type": "markdown",
   "metadata": {},
   "source": [
    "## 5. Classification"
   ]
  },
  {
   "cell_type": "code",
   "execution_count": 9,
   "metadata": {},
   "outputs": [
    {
     "name": "stdout",
     "output_type": "stream",
     "text": [
      "Pearson r: 0.25 (+/- 0.31)\n",
      "[ 0.40172861  0.30297446  0.0990734  -0.01643708  0.13632457  0.50222456\n",
      "  0.37035634  0.37266571  0.1333904   0.16016152]\n"
     ]
    }
   ],
   "source": [
    "clf = RandomForestClassifier(n_estimators=100)\n",
    "y_int = y.astype(int)\n",
    "clf_pearson = cross_val_score(clf, X, y_int, cv=cv, scoring=pearsonr_scorer)\n",
    "print(\"Pearson r: %0.2f (+/- %0.2f)\" % (clf_pearson.mean(), clf_pearson.std() * 2))\n",
    "print(clf_pearson)"
   ]
  },
  {
   "cell_type": "code",
   "execution_count": 10,
   "metadata": {},
   "outputs": [
    {
     "data": {
      "text/html": [
       "<div>\n",
       "<style scoped>\n",
       "    .dataframe tbody tr th:only-of-type {\n",
       "        vertical-align: middle;\n",
       "    }\n",
       "\n",
       "    .dataframe tbody tr th {\n",
       "        vertical-align: top;\n",
       "    }\n",
       "\n",
       "    .dataframe thead th {\n",
       "        text-align: right;\n",
       "    }\n",
       "</style>\n",
       "<table border=\"1\" class=\"dataframe\">\n",
       "  <thead>\n",
       "    <tr style=\"text-align: right;\">\n",
       "      <th></th>\n",
       "      <th>TAALED_TTR_AW</th>\n",
       "      <th>TAALED_MAAS_TTR_AW</th>\n",
       "      <th>TAALED_MTLD_MA_WRAP_AW</th>\n",
       "      <th>TAALED_MTLD_MA_WRAP_CW</th>\n",
       "      <th>TAALED_MAAS_TTR_CW</th>\n",
       "      <th>TAALED_BASIC_NCONTENT_TOKENS</th>\n",
       "      <th>TAALED_BASIC_NFUNCTION_TYPES</th>\n",
       "      <th>AVG_VOCAB_GRADE</th>\n",
       "    </tr>\n",
       "  </thead>\n",
       "  <tbody>\n",
       "    <tr>\n",
       "      <td>0</td>\n",
       "      <td>5.659453</td>\n",
       "      <td>0.068980</td>\n",
       "      <td>28.911765</td>\n",
       "      <td>25.467742</td>\n",
       "      <td>0.059244</td>\n",
       "      <td>62.0</td>\n",
       "      <td>26.0</td>\n",
       "      <td>3.0</td>\n",
       "    </tr>\n",
       "    <tr>\n",
       "      <td>1</td>\n",
       "      <td>6.310373</td>\n",
       "      <td>0.063681</td>\n",
       "      <td>49.346821</td>\n",
       "      <td>54.632911</td>\n",
       "      <td>0.048140</td>\n",
       "      <td>79.0</td>\n",
       "      <td>30.0</td>\n",
       "      <td>6.0</td>\n",
       "    </tr>\n",
       "    <tr>\n",
       "      <td>2</td>\n",
       "      <td>6.851458</td>\n",
       "      <td>0.061581</td>\n",
       "      <td>44.561947</td>\n",
       "      <td>80.941176</td>\n",
       "      <td>0.038706</td>\n",
       "      <td>85.0</td>\n",
       "      <td>42.0</td>\n",
       "      <td>7.0</td>\n",
       "    </tr>\n",
       "    <tr>\n",
       "      <td>3</td>\n",
       "      <td>6.634387</td>\n",
       "      <td>0.066385</td>\n",
       "      <td>40.698113</td>\n",
       "      <td>50.840000</td>\n",
       "      <td>0.061031</td>\n",
       "      <td>100.0</td>\n",
       "      <td>51.0</td>\n",
       "      <td>3.0</td>\n",
       "    </tr>\n",
       "    <tr>\n",
       "      <td>4</td>\n",
       "      <td>6.794507</td>\n",
       "      <td>0.063674</td>\n",
       "      <td>53.036290</td>\n",
       "      <td>51.575472</td>\n",
       "      <td>0.051780</td>\n",
       "      <td>106.0</td>\n",
       "      <td>42.0</td>\n",
       "      <td>6.5</td>\n",
       "    </tr>\n",
       "    <tr>\n",
       "      <td>...</td>\n",
       "      <td>...</td>\n",
       "      <td>...</td>\n",
       "      <td>...</td>\n",
       "      <td>...</td>\n",
       "      <td>...</td>\n",
       "      <td>...</td>\n",
       "      <td>...</td>\n",
       "      <td>...</td>\n",
       "    </tr>\n",
       "    <tr>\n",
       "      <td>303</td>\n",
       "      <td>7.435027</td>\n",
       "      <td>0.053840</td>\n",
       "      <td>67.199052</td>\n",
       "      <td>75.033708</td>\n",
       "      <td>0.041314</td>\n",
       "      <td>89.0</td>\n",
       "      <td>46.0</td>\n",
       "      <td>11.0</td>\n",
       "    </tr>\n",
       "    <tr>\n",
       "      <td>304</td>\n",
       "      <td>8.277330</td>\n",
       "      <td>0.051174</td>\n",
       "      <td>64.425532</td>\n",
       "      <td>58.528169</td>\n",
       "      <td>0.042753</td>\n",
       "      <td>142.0</td>\n",
       "      <td>49.0</td>\n",
       "      <td>11.5</td>\n",
       "    </tr>\n",
       "    <tr>\n",
       "      <td>305</td>\n",
       "      <td>6.949586</td>\n",
       "      <td>0.061839</td>\n",
       "      <td>50.764228</td>\n",
       "      <td>36.646465</td>\n",
       "      <td>0.058306</td>\n",
       "      <td>99.0</td>\n",
       "      <td>51.0</td>\n",
       "      <td>7.0</td>\n",
       "    </tr>\n",
       "    <tr>\n",
       "      <td>306</td>\n",
       "      <td>6.709937</td>\n",
       "      <td>0.058237</td>\n",
       "      <td>53.441860</td>\n",
       "      <td>39.073529</td>\n",
       "      <td>0.053392</td>\n",
       "      <td>68.0</td>\n",
       "      <td>43.0</td>\n",
       "      <td>2.0</td>\n",
       "    </tr>\n",
       "    <tr>\n",
       "      <td>307</td>\n",
       "      <td>9.233851</td>\n",
       "      <td>0.040623</td>\n",
       "      <td>91.688000</td>\n",
       "      <td>124.345133</td>\n",
       "      <td>0.028159</td>\n",
       "      <td>119.0</td>\n",
       "      <td>56.0</td>\n",
       "      <td>7.0</td>\n",
       "    </tr>\n",
       "  </tbody>\n",
       "</table>\n",
       "<p>308 rows × 8 columns</p>\n",
       "</div>"
      ],
      "text/plain": [
       "     TAALED_TTR_AW  TAALED_MAAS_TTR_AW  TAALED_MTLD_MA_WRAP_AW  \\\n",
       "0         5.659453            0.068980               28.911765   \n",
       "1         6.310373            0.063681               49.346821   \n",
       "2         6.851458            0.061581               44.561947   \n",
       "3         6.634387            0.066385               40.698113   \n",
       "4         6.794507            0.063674               53.036290   \n",
       "..             ...                 ...                     ...   \n",
       "303       7.435027            0.053840               67.199052   \n",
       "304       8.277330            0.051174               64.425532   \n",
       "305       6.949586            0.061839               50.764228   \n",
       "306       6.709937            0.058237               53.441860   \n",
       "307       9.233851            0.040623               91.688000   \n",
       "\n",
       "     TAALED_MTLD_MA_WRAP_CW  TAALED_MAAS_TTR_CW  TAALED_BASIC_NCONTENT_TOKENS  \\\n",
       "0                 25.467742            0.059244                          62.0   \n",
       "1                 54.632911            0.048140                          79.0   \n",
       "2                 80.941176            0.038706                          85.0   \n",
       "3                 50.840000            0.061031                         100.0   \n",
       "4                 51.575472            0.051780                         106.0   \n",
       "..                      ...                 ...                           ...   \n",
       "303               75.033708            0.041314                          89.0   \n",
       "304               58.528169            0.042753                         142.0   \n",
       "305               36.646465            0.058306                          99.0   \n",
       "306               39.073529            0.053392                          68.0   \n",
       "307              124.345133            0.028159                         119.0   \n",
       "\n",
       "     TAALED_BASIC_NFUNCTION_TYPES  AVG_VOCAB_GRADE  \n",
       "0                            26.0              3.0  \n",
       "1                            30.0              6.0  \n",
       "2                            42.0              7.0  \n",
       "3                            51.0              3.0  \n",
       "4                            42.0              6.5  \n",
       "..                            ...              ...  \n",
       "303                          46.0             11.0  \n",
       "304                          49.0             11.5  \n",
       "305                          51.0              7.0  \n",
       "306                          43.0              2.0  \n",
       "307                          56.0              7.0  \n",
       "\n",
       "[308 rows x 8 columns]"
      ]
     },
     "execution_count": 10,
     "metadata": {},
     "output_type": "execute_result"
    }
   ],
   "source": [
    "df"
   ]
  },
  {
   "cell_type": "code",
   "execution_count": null,
   "metadata": {},
   "outputs": [],
   "source": []
  }
 ],
 "metadata": {
  "kernelspec": {
   "display_name": "Python 3",
   "language": "python",
   "name": "python3"
  },
  "language_info": {
   "codemirror_mode": {
    "name": "ipython",
    "version": 3
   },
   "file_extension": ".py",
   "mimetype": "text/x-python",
   "name": "python",
   "nbconvert_exporter": "python",
   "pygments_lexer": "ipython3",
   "version": "3.7.6"
  }
 },
 "nbformat": 4,
 "nbformat_minor": 2
}
