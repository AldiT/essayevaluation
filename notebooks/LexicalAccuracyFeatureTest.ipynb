{
 "cells": [
  {
   "cell_type": "code",
   "execution_count": 1,
   "metadata": {
    "pycharm": {
     "is_executing": false
    }
   },
   "outputs": [],
   "source": [
    "import numpy as np\n",
    "from DataReader.XMLReader import get_essays\n"
   ]
  },
  {
   "cell_type": "markdown",
   "metadata": {},
   "source": [
    "## 1. Load dataset"
   ]
  },
  {
   "cell_type": "code",
   "execution_count": 2,
   "metadata": {
    "pycharm": {
     "is_executing": false,
     "name": "#%%\n"
    }
   },
   "outputs": [
    {
     "name": "stdout",
     "text": [
      "done\nNumber of essays: 10000\n"
     ],
     "output_type": "stream"
    }
   ],
   "source": [
    "from essay_evaluation.lexical_density import LexicalDensityFeatures\n",
    "from essay_evaluation.lexical_sophistication import LexicalSophisticationFeatures\n",
    "from essay_evaluation.lexical_variation import LexicalVariationFeatures\n",
    "dataset_path = '/home/simon/Downloads/efcamdat/'\n",
    "levels = ['b1']\n",
    "\n",
    "\n",
    "from concurrent.futures import ThreadPoolExecutor, as_completed\n",
    "\n",
    "essays = []\n",
    "scores = []\n",
    "\n",
    "result = {}\n",
    "with ThreadPoolExecutor(max_workers=4) as executor:\n",
    "    \n",
    "    futures_level = {executor.submit(get_essays, dataset_path + 'level_' + level + '.xml'): level for level in levels}\n",
    "    for future in as_completed(futures_level):\n",
    "        level = futures_level[future]\n",
    "        try:\n",
    "            level_result = future.result()\n",
    "            result[level] = level_result\n",
    "        except Exception as exc:\n",
    "            print('%r generated an exception: %s' % (level, exc))\n",
    "        \n",
    "    for level in levels:\n",
    "        essays += result[level][0]\n",
    "        scores += result[level][1]\n",
    "scores = np.array(scores)\n",
    "print(\"done\")\n",
    "print(\"Number of essays: \" + str(len(essays)))"
   ]
  },
  {
   "cell_type": "markdown",
   "metadata": {
    "pycharm": {
     "name": "#%% md\n"
    }
   },
   "source": [
    "# 2. Calculate the features\n",
    "No we pass all texts through the spacy pipeline"
   ]
  },
  {
   "cell_type": "code",
   "execution_count": 3,
   "metadata": {
    "pycharm": {
     "is_executing": false,
     "name": "#%%\n"
    }
   },
   "outputs": [],
   "source": [
    "from notebook_utils import log_progress\n",
    "import spacy\n",
    "from essay_evaluation.lexical_accuracy import SpellChecker, CollocationPreprocessor, CollocationDectector, LexicalAccuracy, CollocationEvaluator\n",
    "from essay_evaluation.pipeline import FeatureCollector\n",
    "from essay_evaluation.collocational_aspects import CollocationalAspects\n",
    "\n",
    "nlp = spacy.load('en_core_web_sm')\n",
    "# we only need the tokenizer from spaCy\n",
    "#nlp.remove_pipe('tagger')\n",
    "nlp.remove_pipe('parser')\n",
    "nlp.remove_pipe('ner')\n",
    "\n",
    "lvf = LexicalVariationFeatures()\n",
    "lsf = LexicalSophisticationFeatures()\n",
    "ldf = LexicalDensityFeatures()\n",
    "\n",
    "nlp.add_pipe(lvf)\n",
    "nlp.add_pipe(ldf)\n",
    "nlp.add_pipe(lsf)\n",
    "#\n",
    "## add all required components\n",
    "#spell_checker = SpellChecker()\n",
    "#nlp.add_pipe(spell_checker, name=spell_checker.name, last=True)\n",
    "#\n",
    "#\n",
    "#col_preproc = CollocationPreprocessor()\n",
    "#nlp.add_pipe(col_preproc, name=col_preproc.name, last=True)\n",
    "#\n",
    "#col_detect = CollocationDectector()\n",
    "#nlp.add_pipe(col_detect, name=col_detect.name, last=True)\n",
    "#\n",
    "#col_evaluator = CollocationEvaluator()\n",
    "#nlp.add_pipe(col_evaluator, name=col_evaluator.name, last=True)\n",
    "#\n",
    "## add the lexical accuracy feature extractor\n",
    "#la_feature_extractor = LexicalAccuracy()\n",
    "#nlp.add_pipe(la_feature_extractor, name=la_feature_extractor.name, last=True)\n",
    "#\n",
    "## add the collocational aspects feature extractor\n",
    "#\n",
    "#ca_feature_extractor = CollocationalAspects()\n",
    "#nlp.add_pipe(ca_feature_extractor, name=ca_feature_extractor.name, last=True)\n",
    "#\n",
    "#\n",
    "# add the feature collector to get a nice feature matrix\n",
    "feature_collector = FeatureCollector()\n",
    "nlp.add_pipe(feature_collector, name=feature_collector.name, last=True)\n"
   ]
  },
  {
   "cell_type": "code",
   "execution_count": 4,
   "outputs": [
    {
     "name": "stdout",
     "text": [
      "Start pipeline\n",
      "finished one document (225.46627759933472)\n"
     ],
     "output_type": "stream"
    },
    {
     "traceback": [
      "\u001b[0;31m---------------------------------------------------------------------------\u001b[0m",
      "\u001b[0;31mKeyboardInterrupt\u001b[0m                         Traceback (most recent call last)",
      "\u001b[0;32m<ipython-input-4-f0ee09c35282>\u001b[0m in \u001b[0;36m<module>\u001b[0;34m\u001b[0m\n\u001b[1;32m      6\u001b[0m \u001b[0;32mfor\u001b[0m \u001b[0messay\u001b[0m \u001b[0;32min\u001b[0m \u001b[0messays\u001b[0m\u001b[0;34m[\u001b[0m\u001b[0;36m0\u001b[0m\u001b[0;34m:\u001b[0m\u001b[0;36m10\u001b[0m\u001b[0;34m]\u001b[0m\u001b[0;34m:\u001b[0m\u001b[0;34m\u001b[0m\u001b[0;34m\u001b[0m\u001b[0m\n\u001b[1;32m      7\u001b[0m     \u001b[0mstart\u001b[0m \u001b[0;34m=\u001b[0m \u001b[0mtime\u001b[0m\u001b[0;34m.\u001b[0m\u001b[0mtime\u001b[0m\u001b[0;34m(\u001b[0m\u001b[0;34m)\u001b[0m\u001b[0;34m\u001b[0m\u001b[0;34m\u001b[0m\u001b[0m\n\u001b[0;32m----> 8\u001b[0;31m     \u001b[0mdoc\u001b[0m \u001b[0;34m=\u001b[0m \u001b[0mnlp\u001b[0m\u001b[0;34m(\u001b[0m\u001b[0messay\u001b[0m\u001b[0;34m)\u001b[0m\u001b[0;34m\u001b[0m\u001b[0;34m\u001b[0m\u001b[0m\n\u001b[0m\u001b[1;32m      9\u001b[0m     \u001b[0mdocs\u001b[0m\u001b[0;34m.\u001b[0m\u001b[0mappend\u001b[0m\u001b[0;34m(\u001b[0m\u001b[0mdoc\u001b[0m\u001b[0;34m)\u001b[0m\u001b[0;34m\u001b[0m\u001b[0;34m\u001b[0m\u001b[0m\n\u001b[1;32m     10\u001b[0m     \u001b[0mend\u001b[0m \u001b[0;34m=\u001b[0m \u001b[0mtime\u001b[0m\u001b[0;34m.\u001b[0m\u001b[0mtime\u001b[0m\u001b[0;34m(\u001b[0m\u001b[0;34m)\u001b[0m\u001b[0;34m\u001b[0m\u001b[0;34m\u001b[0m\u001b[0m\n",
      "\u001b[0;32m<ipython-input-4-f0ee09c35282>\u001b[0m in \u001b[0;36m<module>\u001b[0;34m\u001b[0m\n\u001b[1;32m      6\u001b[0m \u001b[0;32mfor\u001b[0m \u001b[0messay\u001b[0m \u001b[0;32min\u001b[0m \u001b[0messays\u001b[0m\u001b[0;34m[\u001b[0m\u001b[0;36m0\u001b[0m\u001b[0;34m:\u001b[0m\u001b[0;36m10\u001b[0m\u001b[0;34m]\u001b[0m\u001b[0;34m:\u001b[0m\u001b[0;34m\u001b[0m\u001b[0;34m\u001b[0m\u001b[0m\n\u001b[1;32m      7\u001b[0m     \u001b[0mstart\u001b[0m \u001b[0;34m=\u001b[0m \u001b[0mtime\u001b[0m\u001b[0;34m.\u001b[0m\u001b[0mtime\u001b[0m\u001b[0;34m(\u001b[0m\u001b[0;34m)\u001b[0m\u001b[0;34m\u001b[0m\u001b[0;34m\u001b[0m\u001b[0m\n\u001b[0;32m----> 8\u001b[0;31m     \u001b[0mdoc\u001b[0m \u001b[0;34m=\u001b[0m \u001b[0mnlp\u001b[0m\u001b[0;34m(\u001b[0m\u001b[0messay\u001b[0m\u001b[0;34m)\u001b[0m\u001b[0;34m\u001b[0m\u001b[0;34m\u001b[0m\u001b[0m\n\u001b[0m\u001b[1;32m      9\u001b[0m     \u001b[0mdocs\u001b[0m\u001b[0;34m.\u001b[0m\u001b[0mappend\u001b[0m\u001b[0;34m(\u001b[0m\u001b[0mdoc\u001b[0m\u001b[0;34m)\u001b[0m\u001b[0;34m\u001b[0m\u001b[0;34m\u001b[0m\u001b[0m\n\u001b[1;32m     10\u001b[0m     \u001b[0mend\u001b[0m \u001b[0;34m=\u001b[0m \u001b[0mtime\u001b[0m\u001b[0;34m.\u001b[0m\u001b[0mtime\u001b[0m\u001b[0;34m(\u001b[0m\u001b[0;34m)\u001b[0m\u001b[0;34m\u001b[0m\u001b[0;34m\u001b[0m\u001b[0m\n",
      "\u001b[0;32m/opt/pycharm-professional/helpers/pydev/_pydevd_bundle/pydevd_frame.py\u001b[0m in \u001b[0;36mtrace_dispatch\u001b[0;34m(self, frame, event, arg)\u001b[0m\n\u001b[1;32m    675\u001b[0m                 \u001b[0;31m# if thread has a suspend flag, we suspend with a busy wait\u001b[0m\u001b[0;34m\u001b[0m\u001b[0;34m\u001b[0m\u001b[0;34m\u001b[0m\u001b[0m\n\u001b[1;32m    676\u001b[0m                 \u001b[0;32mif\u001b[0m \u001b[0minfo\u001b[0m\u001b[0;34m.\u001b[0m\u001b[0mpydev_state\u001b[0m \u001b[0;34m==\u001b[0m \u001b[0mSTATE_SUSPEND\u001b[0m\u001b[0;34m:\u001b[0m\u001b[0;34m\u001b[0m\u001b[0;34m\u001b[0m\u001b[0m\n\u001b[0;32m--> 677\u001b[0;31m                     \u001b[0mself\u001b[0m\u001b[0;34m.\u001b[0m\u001b[0mdo_wait_suspend\u001b[0m\u001b[0;34m(\u001b[0m\u001b[0mthread\u001b[0m\u001b[0;34m,\u001b[0m \u001b[0mframe\u001b[0m\u001b[0;34m,\u001b[0m \u001b[0mevent\u001b[0m\u001b[0;34m,\u001b[0m \u001b[0marg\u001b[0m\u001b[0;34m)\u001b[0m\u001b[0;34m\u001b[0m\u001b[0;34m\u001b[0m\u001b[0m\n\u001b[0m\u001b[1;32m    678\u001b[0m                     \u001b[0;31m# No need to reset frame.f_trace to keep the same trace function.\u001b[0m\u001b[0;34m\u001b[0m\u001b[0;34m\u001b[0m\u001b[0;34m\u001b[0m\u001b[0m\n\u001b[1;32m    679\u001b[0m                     \u001b[0;32mreturn\u001b[0m \u001b[0mself\u001b[0m\u001b[0;34m.\u001b[0m\u001b[0mtrace_dispatch\u001b[0m\u001b[0;34m\u001b[0m\u001b[0;34m\u001b[0m\u001b[0m\n",
      "\u001b[0;32m/opt/pycharm-professional/helpers/pydev/_pydevd_bundle/pydevd_frame.py\u001b[0m in \u001b[0;36mdo_wait_suspend\u001b[0;34m(self, *args, **kwargs)\u001b[0m\n\u001b[1;32m    132\u001b[0m \u001b[0;34m\u001b[0m\u001b[0m\n\u001b[1;32m    133\u001b[0m     \u001b[0;32mdef\u001b[0m \u001b[0mdo_wait_suspend\u001b[0m\u001b[0;34m(\u001b[0m\u001b[0mself\u001b[0m\u001b[0;34m,\u001b[0m \u001b[0;34m*\u001b[0m\u001b[0margs\u001b[0m\u001b[0;34m,\u001b[0m \u001b[0;34m**\u001b[0m\u001b[0mkwargs\u001b[0m\u001b[0;34m)\u001b[0m\u001b[0;34m:\u001b[0m\u001b[0;34m\u001b[0m\u001b[0;34m\u001b[0m\u001b[0m\n\u001b[0;32m--> 134\u001b[0;31m         \u001b[0mself\u001b[0m\u001b[0;34m.\u001b[0m\u001b[0m_args\u001b[0m\u001b[0;34m[\u001b[0m\u001b[0;36m0\u001b[0m\u001b[0;34m]\u001b[0m\u001b[0;34m.\u001b[0m\u001b[0mdo_wait_suspend\u001b[0m\u001b[0;34m(\u001b[0m\u001b[0;34m*\u001b[0m\u001b[0margs\u001b[0m\u001b[0;34m,\u001b[0m \u001b[0;34m**\u001b[0m\u001b[0mkwargs\u001b[0m\u001b[0;34m)\u001b[0m\u001b[0;34m\u001b[0m\u001b[0;34m\u001b[0m\u001b[0m\n\u001b[0m\u001b[1;32m    135\u001b[0m \u001b[0;34m\u001b[0m\u001b[0m\n\u001b[1;32m    136\u001b[0m     \u001b[0;31m# IFDEF CYTHON\u001b[0m\u001b[0;34m\u001b[0m\u001b[0;34m\u001b[0m\u001b[0;34m\u001b[0m\u001b[0m\n",
      "\u001b[0;32m/opt/pycharm-professional/helpers/pydev/pydevd.py\u001b[0m in \u001b[0;36mdo_wait_suspend\u001b[0;34m(self, thread, frame, event, arg, send_suspend_message, is_unhandled_exception)\u001b[0m\n\u001b[1;32m   1086\u001b[0m \u001b[0;34m\u001b[0m\u001b[0m\n\u001b[1;32m   1087\u001b[0m         \u001b[0;32mwith\u001b[0m \u001b[0mself\u001b[0m\u001b[0;34m.\u001b[0m\u001b[0m_threads_suspended_single_notification\u001b[0m\u001b[0;34m.\u001b[0m\u001b[0mnotify_thread_suspended\u001b[0m\u001b[0;34m(\u001b[0m\u001b[0mthread_id\u001b[0m\u001b[0;34m,\u001b[0m \u001b[0mstop_reason\u001b[0m\u001b[0;34m)\u001b[0m\u001b[0;34m:\u001b[0m\u001b[0;34m\u001b[0m\u001b[0;34m\u001b[0m\u001b[0m\n\u001b[0;32m-> 1088\u001b[0;31m             \u001b[0mself\u001b[0m\u001b[0;34m.\u001b[0m\u001b[0m_do_wait_suspend\u001b[0m\u001b[0;34m(\u001b[0m\u001b[0mthread\u001b[0m\u001b[0;34m,\u001b[0m \u001b[0mframe\u001b[0m\u001b[0;34m,\u001b[0m \u001b[0mevent\u001b[0m\u001b[0;34m,\u001b[0m \u001b[0marg\u001b[0m\u001b[0;34m,\u001b[0m \u001b[0msuspend_type\u001b[0m\u001b[0;34m,\u001b[0m \u001b[0mfrom_this_thread\u001b[0m\u001b[0;34m)\u001b[0m\u001b[0;34m\u001b[0m\u001b[0;34m\u001b[0m\u001b[0m\n\u001b[0m\u001b[1;32m   1089\u001b[0m \u001b[0;34m\u001b[0m\u001b[0m\n\u001b[1;32m   1090\u001b[0m     \u001b[0;32mdef\u001b[0m \u001b[0m_do_wait_suspend\u001b[0m\u001b[0;34m(\u001b[0m\u001b[0mself\u001b[0m\u001b[0;34m,\u001b[0m \u001b[0mthread\u001b[0m\u001b[0;34m,\u001b[0m \u001b[0mframe\u001b[0m\u001b[0;34m,\u001b[0m \u001b[0mevent\u001b[0m\u001b[0;34m,\u001b[0m \u001b[0marg\u001b[0m\u001b[0;34m,\u001b[0m \u001b[0msuspend_type\u001b[0m\u001b[0;34m,\u001b[0m \u001b[0mfrom_this_thread\u001b[0m\u001b[0;34m)\u001b[0m\u001b[0;34m:\u001b[0m\u001b[0;34m\u001b[0m\u001b[0;34m\u001b[0m\u001b[0m\n",
      "\u001b[0;32m/opt/pycharm-professional/helpers/pydev/pydevd.py\u001b[0m in \u001b[0;36m_do_wait_suspend\u001b[0;34m(self, thread, frame, event, arg, suspend_type, from_this_thread)\u001b[0m\n\u001b[1;32m   1101\u001b[0m \u001b[0;34m\u001b[0m\u001b[0m\n\u001b[1;32m   1102\u001b[0m                 \u001b[0mself\u001b[0m\u001b[0;34m.\u001b[0m\u001b[0mprocess_internal_commands\u001b[0m\u001b[0;34m(\u001b[0m\u001b[0;34m)\u001b[0m\u001b[0;34m\u001b[0m\u001b[0;34m\u001b[0m\u001b[0m\n\u001b[0;32m-> 1103\u001b[0;31m                 \u001b[0mtime\u001b[0m\u001b[0;34m.\u001b[0m\u001b[0msleep\u001b[0m\u001b[0;34m(\u001b[0m\u001b[0;36m0.01\u001b[0m\u001b[0;34m)\u001b[0m\u001b[0;34m\u001b[0m\u001b[0;34m\u001b[0m\u001b[0m\n\u001b[0m\u001b[1;32m   1104\u001b[0m \u001b[0;34m\u001b[0m\u001b[0m\n\u001b[1;32m   1105\u001b[0m         \u001b[0mself\u001b[0m\u001b[0;34m.\u001b[0m\u001b[0mcancel_async_evaluation\u001b[0m\u001b[0;34m(\u001b[0m\u001b[0mget_current_thread_id\u001b[0m\u001b[0;34m(\u001b[0m\u001b[0mthread\u001b[0m\u001b[0;34m)\u001b[0m\u001b[0;34m,\u001b[0m \u001b[0mstr\u001b[0m\u001b[0;34m(\u001b[0m\u001b[0mid\u001b[0m\u001b[0;34m(\u001b[0m\u001b[0mframe\u001b[0m\u001b[0;34m)\u001b[0m\u001b[0;34m)\u001b[0m\u001b[0;34m)\u001b[0m\u001b[0;34m\u001b[0m\u001b[0;34m\u001b[0m\u001b[0m\n",
      "\u001b[0;31mKeyboardInterrupt\u001b[0m: "
     ],
     "ename": "KeyboardInterrupt",
     "evalue": "",
     "output_type": "error"
    }
   ],
   "source": [
    "#feature_names = la_feature_extractor.feature_names + ca_feature_extractor.feature_names\n",
    "print(\"Start pipeline\")\n",
    "docs = []\n",
    "import time\n",
    "for essay in essays[0:10]:\n",
    "    start = time.time() \n",
    "    doc = nlp(essay)\n",
    "    docs.append(doc)\n",
    "    end = time.time()\n",
    "    print(\"finished one document (\" + str(end-start) + \")\")\n",
    "    \n",
    "\n",
    "    "
   ],
   "metadata": {
    "collapsed": false,
    "pycharm": {
     "name": "#%%\n",
     "is_executing": false
    }
   }
  },
  {
   "cell_type": "code",
   "execution_count": 19,
   "metadata": {
    "pycharm": {
     "is_executing": false,
     "name": "#%% \n"
    }
   },
   "outputs": [],
   "source": [
    "text = \"Hi Peter: I am planning a party with my yoga club friends in Apple on sunday 22th ,at 11 am. I am sending out invitations on EMS to 30 of my friends and I hope they are all coming .Heury and Paul are bringing some juice and beer and Jackie is choosing some rock CD’s for the party .linda is making a cake for the party . I hope you can come . june\"\n",
    "doc = nlp(text)"
   ]
  },
  {
   "cell_type": "code",
   "execution_count": 20,
   "outputs": [
    {
     "name": "stdout",
     "text": [
      "[sunday, june]\n78\n2\n[0.02564102564102564, 0.8125]\n"
     ],
     "output_type": "stream"
    }
   ],
   "source": [
    "print(doc._.spell_errors)\n",
    "print(len(doc))\n",
    "print(len(doc._.spell_errors))\n",
    "print(doc._.features_la)"
   ],
   "metadata": {
    "collapsed": false,
    "pycharm": {
     "name": "#%%\n",
     "is_executing": false
    }
   }
  },
  {
   "cell_type": "code",
   "execution_count": 23,
   "outputs": [
    {
     "name": "stdout",
     "text": [
      "[sunday, june]\n78\n2\n[0.02564102564102564, 0.8125]\n['yoga_NOUN<--[ NOUN+NOUN (None) ]--club_NOUN',\n 'club_NOUN<--[ NOUN+NOUN (None) ]--friend_NOUN',\n 'sunday_NOUN<--[ NOUN+NOUN (None) ]--22th_NOUN',\n 'beer_NOUN<--[ NOUN+NOUN (None) ]--juice_NOUN',\n 'choose_NOUN<--[ NOUN+NOUN (None) ]--bring_NOUN',\n 'rock_NOUN<--[ NOUN+NOUN (None) ]--cd_NOUN',\n 'cd_NOUN<--[ NOUN+NOUN (None) ]--’s_NOUN',\n 'party_NOUN<--[ VERB+NOUN (None) ]--plan_VERB',\n 'invitation_NOUN<--[ VERB+NOUN (None) ]--send_VERB',\n '’s_NOUN<--[ VERB+NOUN (None) ]--choose_VERB',\n 'come_VERB<--[ VERB+VERB (None) ]--hope_VERB',\n 'can_VERB<--[ VERB+VERB (None) ]--come_VERB',\n 'come_VERB<--[ VERB+VERB (None) ]--hope_VERB']\n['yoga_NOUN<--[ NOUN+NOUN (None) ]--club_NOUN',\n 'club_NOUN<--[ NOUN+NOUN (None) ]--friend_NOUN',\n 'sunday_NOUN<--[ NOUN+NOUN (None) ]--22th_NOUN',\n 'beer_NOUN<--[ NOUN+NOUN (None) ]--juice_NOUN',\n 'choose_NOUN<--[ NOUN+NOUN (None) ]--bring_NOUN',\n 'rock_NOUN<--[ NOUN+NOUN (None) ]--cd_NOUN',\n 'cd_NOUN<--[ NOUN+NOUN (None) ]--’s_NOUN',\n 'party_NOUN<--[ VERB+NOUN (None) ]--plan_VERB',\n 'invitation_NOUN<--[ VERB+NOUN (None) ]--send_VERB',\n 'juice_NOUN<--[ VERB+NOUN (1.1218248296876754) ]--bring_VERB',\n '’s_NOUN<--[ VERB+NOUN (None) ]--choose_VERB',\n 'cake_NOUN<--[ VERB+NOUN (2.3216286491337383) ]--make_VERB',\n 'come_VERB<--[ VERB+VERB (None) ]--hope_VERB',\n 'can_VERB<--[ VERB+VERB (None) ]--come_VERB',\n 'come_VERB<--[ VERB+VERB (None) ]--hope_VERB',\n 'out_ADV<--[ ADV+VERB (10.611689516357144) ]--send_VERB']\n[0.0, 0.3333333333333333, 0.6666666666666666]\n"
     ],
     "output_type": "stream"
    }
   ],
   "source": [
    "from pprint import pprint\n",
    "print(doc._.spell_errors)\n",
    "print(len(doc))\n",
    "print(len(doc._.spell_errors))\n",
    "print(doc._.features_la)\n",
    "pprint([str(col) for col in doc._.collocation_errors])\n",
    "pprint([str(col) for col in doc._.collocations])\n",
    "print(doc._.features_ca)"
   ],
   "metadata": {
    "collapsed": false,
    "pycharm": {
     "name": "#%%\n",
     "is_executing": false
    }
   }
  },
  {
   "cell_type": "code",
   "execution_count": 5,
   "outputs": [],
   "source": [],
   "metadata": {
    "collapsed": false,
    "pycharm": {
     "name": "#%%\n",
     "is_executing": false
    }
   }
  },
  {
   "cell_type": "code",
   "execution_count": 3,
   "outputs": [
    {
     "name": "stdout",
     "text": [
      "\n      I have many plans for the next five years. Here in Brazil we are not used to take a gap year. It's more common to go to United States and make a work experience and learn English. I graduated in Executive Secretary Course in 2008. In 2009 I made a specialization in public management. Now I work in a Natural Gas Company as a Secretary and I'm studying to get a better job. I'm trying to have a public job at \"Ministrio Pblico da Unio\". In the next year's I am going to continue studying to get it.\n    \n"
     ],
     "output_type": "stream"
    }
   ],
   "source": [
    "import html\n",
    "\n",
    "print(essays[167])"
   ],
   "metadata": {
    "collapsed": false,
    "pycharm": {
     "name": "#%%\n",
     "is_executing": false
    }
   }
  },
  {
   "cell_type": "code",
   "execution_count": null,
   "outputs": [],
   "source": [
    "\n"
   ],
   "metadata": {
    "collapsed": false,
    "pycharm": {
     "name": "#%%\n"
    }
   }
  }
 ],
 "metadata": {
  "kernelspec": {
   "display_name": "Python 3",
   "language": "python",
   "name": "python3"
  },
  "language_info": {
   "codemirror_mode": {
    "name": "ipython",
    "version": 3
   },
   "file_extension": ".py",
   "mimetype": "text/x-python",
   "name": "python",
   "nbconvert_exporter": "python",
   "pygments_lexer": "ipython3",
   "version": "3.7.4"
  },
  "pycharm": {
   "stem_cell": {
    "cell_type": "raw",
    "source": [],
    "metadata": {
     "collapsed": false
    }
   }
  }
 },
 "nbformat": 4,
 "nbformat_minor": 1
}