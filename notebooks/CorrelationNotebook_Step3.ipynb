{
 "cells": [
  {
   "cell_type": "code",
   "execution_count": 2,
   "metadata": {},
   "outputs": [
    {
     "name": "stderr",
     "output_type": "stream",
     "text": [
      "/usr/local/lib/python3.7/site-packages/ipykernel_launcher.py:4: DeprecationWarning: the LexicalDiversity module is deprecated. Use the Pipline components instead\n",
      "  after removing the cwd from sys.path.\n"
     ]
    }
   ],
   "source": [
    "from bs4 import BeautifulSoup as BS\n",
    "import numpy as np\n",
    "import spacy\n",
    "from Legacy.LexicalDiversity import get_ld_features, get_ld_features_dict, get_feature_matrix\n",
    "from DataReader.XMLReader import XMLReader\n",
    "from nltk.tokenize import sent_tokenize\n",
    "from scipy.stats import pearsonr\n",
    "from matplotlib import pyplot as plt\n"
   ]
  },
  {
   "cell_type": "markdown",
   "metadata": {},
   "source": [
    "<h1>Lexical Variation + Lexical Sophistication Features</h1>\n",
    "\n",
    "<h3>This part of the notebook extracts the feature_matrix and stores it, if you already have the feature matrices, do not run this but skip to the next cell.</h3>"
   ]
  },
  {
   "cell_type": "code",
   "execution_count": 9,
   "metadata": {
    "scrolled": true
   },
   "outputs": [
    {
     "name": "stdout",
     "output_type": "stream",
     "text": [
      "1000\n",
      "Extracting features for 1000 essays: [                                                  ---------------------------------------------------]\n"
     ]
    }
   ],
   "source": [
    "#Level 1 data\n",
    "level = \"b1\"\n",
    "\n",
    "feature_matrix, grades, essays = get_feature_matrix(\"dataset_binned/level_\" + level + \".xml\", 1000)\n",
    "\n",
    "#Save the feature matrix"
   ]
  },
  {
   "cell_type": "code",
   "execution_count": 10,
   "metadata": {},
   "outputs": [
    {
     "data": {
      "text/plain": [
       "array([[ True,  True,  True, ...,  True,  True,  True],\n",
       "       [ True,  True,  True, ...,  True,  True,  True],\n",
       "       [ True,  True,  True, ...,  True,  True,  True],\n",
       "       ...,\n",
       "       [ True,  True,  True, ...,  True,  True,  True],\n",
       "       [ True,  True,  True, ...,  True,  True,  True],\n",
       "       [ True,  True,  True, ...,  True,  True,  True]])"
      ]
     },
     "execution_count": 10,
     "metadata": {},
     "output_type": "execute_result"
    }
   ],
   "source": [
    "current = np.load(\"feature_matrices/level_b1_fm.npy\")\n",
    "current = current[:1000]\n",
    "current == feature_matrix[:1000]"
   ]
  },
  {
   "cell_type": "code",
   "execution_count": 3,
   "metadata": {},
   "outputs": [
    {
     "name": "stdout",
     "output_type": "stream",
     "text": [
      "(1001, 28)\n",
      "(1001, 28)\n"
     ]
    }
   ],
   "source": [
    "print(feature_matrix.shape)\n",
    "copy = np.copy(feature_matrix)\n",
    "print(copy.shape)\n",
    "#feature_matrix = feature_matrix[:, 14:]"
   ]
  },
  {
   "cell_type": "code",
   "execution_count": 4,
   "metadata": {},
   "outputs": [
    {
     "name": "stdout",
     "output_type": "stream",
     "text": [
      "(1001, 28)\n"
     ]
    }
   ],
   "source": [
    "print(copy.shape)\n",
    "np.save(\"level_\" + level + \"_fm.npy\", copy)\n",
    "np.save(\"level_\" + level + \"_grades.npy\", grades)"
   ]
  },
  {
   "cell_type": "markdown",
   "metadata": {},
   "source": [
    "<h3>Create the feature names array</h3>"
   ]
  },
  {
   "cell_type": "code",
   "execution_count": null,
   "metadata": {},
   "outputs": [],
   "source": [
    "feature_names = ['LV_W', 'LV_WT', 'LV_WT1', 'LV_TTR', 'LV_CTTR', 'LV_RTTR', 'LV_HDD', 'LV_DUGA', 'LV_MAAS', 'LV_SUMM',\n",
    "                         'LV_YULEK','LV_MTLD','LV_MSTTR','LV_MATTR']\n",
    "feature_names += [\"LS_FPC_NG\", \"LS_FPC_NA\", \"LS_FPC_TC\", \"LS_FPC_BS\", \"LS_FPC_CA\", \"LS_FPC_CT\", \"LS_FPC_CGA1\",\n",
    "            \"LS_FPC_CGA2\", \"LS_FPC_CGA3\", \"LS_FOMN_NG\", \"LS_FOMN_NA\", \"LS_FOMN_TC\", \"LS_FOMN_BS\", \"LS_FOMN_CA\"]\n",
    "\n",
    "\n",
    "\n",
    "#print(feature_names)\n",
    "#print(feature_matrix.shape)\n",
    "#print(feature_matrix[0, :])\n",
    "#print(grades.shape)"
   ]
  },
  {
   "cell_type": "markdown",
   "metadata": {},
   "source": [
    "<h2>Level A1 (10 000 essays closest to the mean token count)</h2>"
   ]
  },
  {
   "cell_type": "code",
   "execution_count": null,
   "metadata": {
    "scrolled": false
   },
   "outputs": [],
   "source": [
    "feature_names = np.array(feature_names)\n",
    "\n",
    "level=\"a1\"\n",
    "\n",
    "feature_matrix = np.load(\"level_\" + level + \"_fm.npy\")\n",
    "grades = np.load(\"level_\" + level + \"_grades.npy\")\n",
    "\n",
    "pearson_correlation_lv = []\n",
    "p_scores_lv = []\n",
    "\n",
    "pearson_correlation_ls = []\n",
    "p_scores_ls = []\n",
    "\n",
    "for column in feature_matrix[:, :14].T:\n",
    "    calcs = pearsonr(column, grades)\n",
    "    pearson_correlation_lv.append(calcs[0])\n",
    "    p_scores_lv.append(calcs[1])\n",
    "\n",
    "pearson_correlation_lv = np.array(pearson_correlation_lv)\n",
    "    \n",
    "top_ten_indices_lv = np.abs(pearson_correlation_lv).argsort()[-10:][::-1].astype(\"int32\")\n",
    "print(\"Top ten indicies: \", top_ten_indices_lv)\n",
    "\n",
    "\n",
    "for column in feature_matrix[:, 14:].T:\n",
    "    calcs = pearsonr(column, grades)\n",
    "    pearson_correlation_ls.append(calcs[0])\n",
    "    p_scores_ls.append(calcs[1])\n",
    "\n",
    "pearson_correlation_ls = np.array(pearson_correlation_ls)\n",
    "top_ten_indices_ls = np.abs(pearson_correlation_ls).argsort()[-10:][::-1].astype(\"int32\")\n",
    "print(\"Top ten indicies: \", top_ten_indices_ls)\n",
    "colors = np.array(10)\n",
    "#colors = [\"blue\" for element in feature_names[top_ten_indices] if element[:2] == \"LV\"]\n",
    "#colors = [\"green\" for element in feature_names[top_ten_indices] if element[:2] == \"LS\"]\n",
    "\n",
    "\n",
    "#print(\"Top ten values: \" , pearson_correlation_lv[top_ten_indices_lv])\n",
    "\n",
    "ordinal_values = np.arange(10)\n",
    "\n",
    "plt.figure(figsize=(15, 10))\n",
    "plt.bar(ordinal_values-0.2, pearson_correlation_lv[top_ten_indices_lv], color=\"blue\", align=\"center\", label=\"Lexical Variation\", width=0.2)\n",
    "plt.title(\"Feature to grade correlation\")\n",
    "plt.xlabel(\"Feature names\")\n",
    "plt.ylabel(\"Correlation to grade\")\n",
    "plt.xticks(ordinal_values-0.5, feature_names[top_ten_indices_lv])\n",
    "\n",
    "for i, v in enumerate(pearson_correlation_lv[top_ten_indices_lv]):\n",
    "    plt.text(ordinal_values[i] - 0.2, v + 0.001, str(round(v, 4)), rotation=45)\n",
    "\n",
    "#plt.figure(figsize=(15, 10))\n",
    "plt.bar(ordinal_values, pearson_correlation_ls[top_ten_indices_ls], color=\"green\", align=\"center\", label=\"Lexical Sophistication\", width=0.2)\n",
    "plt.title(\"Feature to grade correlation\")\n",
    "plt.xlabel(\"Feature names\")\n",
    "plt.ylabel(\"Correlation to grade\")\n",
    "plt.xticks(ordinal_values, zip(feature_names[top_ten_indices_lv], feature_names[top_ten_indices_ls+14]), rotation=45)\n",
    "\n",
    "for i, v in enumerate(pearson_correlation_ls[top_ten_indices_ls]):\n",
    "    plt.text(ordinal_values[i], v + 0.001, str(round(v, 4)), rotation=45)\n",
    "\n",
    "plt.legend()\n",
    "plt.show()\n",
    "\n",
    "\n",
    "\n",
    "highest_value_index_lv = np.argmax(pearson_correlation_lv)\n",
    "\n",
    "plt.figure(figsize=(15, 10))\n",
    "plt.plot(feature_matrix[:, highest_value_index_lv], grades, \"*\")\n",
    "plt.gray()\n",
    "plt.title(\"Highest correlation feature with the grades(\"+ feature_names[highest_value_index_lv] + \")\")\n",
    "plt.xlabel(feature_names[highest_value_index_lv])\n",
    "plt.ylabel(\"Grades\")\n",
    "plt.show()\n",
    "\n",
    "\n",
    "highest_value_index_ls = np.argmax(pearson_correlation_ls)\n",
    "\n",
    "plt.figure(figsize=(15, 10))\n",
    "plt.plot(feature_matrix[:, highest_value_index_ls+14], grades, \"*\")\n",
    "plt.gray()\n",
    "plt.title(\"Highest correlation feature with the grades(\"+ feature_names[highest_value_index_ls + 14] + \")\")\n",
    "plt.xlabel(feature_names[highest_value_index_ls+14])\n",
    "plt.ylabel(\"Grades\")\n",
    "plt.show()"
   ]
  },
  {
   "cell_type": "markdown",
   "metadata": {},
   "source": [
    "<h2>Level A1: Lexical Sophistication feature table</h2>"
   ]
  },
  {
   "cell_type": "code",
   "execution_count": null,
   "metadata": {},
   "outputs": [],
   "source": [
    "import pandas as pd\n",
    "\n",
    "pearson_correlation_ls = np.array(pearson_correlation_ls)\n",
    "p_scores_ls = np.array(p_scores_ls)\n",
    "\n",
    "data = np.stack([feature_names[14:], pearson_correlation_ls, p_scores_ls])\n",
    "\n",
    "df = pd.DataFrame(data.T, index=np.arange(14), columns=[\"Feature\", \"Pearson_Correlation\", \"p_score\"])\n",
    "df\n"
   ]
  },
  {
   "cell_type": "markdown",
   "metadata": {},
   "source": [
    "<h2>Level A2 (10 000 essays closest to the mean token count)</h2>"
   ]
  },
  {
   "cell_type": "code",
   "execution_count": null,
   "metadata": {
    "scrolled": false
   },
   "outputs": [],
   "source": [
    "level=\"a2\"\n",
    "\n",
    "feature_matrix = np.load(\"level_\" + level + \"_fm.npy\")\n",
    "grades = np.load(\"level_\" + level + \"_grades.npy\")\n",
    "\n",
    "pearson_correlation_lv = []\n",
    "p_scores_lv = []\n",
    "\n",
    "pearson_correlation_ls = []\n",
    "p_scores_ls = []\n",
    "\n",
    "for column in feature_matrix[:, :14].T:\n",
    "    calcs = pearsonr(column, grades)\n",
    "    pearson_correlation_lv.append(calcs[0])\n",
    "    p_scores_lv.append(calcs[1])\n",
    "\n",
    "pearson_correlation_lv = np.array(pearson_correlation_lv)\n",
    "    \n",
    "top_ten_indices_lv = np.abs(pearson_correlation_lv).argsort()[-10:][::-1].astype(\"int32\")\n",
    "print(\"Top ten indicies: \", top_ten_indices_lv)\n",
    "\n",
    "\n",
    "for column in feature_matrix[:, 14:].T:\n",
    "    calcs = pearsonr(column, grades)\n",
    "    pearson_correlation_ls.append(calcs[0])\n",
    "    p_scores_ls.append(calcs[1])\n",
    "\n",
    "pearson_correlation_ls = np.array(pearson_correlation_ls)\n",
    "top_ten_indices_ls = np.abs(pearson_correlation_ls).argsort()[-10:][::-1].astype(\"int32\")\n",
    "print(\"Top ten indicies: \", top_ten_indices_ls)\n",
    "colors = np.array(10)\n",
    "#colors = [\"blue\" for element in feature_names[top_ten_indices] if element[:2] == \"LV\"]\n",
    "#colors = [\"green\" for element in feature_names[top_ten_indices] if element[:2] == \"LS\"]\n",
    "\n",
    "\n",
    "#print(\"Top ten values: \" , pearson_correlation_lv[top_ten_indices_lv])\n",
    "\n",
    "ordinal_values = np.arange(10)\n",
    "\n",
    "plt.figure(figsize=(15, 10))\n",
    "plt.bar(ordinal_values-0.2, pearson_correlation_lv[top_ten_indices_lv], color=\"blue\", align=\"center\", label=\"Lexical Variation\", width=0.2)\n",
    "plt.title(\"Feature to grade correlation\")\n",
    "plt.xlabel(\"Feature names\")\n",
    "plt.ylabel(\"Correlation to grade\")\n",
    "plt.xticks(ordinal_values-0.5, feature_names[top_ten_indices_lv])\n",
    "\n",
    "for i, v in enumerate(pearson_correlation_lv[top_ten_indices_lv]):\n",
    "    plt.text(ordinal_values[i] - 0.2, v + 0.001, str(round(v, 4)), rotation=45)\n",
    "\n",
    "#plt.figure(figsize=(15, 10))\n",
    "plt.bar(ordinal_values, pearson_correlation_ls[top_ten_indices_ls], color=\"green\", align=\"center\", label=\"Lexical Sophistication\", width=0.2)\n",
    "plt.title(\"Feature to grade correlation\")\n",
    "plt.xlabel(\"Feature names\")\n",
    "plt.ylabel(\"Correlation to grade\")\n",
    "plt.xticks(ordinal_values, zip(feature_names[top_ten_indices_lv], feature_names[top_ten_indices_ls+14]), rotation=45)\n",
    "\n",
    "for i, v in enumerate(pearson_correlation_ls[top_ten_indices_ls]):\n",
    "    plt.text(ordinal_values[i], v + 0.001, str(round(v, 4)), rotation=45)\n",
    "\n",
    "plt.legend()\n",
    "plt.show()\n",
    "\n",
    "\n",
    "\n",
    "highest_value_index_lv = np.argmax(pearson_correlation_lv)\n",
    "\n",
    "plt.figure(figsize=(15, 10))\n",
    "plt.plot(feature_matrix[:, highest_value_index_lv], grades, \"*\")\n",
    "plt.gray()\n",
    "plt.title(\"Highest correlation feature with the grades(\"+ feature_names[highest_value_index_lv] + \")\")\n",
    "plt.xlabel(feature_names[highest_value_index_lv])\n",
    "plt.ylabel(\"Grades\")\n",
    "plt.show()\n",
    "\n",
    "\n",
    "highest_value_index_ls = np.argmax(pearson_correlation_ls)\n",
    "\n",
    "plt.figure(figsize=(15, 10))\n",
    "plt.plot(feature_matrix[:, highest_value_index_ls+14], grades, \"*\")\n",
    "plt.gray()\n",
    "plt.title(\"Highest correlation feature with the grades(\"+ feature_names[highest_value_index_ls + 14] + \")\")\n",
    "plt.xlabel(feature_names[highest_value_index_ls+14])\n",
    "plt.ylabel(\"Grades\")\n",
    "plt.show()"
   ]
  },
  {
   "cell_type": "markdown",
   "metadata": {},
   "source": [
    "<h2>Level A2: Lexical Sophistication feature table</h2>"
   ]
  },
  {
   "cell_type": "code",
   "execution_count": null,
   "metadata": {},
   "outputs": [],
   "source": [
    "pearson_correlation_ls = np.array(pearson_correlation_ls)\n",
    "p_scores_ls = np.array(p_scores_ls)\n",
    "\n",
    "data = np.stack([feature_names[14:], pearson_correlation_ls, p_scores_ls])\n",
    "\n",
    "df = pd.DataFrame(data.T, index=np.arange(14), columns=[\"Feature\", \"Pearson_Correlation\", \"p_score\"])\n",
    "df"
   ]
  },
  {
   "cell_type": "markdown",
   "metadata": {},
   "source": [
    "<h2>Level B1 (10 000 essays closest to the mean token count)</h2>"
   ]
  },
  {
   "cell_type": "code",
   "execution_count": null,
   "metadata": {
    "scrolled": false
   },
   "outputs": [],
   "source": [
    "level=\"b1\"\n",
    "\n",
    "feature_matrix = np.load(\"level_\" + level + \"_fm.npy\")\n",
    "grades = np.load(\"level_\" + level + \"_grades.npy\")\n",
    "\n",
    "pearson_correlation_lv = []\n",
    "p_scores_lv = []\n",
    "\n",
    "pearson_correlation_ls = []\n",
    "p_scores_ls = []\n",
    "\n",
    "for column in feature_matrix[:, :14].T:\n",
    "    calcs = pearsonr(column, grades)\n",
    "    pearson_correlation_lv.append(calcs[0])\n",
    "    p_scores_lv.append(calcs[1])\n",
    "\n",
    "pearson_correlation_lv = np.array(pearson_correlation_lv)\n",
    "    \n",
    "top_ten_indices_lv = np.abs(pearson_correlation_lv).argsort()[-10:][::-1].astype(\"int32\")\n",
    "print(\"Top ten indicies: \", top_ten_indices_lv)\n",
    "\n",
    "\n",
    "for column in feature_matrix[:, 14:].T:\n",
    "    calcs = pearsonr(column, grades)\n",
    "    pearson_correlation_ls.append(calcs[0])\n",
    "    p_scores_ls.append(calcs[1])\n",
    "\n",
    "pearson_correlation_ls = np.array(pearson_correlation_ls)\n",
    "top_ten_indices_ls = np.abs(pearson_correlation_ls).argsort()[-10:][::-1].astype(\"int32\")\n",
    "print(\"Top ten indicies: \", top_ten_indices_ls)\n",
    "colors = np.array(10)\n",
    "#colors = [\"blue\" for element in feature_names[top_ten_indices] if element[:2] == \"LV\"]\n",
    "#colors = [\"green\" for element in feature_names[top_ten_indices] if element[:2] == \"LS\"]\n",
    "\n",
    "\n",
    "#print(\"Top ten values: \" , pearson_correlation_lv[top_ten_indices_lv])\n",
    "\n",
    "ordinal_values = np.arange(10)\n",
    "\n",
    "plt.figure(figsize=(15, 10))\n",
    "plt.bar(ordinal_values-0.2, pearson_correlation_lv[top_ten_indices_lv], color=\"blue\", align=\"center\", label=\"Lexical Variation\", width=0.2)\n",
    "plt.title(\"Feature to grade correlation\")\n",
    "plt.xlabel(\"Feature names\")\n",
    "plt.ylabel(\"Correlation to grade\")\n",
    "plt.xticks(ordinal_values-0.5, feature_names[top_ten_indices_lv])\n",
    "\n",
    "for i, v in enumerate(pearson_correlation_lv[top_ten_indices_lv]):\n",
    "    plt.text(ordinal_values[i] - 0.2, v + 0.001, str(round(v, 4)), rotation=45)\n",
    "\n",
    "#plt.figure(figsize=(15, 10))\n",
    "plt.bar(ordinal_values, pearson_correlation_ls[top_ten_indices_ls], color=\"green\", align=\"center\", label=\"Lexical Sophistication\", width=0.2)\n",
    "plt.title(\"Feature to grade correlation\")\n",
    "plt.xlabel(\"Feature names\")\n",
    "plt.ylabel(\"Correlation to grade\")\n",
    "plt.xticks(ordinal_values, zip(feature_names[top_ten_indices_lv], feature_names[top_ten_indices_ls+14]), rotation=45)\n",
    "\n",
    "for i, v in enumerate(pearson_correlation_ls[top_ten_indices_ls]):\n",
    "    plt.text(ordinal_values[i], v + 0.001, str(round(v, 4)), rotation=45)\n",
    "\n",
    "plt.legend()\n",
    "plt.show()\n",
    "\n",
    "\n",
    "\n",
    "highest_value_index_lv = np.argmax(pearson_correlation_lv)\n",
    "\n",
    "plt.figure(figsize=(15, 10))\n",
    "plt.plot(feature_matrix[:, highest_value_index_lv], grades, \"*\")\n",
    "plt.gray()\n",
    "plt.title(\"Highest correlation feature with the grades(\"+ feature_names[highest_value_index_lv] + \")\")\n",
    "plt.xlabel(feature_names[highest_value_index_lv])\n",
    "plt.ylabel(\"Grades\")\n",
    "plt.show()\n",
    "\n",
    "\n",
    "highest_value_index_ls = np.argmax(pearson_correlation_ls)\n",
    "\n",
    "plt.figure(figsize=(15, 10))\n",
    "plt.plot(feature_matrix[:, highest_value_index_ls+14], grades, \"*\")\n",
    "plt.gray()\n",
    "plt.title(\"Highest correlation feature with the grades(\"+ feature_names[highest_value_index_ls + 14] + \")\")\n",
    "plt.xlabel(feature_names[highest_value_index_ls+14])\n",
    "plt.ylabel(\"Grades\")\n",
    "plt.show()"
   ]
  },
  {
   "cell_type": "markdown",
   "metadata": {},
   "source": [
    "<h2>Level B1: Lexical Sophistication feature table</h2>"
   ]
  },
  {
   "cell_type": "code",
   "execution_count": null,
   "metadata": {},
   "outputs": [],
   "source": [
    "pearson_correlation_ls = np.array(pearson_correlation_ls)\n",
    "p_scores_ls = np.array(p_scores_ls)\n",
    "\n",
    "data = np.stack([feature_names[14:], pearson_correlation_ls, p_scores_ls])\n",
    "\n",
    "df = pd.DataFrame(data.T, index=np.arange(14), columns=[\"Feature\", \"Pearson_Correlation\", \"p_score\"])\n",
    "df"
   ]
  },
  {
   "cell_type": "markdown",
   "metadata": {},
   "source": [
    "<h2>Level B2 (10 000 essays closest to the mean token count)</h2>"
   ]
  },
  {
   "cell_type": "code",
   "execution_count": null,
   "metadata": {
    "scrolled": false
   },
   "outputs": [],
   "source": [
    "level=\"b2\"\n",
    "\n",
    "feature_matrix = np.load(\"level_\" + level + \"_fm.npy\")\n",
    "grades = np.load(\"level_\" + level + \"_grades.npy\")\n",
    "\n",
    "pearson_correlation_lv = []\n",
    "p_scores_lv = []\n",
    "\n",
    "pearson_correlation_ls = []\n",
    "p_scores_ls = []\n",
    "\n",
    "for column in feature_matrix[:, :14].T:\n",
    "    calcs = pearsonr(column, grades)\n",
    "    pearson_correlation_lv.append(calcs[0])\n",
    "    p_scores_lv.append(calcs[1])\n",
    "\n",
    "pearson_correlation_lv = np.array(pearson_correlation_lv)\n",
    "    \n",
    "top_ten_indices_lv = np.abs(pearson_correlation_lv).argsort()[-10:][::-1].astype(\"int32\")\n",
    "print(\"Top ten indicies: \", top_ten_indices_lv)\n",
    "\n",
    "\n",
    "for column in feature_matrix[:, 14:].T:\n",
    "    calcs = pearsonr(column, grades)\n",
    "    pearson_correlation_ls.append(calcs[0])\n",
    "    p_scores_ls.append(calcs[1])\n",
    "\n",
    "pearson_correlation_ls = np.array(pearson_correlation_ls)\n",
    "top_ten_indices_ls = np.abs(pearson_correlation_ls).argsort()[-10:][::-1].astype(\"int32\")\n",
    "print(\"Top ten indicies: \", top_ten_indices_ls)\n",
    "colors = np.array(10)\n",
    "#colors = [\"blue\" for element in feature_names[top_ten_indices] if element[:2] == \"LV\"]\n",
    "#colors = [\"green\" for element in feature_names[top_ten_indices] if element[:2] == \"LS\"]\n",
    "\n",
    "\n",
    "#print(\"Top ten values: \" , pearson_correlation_lv[top_ten_indices_lv])\n",
    "\n",
    "ordinal_values = np.arange(10)\n",
    "\n",
    "plt.figure(figsize=(15, 10))\n",
    "plt.bar(ordinal_values-0.2, pearson_correlation_lv[top_ten_indices_lv], color=\"blue\", align=\"center\", label=\"Lexical Variation\", width=0.2)\n",
    "plt.title(\"Feature to grade correlation\")\n",
    "plt.xlabel(\"Feature names\")\n",
    "plt.ylabel(\"Correlation to grade\")\n",
    "plt.xticks(ordinal_values-0.5, feature_names[top_ten_indices_lv])\n",
    "\n",
    "for i, v in enumerate(pearson_correlation_lv[top_ten_indices_lv]):\n",
    "    plt.text(ordinal_values[i] - 0.2, v + 0.001, str(round(v, 4)), rotation=45)\n",
    "\n",
    "#plt.figure(figsize=(15, 10))\n",
    "plt.bar(ordinal_values, pearson_correlation_ls[top_ten_indices_ls], color=\"green\", align=\"center\", label=\"Lexical Sophistication\", width=0.2)\n",
    "plt.title(\"Feature to grade correlation\")\n",
    "plt.xlabel(\"Feature names\")\n",
    "plt.ylabel(\"Correlation to grade\")\n",
    "plt.xticks(ordinal_values, zip(feature_names[top_ten_indices_lv], feature_names[top_ten_indices_ls+14]), rotation=45)\n",
    "\n",
    "for i, v in enumerate(pearson_correlation_ls[top_ten_indices_ls]):\n",
    "    plt.text(ordinal_values[i], v + 0.001, str(round(v, 4)), rotation=45)\n",
    "\n",
    "plt.legend()\n",
    "plt.show()\n",
    "\n",
    "\n",
    "\n",
    "highest_value_index_lv = np.argmax(pearson_correlation_lv)\n",
    "\n",
    "plt.figure(figsize=(15, 10))\n",
    "plt.plot(feature_matrix[:, highest_value_index_lv], grades, \"*\")\n",
    "plt.gray()\n",
    "plt.title(\"Highest correlation feature with the grades(\"+ feature_names[highest_value_index_lv] + \")\")\n",
    "plt.xlabel(feature_names[highest_value_index_lv])\n",
    "plt.ylabel(\"Grades\")\n",
    "plt.show()\n",
    "\n",
    "\n",
    "highest_value_index_ls = np.argmax(pearson_correlation_ls)\n",
    "\n",
    "plt.figure(figsize=(15, 10))\n",
    "plt.plot(feature_matrix[:, highest_value_index_ls+14], grades, \"*\")\n",
    "plt.gray()\n",
    "plt.title(\"Highest correlation feature with the grades(\"+ feature_names[highest_value_index_ls + 14] + \")\")\n",
    "plt.xlabel(feature_names[highest_value_index_ls+14])\n",
    "plt.ylabel(\"Grades\")\n",
    "plt.show()"
   ]
  },
  {
   "cell_type": "markdown",
   "metadata": {},
   "source": [
    "<h2>Level B2: Lexical Sophistication feature table</h2>"
   ]
  },
  {
   "cell_type": "code",
   "execution_count": null,
   "metadata": {},
   "outputs": [],
   "source": [
    "pearson_correlation_ls = np.array(pearson_correlation_ls)\n",
    "p_scores_ls = np.array(p_scores_ls)\n",
    "\n",
    "data = np.stack([feature_names[14:], pearson_correlation_ls, p_scores_ls])\n",
    "\n",
    "df = pd.DataFrame(data.T, index=np.arange(14), columns=[\"Feature\", \"Pearson_Correlation\", \"p_score\"])\n",
    "df"
   ]
  },
  {
   "cell_type": "markdown",
   "metadata": {},
   "source": [
    "<h2>Level C1 (10 000 essays closest to the mean token count)</h2>"
   ]
  },
  {
   "cell_type": "code",
   "execution_count": null,
   "metadata": {
    "scrolled": false
   },
   "outputs": [],
   "source": [
    "level=\"c1\"\n",
    "\n",
    "feature_matrix = np.load(\"level_\" + level + \"_fm.npy\")\n",
    "grades = np.load(\"level_\" + level + \"_grades.npy\")\n",
    "\n",
    "pearson_correlation_lv = []\n",
    "p_scores_lv = []\n",
    "\n",
    "pearson_correlation_ls = []\n",
    "p_scores_ls = []\n",
    "\n",
    "for column in feature_matrix[:, :14].T:\n",
    "    calcs = pearsonr(column, grades)\n",
    "    pearson_correlation_lv.append(calcs[0])\n",
    "    p_scores_lv.append(calcs[1])\n",
    "\n",
    "pearson_correlation_lv = np.array(pearson_correlation_lv)\n",
    "    \n",
    "top_ten_indices_lv = np.abs(pearson_correlation_lv).argsort()[-10:][::-1].astype(\"int32\")\n",
    "print(\"Top ten indicies: \", top_ten_indices_lv)\n",
    "\n",
    "\n",
    "for column in feature_matrix[:, 14:].T:\n",
    "    calcs = pearsonr(column, grades)\n",
    "    pearson_correlation_ls.append(calcs[0])\n",
    "    p_scores_ls.append(calcs[1])\n",
    "\n",
    "pearson_correlation_ls = np.array(pearson_correlation_ls)\n",
    "top_ten_indices_ls = np.abs(pearson_correlation_ls).argsort()[-10:][::-1].astype(\"int32\")\n",
    "print(\"Top ten indicies: \", top_ten_indices_ls)\n",
    "colors = np.array(10)\n",
    "#colors = [\"blue\" for element in feature_names[top_ten_indices] if element[:2] == \"LV\"]\n",
    "#colors = [\"green\" for element in feature_names[top_ten_indices] if element[:2] == \"LS\"]\n",
    "\n",
    "\n",
    "#print(\"Top ten values: \" , pearson_correlation_lv[top_ten_indices_lv])\n",
    "\n",
    "ordinal_values = np.arange(10)\n",
    "\n",
    "plt.figure(figsize=(15, 10))\n",
    "plt.bar(ordinal_values-0.2, pearson_correlation_lv[top_ten_indices_lv], color=\"blue\", align=\"center\", label=\"Lexical Variation\", width=0.2)\n",
    "plt.title(\"Feature to grade correlation\")\n",
    "plt.xlabel(\"Feature names\")\n",
    "plt.ylabel(\"Correlation to grade\")\n",
    "plt.xticks(ordinal_values-0.5, feature_names[top_ten_indices_lv])\n",
    "\n",
    "for i, v in enumerate(pearson_correlation_lv[top_ten_indices_lv]):\n",
    "    plt.text(ordinal_values[i] - 0.2, v + 0.001, str(round(v, 4)), rotation=45)\n",
    "\n",
    "#plt.figure(figsize=(15, 10))\n",
    "plt.bar(ordinal_values, pearson_correlation_ls[top_ten_indices_ls], color=\"green\", align=\"center\", label=\"Lexical Sophistication\", width=0.2)\n",
    "plt.title(\"Feature to grade correlation\")\n",
    "plt.xlabel(\"Feature names\")\n",
    "plt.ylabel(\"Correlation to grade\")\n",
    "plt.xticks(ordinal_values, zip(feature_names[top_ten_indices_lv], feature_names[top_ten_indices_ls+14]), rotation=45)\n",
    "\n",
    "for i, v in enumerate(pearson_correlation_ls[top_ten_indices_ls]):\n",
    "    plt.text(ordinal_values[i], v + 0.001, str(round(v, 4)), rotation=45)\n",
    "\n",
    "plt.legend()\n",
    "plt.show()\n",
    "\n",
    "\n",
    "\n",
    "highest_value_index_lv = np.argmax(pearson_correlation_lv)\n",
    "\n",
    "plt.figure(figsize=(15, 10))\n",
    "plt.plot(feature_matrix[:, highest_value_index_lv], grades, \"*\")\n",
    "plt.gray()\n",
    "plt.title(\"Highest correlation feature with the grades(\"+ feature_names[highest_value_index_lv] + \")\")\n",
    "plt.xlabel(feature_names[highest_value_index_lv])\n",
    "plt.ylabel(\"Grades\")\n",
    "plt.show()\n",
    "\n",
    "\n",
    "highest_value_index_ls = np.argmax(pearson_correlation_ls)\n",
    "\n",
    "plt.figure(figsize=(15, 10))\n",
    "plt.plot(feature_matrix[:, highest_value_index_ls+14], grades, \"*\")\n",
    "plt.gray()\n",
    "plt.title(\"Highest correlation feature with the grades(\"+ feature_names[highest_value_index_ls + 14] + \")\")\n",
    "plt.xlabel(feature_names[highest_value_index_ls+14])\n",
    "plt.ylabel(\"Grades\")\n",
    "plt.show()"
   ]
  },
  {
   "cell_type": "markdown",
   "metadata": {},
   "source": [
    "<h2>Level C1: Lexical Sophistication feature table</h2>"
   ]
  },
  {
   "cell_type": "code",
   "execution_count": null,
   "metadata": {},
   "outputs": [],
   "source": [
    "pearson_correlation_ls = np.array(pearson_correlation_ls)\n",
    "p_scores_ls = np.array(p_scores_ls)\n",
    "\n",
    "data = np.stack([feature_names[14:], pearson_correlation_ls, p_scores_ls])\n",
    "\n",
    "df = pd.DataFrame(data.T, index=np.arange(14), columns=[\"Feature\", \"Pearson_Correlation\", \"p_score\"])\n",
    "df"
   ]
  },
  {
   "cell_type": "code",
   "execution_count": null,
   "metadata": {},
   "outputs": [],
   "source": []
  }
 ],
 "metadata": {
  "kernelspec": {
   "display_name": "Python 3",
   "language": "python",
   "name": "python3"
  },
  "language_info": {
   "codemirror_mode": {
    "name": "ipython",
    "version": 3
   },
   "file_extension": ".py",
   "mimetype": "text/x-python",
   "name": "python",
   "nbconvert_exporter": "python",
   "pygments_lexer": "ipython3",
   "version": "3.7.3"
  },
  "pycharm": {
   "stem_cell": {
    "cell_type": "raw",
    "source": [],
    "metadata": {
     "collapsed": false
    }
   }
  }
 },
 "nbformat": 4,
 "nbformat_minor": 2
}