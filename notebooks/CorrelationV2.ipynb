{
 "cells": [
  {
   "cell_type": "code",
   "execution_count": 1,
   "metadata": {
    "pycharm": {
     "is_executing": false
    }
   },
   "outputs": [],
   "source": [
    "import numpy as np\n",
    "import spacy\n",
    "from DataReader.XMLReader import get_essays\n",
    "from matplotlib import pyplot as plt\n",
    "from collections import Counter\n",
    "\n",
    "import operator\n",
    "from scipy import stats\n",
    "import math"
   ]
  },
  {
   "cell_type": "markdown",
   "metadata": {},
   "source": [
    "## 1. Load dataset\n",
    "\n",
    "- Several levels can be combined (e.g. levels = [1,2,3])\n",
    "- bin_score reduces the number of scores to 10 (see comment below)"
   ]
  },
  {
   "cell_type": "code",
   "execution_count": 2,
   "metadata": {
    "pycharm": {
     "is_executing": false
    }
   },
   "outputs": [
    {
     "name": "stdout",
     "text": [
      "done\nNumber of essays: 10000\n"
     ],
     "output_type": "stream"
    }
   ],
   "source": [
    "bin_scores = True # bin scores (1-10 => bin 1, 11-20 => bin 2, ... , 91 - 100 => bin 10)\n",
    "\n",
    "dataset_path = '/home/simon/Downloads/efcamdat/'\n",
    "levels = ['c1']\n",
    "\n",
    "\n",
    "from concurrent.futures import ThreadPoolExecutor, as_completed\n",
    "\n",
    "essays = []\n",
    "scores = []\n",
    "\n",
    "result = {}\n",
    "with ThreadPoolExecutor(max_workers=4) as executor:\n",
    "    \n",
    "    futures_level = {executor.submit(get_essays, dataset_path + 'level_' + level + '.xml'): level for level in levels}\n",
    "    for future in as_completed(futures_level):\n",
    "        level = futures_level[future]\n",
    "        try:\n",
    "            level_result = future.result()\n",
    "            result[level] = level_result\n",
    "        except Exception as exc:\n",
    "            print('%r generated an exception: %s' % (level, exc))\n",
    "        \n",
    "    for level in levels:\n",
    "        essays += result[level][0]\n",
    "        scores += result[level][1]\n",
    "scores = np.array(scores)\n",
    "if bin_scores:\n",
    "    scores = np.round(scores/10)\n",
    "print(\"done\")\n",
    "print(\"Number of essays: \" + str(len(essays)))"
   ]
  },
  {
   "cell_type": "markdown",
   "metadata": {},
   "source": [
    "## 2. Extract features"
   ]
  },
  {
   "cell_type": "code",
   "execution_count": 3,
   "metadata": {
    "pycharm": {
     "is_executing": false
    }
   },
   "outputs": [],
   "source": [
    "from essay_evaluation.pipeline import FeatureCollector\n",
    "from essay_evaluation.lexical_variation import LexicalVariationFeatures, features_lv\n",
    "from essay_evaluation.lexical_sophistication import LexicalSophisticationFeatures, features_ls\n",
    "from essay_evaluation.lexical_accuracy import SpellChecker, LexicalAccuracy\n",
    "nlp = spacy.load('en_core_web_sm')\n",
    "# we only need the tokenizer from spaCy\n",
    "nlp.remove_pipe('tagger')\n",
    "nlp.remove_pipe('parser')\n",
    "nlp.remove_pipe('ner')\n",
    "\n",
    "# add lv features\n",
    "#lv_feature_extractor = LexicalVariationFeatures() \n",
    "#nlp.add_pipe(lv_feature_extractor, name=lv_feature_extractor.name, last=True)\n",
    "\n",
    "# add ls features\n",
    "\n",
    "#ls_feature_extractor = LexicalSophisticationFeatures() \n",
    "#nlp.add_pipe(ls_feature_extractor, name=ls_feature_extractor.name, last=True)\n",
    "\n",
    "# add la features\n",
    "spell_checker = SpellChecker()\n",
    "nlp.add_pipe(spell_checker, spell_checker.name, last=True)\n",
    "la_feature_extractor = LexicalAccuracy()\n",
    "nlp.add_pipe(la_feature_extractor, la_feature_extractor, last=True)\n",
    "\n",
    "# add the feature collector to get a nice feature matrix\n",
    "feature_collector = FeatureCollector()\n",
    "nlp.add_pipe(feature_collector, name=feature_collector.name, last=True)\n",
    "\n",
    "\n",
    "# Do not change the order of the feature names! The feature collector adds the features in a predefined order to the \n",
    "# feature matrix\n",
    "feature_names = []\n",
    "#feature_names += features_lv\n",
    "#feature_names += features_ls\n",
    "feature_names += la_feature_extractor.feature_names\n",
    "\n",
    "\n",
    "\n",
    "docs = list(nlp.pipe(essays, batch_size=500))"
   ]
  },
  {
   "cell_type": "markdown",
   "metadata": {},
   "source": [
    "### Filter outliers"
   ]
  },
  {
   "cell_type": "code",
   "execution_count": 4,
   "metadata": {
    "pycharm": {
     "is_executing": false
    }
   },
   "outputs": [],
   "source": [
    "feature_matrix = np.array(feature_collector.feature_matrix)\n",
    "def is_outlier(doc):\n",
    "    return (len(doc) < 5 or len(doc) > 600 or\n",
    "            doc._.features[6] == 0  or #LV_HDD is 0 \n",
    "            doc._.features[13] > 2 or # LV_MATTR < 2\n",
    "            doc._.features[7] > 300 or # LV_DUGA\n",
    "            False\n",
    "           )# add more outlier conditions here\n",
    "\n",
    "docfilter = docs[:]\n",
    "\n",
    "#for doc in docfilter:\n",
    "#    if is_outlier(doc):\n",
    "#        index = docs.index(doc)\n",
    "#        del docs[index]\n",
    "#        del essays[index]\n",
    "#        feature_matrix = np.delete(feature_matrix,index,0)\n",
    "#        scores = np.delete(scores,index,0)\n",
    "#        \n"
   ]
  },
  {
   "cell_type": "code",
   "execution_count": 5,
   "metadata": {
    "pycharm": {
     "is_executing": false
    }
   },
   "outputs": [
    {
     "data": {
      "text/plain": "<Figure size 1728x432 with 2 Axes>",
      "image/png": "[encoded data removed]"
     },
     "metadata": {
      "needs_background": "light"
     },
     "output_type": "display_data"
    }
   ],
   "source": [
    "\n",
    "rows = math.ceil(len(feature_names)/3)\n",
    "columns = 3\n",
    "plt.figure(figsize=(columns*8, rows*6))\n",
    "\n",
    "for feature_index, feature_column in enumerate(feature_matrix.T):\n",
    "    plt.subplot(rows,columns,feature_index+1)\n",
    "    #plt.scatter(feature_column, scores)\n",
    "    plt.hist2d(feature_column, scores, (50, 10), cmap=plt.cm.jet)\n",
    "    plt.title('Scatter plot (' + feature_names[feature_index] + ' <--> overall score) | Levels ' + ','.join([str(level) for level in levels]))\n",
    "    plt.xlabel(feature_names[feature_index] + \"(index \" + str(feature_index)+\")\")\n",
    "    plt.ylabel('score')\n",
    "plt.show()"
   ]
  },
  {
   "cell_type": "markdown",
   "metadata": {},
   "source": [
    "## 3. Correlation measures\n",
    "We first define a function to easily make bar graphs based on the correlation data"
   ]
  },
  {
   "cell_type": "code",
   "execution_count": 6,
   "metadata": {
    "pycharm": {
     "is_executing": false
    }
   },
   "outputs": [],
   "source": [
    "def plot_correlation(x_values,y_values,x_labels,title):\n",
    "    plt.figure(figsize=(len(x_values), 10))\n",
    "    rects = plt.bar(np.arange(len(x_values)),y_values,width=1)\n",
    "\n",
    "    plt.xticks(np.arange(len(x_values)), x_labels)\n",
    "    plt.title(title)\n",
    "\n",
    "    for rect in rects:\n",
    "            height = rect.get_height()\n",
    "            plt.text(rect.get_x() + rect.get_width()/2., 1.02*height,\n",
    "                    str(round(height,3)),\n",
    "                    ha='center', va='bottom')"
   ]
  },
  {
   "cell_type": "markdown",
   "metadata": {},
   "source": [
    "#### 3.1 Linear Regression\n",
    "showing the correlation coefficient r^2"
   ]
  },
  {
   "cell_type": "code",
   "execution_count": 7,
   "metadata": {
    "pycharm": {
     "is_executing": false
    }
   },
   "outputs": [
    {
     "data": {
      "text/plain": "<Figure size 144x720 with 1 Axes>",
      "image/png": "[encoded data removed]"
     },
     "metadata": {
      "needs_background": "light"
     },
     "output_type": "display_data"
    }
   ],
   "source": [
    "correlation_values = []\n",
    "for feature_column in feature_matrix.T:\n",
    "    slope, intercept, r_value, p_value, std_err = stats.linregress(feature_column,scores)\n",
    "    correlation_values.append(r_value**2)\n",
    "\n",
    "plot_correlation(np.arange(len(feature_names)),correlation_values, feature_names,\"Linear regression r^2 | Levels: \" + ', '.join(map(str,levels)))"
   ]
  },
  {
   "cell_type": "markdown",
   "metadata": {},
   "source": [
    "#### 3.2 Spearman correlation"
   ]
  },
  {
   "cell_type": "code",
   "execution_count": 8,
   "metadata": {
    "pycharm": {
     "is_executing": false
    }
   },
   "outputs": [
    {
     "data": {
      "text/plain": "<Figure size 144x720 with 1 Axes>",
      "image/png": "[encoded data removed]"
     },
     "metadata": {
      "needs_background": "light"
     },
     "output_type": "display_data"
    }
   ],
   "source": [
    "correlation_values = []\n",
    "for feature_column in feature_matrix.T:\n",
    "    (corr, p_val) = stats.spearmanr(feature_column,scores)\n",
    "    correlation_values.append(corr)\n",
    "\n",
    "plot_correlation(np.arange(len(feature_names)),correlation_values, feature_names,\"Spearman correlation | Levels: \" + ', '.join(map(str,levels)))\n"
   ]
  },
  {
   "cell_type": "markdown",
   "metadata": {},
   "source": [
    "#### 3.3 pearson correlation"
   ]
  },
  {
   "cell_type": "code",
   "execution_count": 9,
   "metadata": {
    "scrolled": true,
    "pycharm": {
     "is_executing": false
    }
   },
   "outputs": [
    {
     "data": {
      "text/plain": "<Figure size 144x720 with 1 Axes>",
      "image/png": "[encoded data removed]"
     },
     "metadata": {
      "needs_background": "light"
     },
     "output_type": "display_data"
    },
    {
     "data": {
      "text/plain": "<Figure size 144x720 with 1 Axes>",
      "image/png": "[encoded data removed]"
     },
     "metadata": {
      "needs_background": "light"
     },
     "output_type": "display_data"
    }
   ],
   "source": [
    "correlation_values = []\n",
    "p_values = []\n",
    "for feature_column in feature_matrix.T:\n",
    "    (corr, p_val) = stats.pearsonr(feature_column,scores)\n",
    "    correlation_values.append(corr)\n",
    "    p_values.append(p_val)\n",
    "\n",
    "plot_correlation(np.arange(len(feature_names)),correlation_values, feature_names,\"Pearson correlation | Levels: \" + ', '.join(map(str,levels)))\n",
    "plot_correlation(np.arange(len(feature_names)),p_values, feature_names,\"Pearson p-value | Levels: \" + ', '.join(map(str,levels)))"
   ]
  },
  {
   "cell_type": "code",
   "execution_count": 42,
   "metadata": {
    "pycharm": {
     "is_executing": false,
     "name": "#%%\n"
    }
   },
   "outputs": [],
   "source": [
    "\n",
    "\n",
    "\n"
   ]
  }
 ],
 "metadata": {
  "kernelspec": {
   "display_name": "Python 3",
   "language": "python",
   "name": "python3"
  },
  "language_info": {
   "codemirror_mode": {
    "name": "ipython",
    "version": 3
   },
   "file_extension": ".py",
   "mimetype": "text/x-python",
   "name": "python",
   "nbconvert_exporter": "python",
   "pygments_lexer": "ipython3",
   "version": "3.7.3"
  },
  "pycharm": {
   "stem_cell": {
    "cell_type": "raw",
    "source": [],
    "metadata": {
     "collapsed": false
    }
   }
  }
 },
 "nbformat": 4,
 "nbformat_minor": 2
}