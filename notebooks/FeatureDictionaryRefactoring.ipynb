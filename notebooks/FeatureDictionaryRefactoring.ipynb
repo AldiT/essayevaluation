{
 "cells": [
  {
   "cell_type": "code",
   "execution_count": 1,
   "outputs": [],
   "source": [
    "import spacy\n",
    "from essay_evaluation.collocational_aspects import CollocationalAspects\n",
    "from essay_evaluation.lexical_accuracy import SpellChecker, CollocationPreprocessor, CollocationDectector, \\\n",
    "    CollocationEvaluator, LexicalAccuracy\n",
    "from essay_evaluation.lexical_density import LexicalDensityFeatures\n",
    "from essay_evaluation.lexical_sophistication import LexicalSophisticationFeatures\n",
    "from essay_evaluation.lexical_variation import LexicalVariationFeatures\n",
    "def setup_spacy():\n",
    "    nlp = spacy.load('en_core_web_sm')\n",
    "\n",
    "    # add all required components\n",
    "    spell_checker = SpellChecker()\n",
    "    nlp.add_pipe(spell_checker, name=spell_checker.name, last=True)\n",
    "\n",
    "    col_preproc = CollocationPreprocessor()\n",
    "    nlp.add_pipe(col_preproc, name=col_preproc.name, last=True)\n",
    "\n",
    "    col_detect = CollocationDectector()\n",
    "    nlp.add_pipe(col_detect, name=col_detect.name, last=True)\n",
    "\n",
    "    col_evaluator = CollocationEvaluator()\n",
    "    nlp.add_pipe(col_evaluator, name=col_evaluator.name, last=True)\n",
    "\n",
    "    # Add all feature extractors:\n",
    "    lvf = LexicalVariationFeatures()\n",
    "    lsf = LexicalSophisticationFeatures()\n",
    "    ldf = LexicalDensityFeatures()\n",
    "    la = LexicalAccuracy()\n",
    "    ca = CollocationalAspects()\n",
    "\n",
    "    nlp.add_pipe(lvf, name=lvf.name, last=True)\n",
    "    nlp.add_pipe(lsf, name=lsf.name, last=True)\n",
    "    nlp.add_pipe(la, name=la.name, last=True)\n",
    "    nlp.add_pipe(ca, name=ca.name, last=True)\n",
    "    nlp.add_pipe(ldf, name=ldf.name, last=True)\n",
    "\n",
    "    return nlp\n",
    "nlp = setup_spacy()"
   ],
   "metadata": {
    "collapsed": false,
    "pycharm": {
     "name": "#%%\n",
     "is_executing": false
    }
   }
  },
  {
   "cell_type": "markdown",
   "metadata": {
    "collapsed": true,
    "pycharm": {
     "name": "#%% md\n"
    }
   },
   "source": [
    "# Feature Dictionary Refactoring\n",
    "This notebook is for testing the system after saving all features inside a dictionary instead of an array."
   ]
  },
  {
   "cell_type": "markdown",
   "source": [
    "## Change proposition\n",
    "\n",
    "I want to propose following changes to our essay_evaluation python package:\n",
    "1. Let's use a dictionary to store the feature values.\n",
    "At the moment we add for each feature a new spaCy document extension (e.g. features_lv). This is always a list containing the index values (e.g. [0.7,0.1,0.4, ...]). While this is nice, as a list of lists can easily be converted to a numpy matrix, I think it's easy to mix them up. For example if we add a new index we might forget to update our code so that the index at position X might not be the same feature index as before (features_lv[x]). Also for the FormativeFeedbackEvaluator it would be much cleaner if we don't need to save the index like this:\n",
    "```\n",
    "# before\n",
    "binning_indicies = [6, 18, 19, 20, 21, 22, 28, 29, 30, 31, 32, 33]\n",
    "# after:\n",
    "binnding_features = ['LV_HDD', 'LV_W', ...]\n",
    "```\n",
    "\n",
    "Same goes for the classifier if we need specific feature values.\n",
    "\n",
    "2. There should be only one document extension for features\n",
    "Instead of having a lot of extension to get the feature index (doc._.features_lv , doc._.features_ld, ...) there should only be one place called doc._.features . All the keys of our indices have a unique namespace (LV, LD, LS, ...) so there's no way the can collide.\n",
    "\n",
    "```\n",
    "# before\n",
    "doc._.features_lv = [0.1,0.5,...]\n",
    "doc._.features_ca = [1, 24, 2, ...]\n",
    "#... and so on\n",
    "\n",
    "# after\n",
    "doc._.features = {\n",
    "    'LV_W': 3,\n",
    "    # ...\n",
    "    'CA_BIN1': 0.3,\n",
    "    # ...\n",
    "}\n",
    "```\n",
    "\n",
    "3. Let's use OrderedDict instead of a regular dictionary\n",
    "Starting with Python3.6+ the dict class keeps the order of the elements as they were inserted. I think we should consider backwards compatibility to Python3.5 as it's EOL is September 2020. Also see this: http://gandenberger.org/2018/03/10/ordered-dicts-vs-ordereddict/\n",
    "\n",
    "4. To maintain backwards compatibility: keep all list indexes for now\n",
    "We're using the doc._.features_XX lists a lot in our code / notebooks. So I would not remove them yet. Instead let's just add the dictionary additionally."
   ],
   "metadata": {
    "collapsed": false,
    "pycharm": {
     "name": "#%% md\n"
    }
   }
  },
  {
   "cell_type": "markdown",
   "source": [
    "# Testing the new approach \n",
    "\n",
    "We will collect the feature indices using the old and new way.\n",
    "Then we compare if both give us the same result and everything still works as before. \n",
    "**It's very important that none of our existing code breaks!**"
   ],
   "metadata": {
    "collapsed": false,
    "pycharm": {
     "name": "#%% md\n"
    }
   }
  },
  {
   "cell_type": "code",
   "execution_count": 2,
   "outputs": [
    {
     "data": {
      "text/plain": "Feeling likehome! Are you looking for a home which combines modern living and traditional craftsmen work in a unique way? Have you ever dreamed of feeling the cool breeze of the Pacific when you are waking up? If yes, then welcome to Pacific Heights. The completely remodeled kitchen  which offers you all kind of modern appliances - will enable you to be your own chef. You will enjoy your dinner on the wooden veranda with a once in a lifetime view over the Pacific. Even during rainy days you can enjoy the great view under the rustic porch. The staircase and trim throughout the house are still original, giving the house a special feeling of being comfortable. The apartment is perfectly suited for families with its three bedrooms and two bathrooms, both in line with the rustic and cosy design of the apartment. You can rent the apartment for $ 1850 per month plus the cleaning deposit. Pets are welcome. Do not miss this unique opportunity to get your ideal living space."
     },
     "metadata": {},
     "output_type": "execute_result",
     "execution_count": 2
    }
   ],
   "source": [
    "# sample text from EFCAMDAT\n",
    "text = 'Feeling likehome! Are you looking for a home which combines modern living and traditional craftsmen work in a unique way? Have you ever dreamed of feeling the cool breeze of the Pacific when you are waking up? If yes, then welcome to Pacific Heights. The completely remodeled kitchen  which offers you all kind of modern appliances - will enable you to be your own chef. You will enjoy your dinner on the wooden veranda with a once in a lifetime view over the Pacific. Even during rainy days you can enjoy the great view under the rustic porch. The staircase and trim throughout the house are still original, giving the house a special feeling of being comfortable. The apartment is perfectly suited for families with its three bedrooms and two bathrooms, both in line with the rustic and cosy design of the apartment. You can rent the apartment for $ 1850 per month plus the cleaning deposit. Pets are welcome. Do not miss this unique opportunity to get your ideal living space.'\n",
    "doc = nlp(text)\n",
    "doc"
   ],
   "metadata": {
    "collapsed": false,
    "pycharm": {
     "name": "#%%\n",
     "is_executing": false
    }
   }
  },
  {
   "cell_type": "code",
   "execution_count": 3,
   "outputs": [
    {
     "name": "stdout",
     "text": [
      "NAME LIST INDEX VALUE (LEGACY) NEW DICT VALUE\n"
     ],
     "output_type": "stream"
    }
   ],
   "source": [
    "legacy_feature_values = doc._.features_lv + doc._.features_ls + doc._.features_la + doc._.features_ca + doc._.features_ld\n",
    "legacy_feature_names = all_feature_names = LexicalVariationFeatures.feature_names + LexicalSophisticationFeatures.feature_names + \\\n",
    "                    LexicalAccuracy.feature_names + CollocationalAspects.feature_names + LexicalDensityFeatures.feature_names\n",
    "print(\"NAME\", \"LIST INDEX VALUE (LEGACY)\", \"NEW DICT VALUE\")\n",
    "result = {\n",
    "    \"Name\": [],\n",
    "    \"Old Array\": [],\n",
    "    \"New Dictionary\": [],\n",
    "    \"Equal\": []\n",
    "}\n",
    "for index, feature_name in enumerate(legacy_feature_names):\n",
    "    result[\"Name\"].append(feature_name)\n",
    "    result[\"Old Array\"].append(legacy_feature_values[index])\n",
    "    result[\"New Dictionary\"].append(doc._.features[feature_name])\n",
    "    result[\"Equal\"].append(legacy_feature_values[index] == doc._.features[feature_name])"
   ],
   "metadata": {
    "collapsed": false,
    "pycharm": {
     "name": "#%%\n",
     "is_executing": false
    }
   }
  },
  {
   "cell_type": "code",
   "execution_count": 4,
   "outputs": [
    {
     "data": {
      "text/plain": "            Name      Old Array  New Dictionary  Equal\n0           LV_W      80.000000       80.000000   True\n1          LV_WT      68.000000       68.000000   True\n2         LV_WT1      58.000000       58.000000   True\n3         LV_TTR       0.850000        0.850000   True\n4        LV_CTTR       5.375872        5.375872   True\n5        LV_RTTR       7.602631        7.602631   True\n6         LV_HDD       0.929236        0.929236   True\n7        LV_DUGA     118.153359      118.153359   True\n8        LV_MAAS       0.008464        0.008464   True\n9        LV_SUMM       0.974421        0.974421   True\n10      LV_YULEK       0.004375        0.004375   True\n11       LV_MTLD     149.333333      149.333333   True\n12      LV_MSTTR       0.933333        0.933333   True\n13      LV_MATTR       0.934286        0.934286   True\n14     LS_FPC_NG       0.430851        0.430851   True\n15     LS_FPC_NA       0.005319        0.005319   True\n16     LS_FPC_TC       0.037234        0.037234   True\n17     LS_FPC_BS       0.021277        0.021277   True\n18     LS_FPC_CA       0.031915        0.031915   True\n19     LS_FPC_CT       0.031915        0.031915   True\n20   LS_FPC_CGA1       0.319149        0.319149   True\n21   LS_FPC_CGA2       0.021277        0.021277   True\n22   LS_FPC_CGA3       0.000000        0.000000   True\n23    LS_FOMN_NG   16731.333333    16731.333333   True\n24    LS_FOMN_NA    5236.000000     5236.000000   True\n25    LS_FOMN_TC  539203.316667   539203.316667   True\n26    LS_FOMN_BS     650.500000      650.500000   True\n27    LS_FOMN_CA       0.000000        0.000000   True\n28         LA_ER       0.005319        0.005319   True\n29  LA_COL_ERR_R       0.584906        0.584906   True\n30     CA_BIN1_R       0.272727        0.272727   True\n31     CA_BIN2_R       0.045455        0.045455   True\n32     CA_BIN3_R       0.681818        0.681818   True\n33       LD_LXUR       0.446809        0.446809   True\n34       LD_GRUR       0.154255        0.154255   True",
      "text/html": "<div>\n<style scoped>\n    .dataframe tbody tr th:only-of-type {\n        vertical-align: middle;\n    }\n\n    .dataframe tbody tr th {\n        vertical-align: top;\n    }\n\n    .dataframe thead th {\n        text-align: right;\n    }\n</style>\n<table border=\"1\" class=\"dataframe\">\n  <thead>\n    <tr style=\"text-align: right;\">\n      <th></th>\n      <th>Name</th>\n      <th>Old Array</th>\n      <th>New Dictionary</th>\n      <th>Equal</th>\n    </tr>\n  </thead>\n  <tbody>\n    <tr>\n      <th>0</th>\n      <td>LV_W</td>\n      <td>80.000000</td>\n      <td>80.000000</td>\n      <td>True</td>\n    </tr>\n    <tr>\n      <th>1</th>\n      <td>LV_WT</td>\n      <td>68.000000</td>\n      <td>68.000000</td>\n      <td>True</td>\n    </tr>\n    <tr>\n      <th>2</th>\n      <td>LV_WT1</td>\n      <td>58.000000</td>\n      <td>58.000000</td>\n      <td>True</td>\n    </tr>\n    <tr>\n      <th>3</th>\n      <td>LV_TTR</td>\n      <td>0.850000</td>\n      <td>0.850000</td>\n      <td>True</td>\n    </tr>\n    <tr>\n      <th>4</th>\n      <td>LV_CTTR</td>\n      <td>5.375872</td>\n      <td>5.375872</td>\n      <td>True</td>\n    </tr>\n    <tr>\n      <th>5</th>\n      <td>LV_RTTR</td>\n      <td>7.602631</td>\n      <td>7.602631</td>\n      <td>True</td>\n    </tr>\n    <tr>\n      <th>6</th>\n      <td>LV_HDD</td>\n      <td>0.929236</td>\n      <td>0.929236</td>\n      <td>True</td>\n    </tr>\n    <tr>\n      <th>7</th>\n      <td>LV_DUGA</td>\n      <td>118.153359</td>\n      <td>118.153359</td>\n      <td>True</td>\n    </tr>\n    <tr>\n      <th>8</th>\n      <td>LV_MAAS</td>\n      <td>0.008464</td>\n      <td>0.008464</td>\n      <td>True</td>\n    </tr>\n    <tr>\n      <th>9</th>\n      <td>LV_SUMM</td>\n      <td>0.974421</td>\n      <td>0.974421</td>\n      <td>True</td>\n    </tr>\n    <tr>\n      <th>10</th>\n      <td>LV_YULEK</td>\n      <td>0.004375</td>\n      <td>0.004375</td>\n      <td>True</td>\n    </tr>\n    <tr>\n      <th>11</th>\n      <td>LV_MTLD</td>\n      <td>149.333333</td>\n      <td>149.333333</td>\n      <td>True</td>\n    </tr>\n    <tr>\n      <th>12</th>\n      <td>LV_MSTTR</td>\n      <td>0.933333</td>\n      <td>0.933333</td>\n      <td>True</td>\n    </tr>\n    <tr>\n      <th>13</th>\n      <td>LV_MATTR</td>\n      <td>0.934286</td>\n      <td>0.934286</td>\n      <td>True</td>\n    </tr>\n    <tr>\n      <th>14</th>\n      <td>LS_FPC_NG</td>\n      <td>0.430851</td>\n      <td>0.430851</td>\n      <td>True</td>\n    </tr>\n    <tr>\n      <th>15</th>\n      <td>LS_FPC_NA</td>\n      <td>0.005319</td>\n      <td>0.005319</td>\n      <td>True</td>\n    </tr>\n    <tr>\n      <th>16</th>\n      <td>LS_FPC_TC</td>\n      <td>0.037234</td>\n      <td>0.037234</td>\n      <td>True</td>\n    </tr>\n    <tr>\n      <th>17</th>\n      <td>LS_FPC_BS</td>\n      <td>0.021277</td>\n      <td>0.021277</td>\n      <td>True</td>\n    </tr>\n    <tr>\n      <th>18</th>\n      <td>LS_FPC_CA</td>\n      <td>0.031915</td>\n      <td>0.031915</td>\n      <td>True</td>\n    </tr>\n    <tr>\n      <th>19</th>\n      <td>LS_FPC_CT</td>\n      <td>0.031915</td>\n      <td>0.031915</td>\n      <td>True</td>\n    </tr>\n    <tr>\n      <th>20</th>\n      <td>LS_FPC_CGA1</td>\n      <td>0.319149</td>\n      <td>0.319149</td>\n      <td>True</td>\n    </tr>\n    <tr>\n      <th>21</th>\n      <td>LS_FPC_CGA2</td>\n      <td>0.021277</td>\n      <td>0.021277</td>\n      <td>True</td>\n    </tr>\n    <tr>\n      <th>22</th>\n      <td>LS_FPC_CGA3</td>\n      <td>0.000000</td>\n      <td>0.000000</td>\n      <td>True</td>\n    </tr>\n    <tr>\n      <th>23</th>\n      <td>LS_FOMN_NG</td>\n      <td>16731.333333</td>\n      <td>16731.333333</td>\n      <td>True</td>\n    </tr>\n    <tr>\n      <th>24</th>\n      <td>LS_FOMN_NA</td>\n      <td>5236.000000</td>\n      <td>5236.000000</td>\n      <td>True</td>\n    </tr>\n    <tr>\n      <th>25</th>\n      <td>LS_FOMN_TC</td>\n      <td>539203.316667</td>\n      <td>539203.316667</td>\n      <td>True</td>\n    </tr>\n    <tr>\n      <th>26</th>\n      <td>LS_FOMN_BS</td>\n      <td>650.500000</td>\n      <td>650.500000</td>\n      <td>True</td>\n    </tr>\n    <tr>\n      <th>27</th>\n      <td>LS_FOMN_CA</td>\n      <td>0.000000</td>\n      <td>0.000000</td>\n      <td>True</td>\n    </tr>\n    <tr>\n      <th>28</th>\n      <td>LA_ER</td>\n      <td>0.005319</td>\n      <td>0.005319</td>\n      <td>True</td>\n    </tr>\n    <tr>\n      <th>29</th>\n      <td>LA_COL_ERR_R</td>\n      <td>0.584906</td>\n      <td>0.584906</td>\n      <td>True</td>\n    </tr>\n    <tr>\n      <th>30</th>\n      <td>CA_BIN1_R</td>\n      <td>0.272727</td>\n      <td>0.272727</td>\n      <td>True</td>\n    </tr>\n    <tr>\n      <th>31</th>\n      <td>CA_BIN2_R</td>\n      <td>0.045455</td>\n      <td>0.045455</td>\n      <td>True</td>\n    </tr>\n    <tr>\n      <th>32</th>\n      <td>CA_BIN3_R</td>\n      <td>0.681818</td>\n      <td>0.681818</td>\n      <td>True</td>\n    </tr>\n    <tr>\n      <th>33</th>\n      <td>LD_LXUR</td>\n      <td>0.446809</td>\n      <td>0.446809</td>\n      <td>True</td>\n    </tr>\n    <tr>\n      <th>34</th>\n      <td>LD_GRUR</td>\n      <td>0.154255</td>\n      <td>0.154255</td>\n      <td>True</td>\n    </tr>\n  </tbody>\n</table>\n</div>"
     },
     "metadata": {},
     "output_type": "execute_result",
     "execution_count": 4
    }
   ],
   "source": [
    "import pandas as pd\n",
    "pd.DataFrame(data=result)"
   ],
   "metadata": {
    "collapsed": false,
    "pycharm": {
     "name": "#%%\n",
     "is_executing": false
    }
   }
  },
  {
   "cell_type": "code",
   "execution_count": null,
   "outputs": [],
   "source": [
    "\n"
   ],
   "metadata": {
    "collapsed": false,
    "pycharm": {
     "name": "#%%\n"
    }
   }
  }
 ],
 "metadata": {
  "kernelspec": {
   "display_name": "Python 3",
   "language": "python",
   "name": "python3"
  },
  "language_info": {
   "codemirror_mode": {
    "name": "ipython",
    "version": 2
   },
   "file_extension": ".py",
   "mimetype": "text/x-python",
   "name": "python",
   "nbconvert_exporter": "python",
   "pygments_lexer": "ipython2",
   "version": "2.7.6"
  },
  "pycharm": {
   "stem_cell": {
    "cell_type": "raw",
    "source": [],
    "metadata": {
     "collapsed": false
    }
   }
  }
 },
 "nbformat": 4,
 "nbformat_minor": 0
}