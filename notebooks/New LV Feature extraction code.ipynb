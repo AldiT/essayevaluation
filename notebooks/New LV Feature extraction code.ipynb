{
 "cells": [
  {
   "cell_type": "code",
   "execution_count": null,
   "metadata": {},
   "outputs": [],
   "source": [
    "import spacy\n",
    "from DataReader.XMLReader import XMLReader\n",
    "from essay_evaluation.lexical_variation import LexicalVariationFeatures\n",
    "\n",
    "nlp = spacy.load('en_core_web_sm')\n",
    "nlp.add_pipe(LexicalVariationFeatures(), after=\"ner\")\n",
    "\n",
    "\n",
    "path = \"EF-dataset/Ef1.xml\"\n",
    "reader = XMLReader(path)\n",
    "tree = reader.get_tree_object()\n",
    "writings_tags = tree.find_all(\"writing\")\n",
    "writings = [writing.find(\"text\").text for writing in writings_tags[:10]]\n",
    "\n",
    "\n",
    "print()\n",
    "\n",
    "for doc in nlp.pipe(writings): # !! IMPORTANT PART !! run it as a spacy pipeline to use more CPUs!\n",
    "    print(doc._.features_lv)\n",
    "    print(\"##############\")"
   ]
  },
  {
   "cell_type": "code",
   "execution_count": null,
   "metadata": {},
   "outputs": [],
   "source": []
  },
  {
   "cell_type": "markdown",
   "metadata": {},
   "source": []
  }
 ],
 "metadata": {
  "kernelspec": {
   "display_name": "Python 3",
   "language": "python",
   "name": "python3"
  },
  "language_info": {
   "codemirror_mode": {
    "name": "ipython",
    "version": 3
   },
   "file_extension": ".py",
   "mimetype": "text/x-python",
   "name": "python",
   "nbconvert_exporter": "python",
   "pygments_lexer": "ipython3",
   "version": "3.7.4"
  },
  "pycharm": {
   "stem_cell": {
    "cell_type": "raw",
    "source": [],
    "metadata": {
     "collapsed": false
    }
   }
  }
 },
 "nbformat": 4,
 "nbformat_minor": 2
}